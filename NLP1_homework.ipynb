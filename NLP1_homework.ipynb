{
  "nbformat": 4,
  "nbformat_minor": 0,
  "metadata": {
    "colab": {
      "provenance": [],
      "toc_visible": true,
      "include_colab_link": true
    },
    "kernelspec": {
      "name": "python3",
      "display_name": "Python 3"
    },
    "language_info": {
      "name": "python"
    }
  },
  "cells": [
    {
      "cell_type": "markdown",
      "metadata": {
        "id": "view-in-github",
        "colab_type": "text"
      },
      "source": [
        "<a href=\"https://colab.research.google.com/github/DmitriySechkin/ds-learning-sb/blob/main/NLP1_homework.ipynb\" target=\"_parent\"><img src=\"https://colab.research.google.com/assets/colab-badge.svg\" alt=\"Open In Colab\"/></a>"
      ]
    },
    {
      "cell_type": "markdown",
      "source": [
        "###ML1_1:\n",
        "https://www.hackerrank.com/challenges/capturing-non-capturing-groups/problem?isFullScreen=true\n",
        "\n",
        "###ML1_2:\n",
        "https://www.hackerrank.com/challenges/branch-reset-groups/problem?isFullScreen=true\n",
        "\n",
        "###ML1_3:\n",
        "https://www.hackerrank.com/challenges/detect-html-links/problem?isFullScreen=true\n",
        "\n",
        "###ML1_4: Реализовать stemming, lemmatization & BoW на следующем датасете: https://cloud.mail.ru/public/Z4L3/vB8GcgTtK (Russian Toxic-abuse comments)"
      ],
      "metadata": {
        "id": "dH7qx_irU4Y8"
      }
    },
    {
      "cell_type": "code",
      "source": [
        "# ML1_1\n",
        "\n",
        "import re\n",
        "\n",
        "patt = r'(ok){3,}'\n",
        "string = 'okokokok'\n",
        "\n",
        "re.match(patt, string)\n"
      ],
      "metadata": {
        "id": "e55YBS3Qlf0U",
        "outputId": "a535531a-2389-4d3b-b1b1-e57046245c82",
        "colab": {
          "base_uri": "https://localhost:8080/"
        }
      },
      "execution_count": 2,
      "outputs": [
        {
          "output_type": "execute_result",
          "data": {
            "text/plain": [
              "<re.Match object; span=(0, 8), match='okokokok'>"
            ]
          },
          "metadata": {},
          "execution_count": 2
        }
      ]
    },
    {
      "cell_type": "code",
      "source": [
        "# ML1_2\n",
        "\n",
        "import re\n",
        "\n",
        "pos_test = [\n",
        "  '12-34-56-78',\n",
        "  '12:34:56:78',\n",
        "  '12---34---56---78',\n",
        "  '12.34.56.78'\n",
        " ]\n",
        "\n",
        "neg_test = [\n",
        "  '1-234-56-78',\n",
        "  '12-45.78:10'\n",
        "]\n",
        "\n",
        "\n",
        "patt = r'^(((\\d{2}-){3})|(\\d{2}:){3}|(\\d{2}---){3}|(\\d{2}\\.){3})\\d{2}$'\n",
        "\n",
        "for t in pos_test:\n",
        "  m = re.match(patt, t)\n",
        "  print(m)\n",
        "\n",
        "for n in neg_test:\n",
        "  m = re.match(patt, n)\n",
        "  print(m)"
      ],
      "metadata": {
        "id": "xJfkstKpqsXp",
        "colab": {
          "base_uri": "https://localhost:8080/"
        },
        "outputId": "0ed5ba55-3118-4397-e72d-73faaebb48e2"
      },
      "execution_count": 5,
      "outputs": [
        {
          "output_type": "stream",
          "name": "stdout",
          "text": [
            "<re.Match object; span=(0, 11), match='12-34-56-78'>\n",
            "<re.Match object; span=(0, 11), match='12:34:56:78'>\n",
            "<re.Match object; span=(0, 17), match='12---34---56---78'>\n",
            "<re.Match object; span=(0, 11), match='12.34.56.78'>\n",
            "None\n",
            "None\n"
          ]
        }
      ]
    },
    {
      "cell_type": "code",
      "source": [
        "# ML1_3:\n",
        "\n",
        "import re\n",
        "\n",
        "n = int(input())\n",
        "\n",
        "patt = r'<a\\shref=\\\"(.*?)\\\".*?>([^<>]*)</'\n",
        "\n",
        "for i in range(n):\n",
        "    string = input()\n",
        "    res = re.findall(patt, string)\n",
        "    if res:\n",
        "        for r in res:\n",
        "            print(r[0].strip(), r[1].strip(), sep=',')"
      ],
      "metadata": {
        "id": "JofiarGKo5uV"
      },
      "execution_count": null,
      "outputs": []
    },
    {
      "cell_type": "code",
      "source": [],
      "metadata": {
        "id": "TpnOldhHyo3C"
      },
      "execution_count": null,
      "outputs": []
    }
  ]
}