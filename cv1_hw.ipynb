{
  "cells": [
    {
      "cell_type": "markdown",
      "metadata": {
        "id": "view-in-github",
        "colab_type": "text"
      },
      "source": [
        "<a href=\"https://colab.research.google.com/github/DmitriySechkin/ds-learning-sb/blob/main/cv1_hw.ipynb\" target=\"_parent\"><img src=\"https://colab.research.google.com/assets/colab-badge.svg\" alt=\"Open In Colab\"/></a>"
      ]
    },
    {
      "cell_type": "code",
      "execution_count": 1,
      "metadata": {
        "id": "in0PyicHhZDG"
      },
      "outputs": [],
      "source": [
        "import numpy\n",
        "import torch\n",
        "import torch.nn as nn\n",
        "import torchvision.models as models\n",
        "from torchvision import datasets\n",
        "from torch.utils.data import DataLoader"
      ]
    },
    {
      "cell_type": "code",
      "execution_count": null,
      "metadata": {
        "id": "73ieMA485Tme"
      },
      "outputs": [],
      "source": [
        "# архитектура модели +\n",
        "# загрузчик данных +\n",
        "# формирование батча +\n",
        "# оптимизатор +\n",
        "# функция потерь +\n",
        "# опционально шедулеры -\n",
        "# трейн луп"
      ]
    },
    {
      "cell_type": "code",
      "execution_count": 2,
      "metadata": {
        "colab": {
          "base_uri": "https://localhost:8080/"
        },
        "id": "SI8UCZuy7hTK",
        "outputId": "89cddce2-dc57-43c0-8b67-472aa63fe416"
      },
      "outputs": [
        {
          "output_type": "stream",
          "name": "stdout",
          "text": [
            "Downloading http://yann.lecun.com/exdb/mnist/train-images-idx3-ubyte.gz\n",
            "Downloading http://yann.lecun.com/exdb/mnist/train-images-idx3-ubyte.gz to ./MNIST/raw/train-images-idx3-ubyte.gz\n"
          ]
        },
        {
          "output_type": "stream",
          "name": "stderr",
          "text": [
            "100%|██████████| 9912422/9912422 [00:00<00:00, 70564902.04it/s]\n"
          ]
        },
        {
          "output_type": "stream",
          "name": "stdout",
          "text": [
            "Extracting ./MNIST/raw/train-images-idx3-ubyte.gz to ./MNIST/raw\n",
            "\n",
            "Downloading http://yann.lecun.com/exdb/mnist/train-labels-idx1-ubyte.gz\n",
            "Downloading http://yann.lecun.com/exdb/mnist/train-labels-idx1-ubyte.gz to ./MNIST/raw/train-labels-idx1-ubyte.gz\n"
          ]
        },
        {
          "output_type": "stream",
          "name": "stderr",
          "text": [
            "100%|██████████| 28881/28881 [00:00<00:00, 34909421.85it/s]\n"
          ]
        },
        {
          "output_type": "stream",
          "name": "stdout",
          "text": [
            "Extracting ./MNIST/raw/train-labels-idx1-ubyte.gz to ./MNIST/raw\n",
            "\n",
            "Downloading http://yann.lecun.com/exdb/mnist/t10k-images-idx3-ubyte.gz\n",
            "Downloading http://yann.lecun.com/exdb/mnist/t10k-images-idx3-ubyte.gz to ./MNIST/raw/t10k-images-idx3-ubyte.gz\n"
          ]
        },
        {
          "output_type": "stream",
          "name": "stderr",
          "text": [
            "100%|██████████| 1648877/1648877 [00:00<00:00, 47233242.70it/s]"
          ]
        },
        {
          "output_type": "stream",
          "name": "stdout",
          "text": [
            "Extracting ./MNIST/raw/t10k-images-idx3-ubyte.gz to ./MNIST/raw\n"
          ]
        },
        {
          "output_type": "stream",
          "name": "stderr",
          "text": [
            "\n"
          ]
        },
        {
          "output_type": "stream",
          "name": "stdout",
          "text": [
            "\n",
            "Downloading http://yann.lecun.com/exdb/mnist/t10k-labels-idx1-ubyte.gz\n",
            "Downloading http://yann.lecun.com/exdb/mnist/t10k-labels-idx1-ubyte.gz to ./MNIST/raw/t10k-labels-idx1-ubyte.gz\n"
          ]
        },
        {
          "output_type": "stream",
          "name": "stderr",
          "text": [
            "100%|██████████| 4542/4542 [00:00<00:00, 5854495.63it/s]\n"
          ]
        },
        {
          "output_type": "stream",
          "name": "stdout",
          "text": [
            "Extracting ./MNIST/raw/t10k-labels-idx1-ubyte.gz to ./MNIST/raw\n",
            "\n"
          ]
        }
      ],
      "source": [
        "train_dataset = datasets.MNIST('.', download=True)\n",
        "test_dataset = datasets.MNIST('.', download=True, train=False)"
      ]
    },
    {
      "cell_type": "code",
      "source": [
        "len(train_dataset)"
      ],
      "metadata": {
        "colab": {
          "base_uri": "https://localhost:8080/"
        },
        "id": "5jMKXfUBoS_j",
        "outputId": "15bd894e-cfb9-4faf-f36d-aa460ce4bdd6"
      },
      "execution_count": 3,
      "outputs": [
        {
          "output_type": "execute_result",
          "data": {
            "text/plain": [
              "60000"
            ]
          },
          "metadata": {},
          "execution_count": 3
        }
      ]
    },
    {
      "cell_type": "code",
      "source": [
        "len(test_dataset)"
      ],
      "metadata": {
        "colab": {
          "base_uri": "https://localhost:8080/"
        },
        "id": "DWzCcZu6oYSk",
        "outputId": "8ee7b6a1-c298-4e7f-fb4d-20bbdf898c3a"
      },
      "execution_count": 4,
      "outputs": [
        {
          "output_type": "execute_result",
          "data": {
            "text/plain": [
              "10000"
            ]
          },
          "metadata": {},
          "execution_count": 4
        }
      ]
    },
    {
      "cell_type": "code",
      "execution_count": 6,
      "metadata": {
        "colab": {
          "base_uri": "https://localhost:8080/"
        },
        "id": "dhJuBtoz7f43",
        "outputId": "939ec778-0361-4ff4-9ecf-4e6fed0fcbb6"
      },
      "outputs": [
        {
          "output_type": "execute_result",
          "data": {
            "text/plain": [
              "(<PIL.Image.Image image mode=L size=28x28>, 7)"
            ]
          },
          "metadata": {},
          "execution_count": 6
        }
      ],
      "source": [
        "test_dataset[0]"
      ]
    },
    {
      "cell_type": "code",
      "execution_count": 7,
      "metadata": {
        "colab": {
          "base_uri": "https://localhost:8080/",
          "height": 430
        },
        "id": "0zXXXYP37gFL",
        "outputId": "b13d9f57-5844-41c1-b403-e1b522495c50"
      },
      "outputs": [
        {
          "output_type": "display_data",
          "data": {
            "text/plain": [
              "<Figure size 640x480 with 1 Axes>"
            ],
            "image/png": "[encoded data removed]"
          },
          "metadata": {}
        }
      ],
      "source": [
        "%matplotlib inline\n",
        "import matplotlib.pyplot as plt\n",
        "\n",
        "plt.imshow(train_dataset.data[1].detach().numpy())\n",
        "plt.show()"
      ]
    },
    {
      "cell_type": "code",
      "execution_count": 9,
      "metadata": {
        "id": "LdAH7oiY8Mxv"
      },
      "outputs": [],
      "source": [
        "class LinearModel(nn.Module):\n",
        "  def __init__(self, input_dim, hidden_dim, output_dim, dropout_p=0.1):\n",
        "    super().__init__()\n",
        "    self.linear1 = nn.Linear(input_dim, hidden_dim)\n",
        "    self.linear2 = nn.Linear(hidden_dim, hidden_dim)\n",
        "    self.linear3 = nn.Linear(hidden_dim, hidden_dim)\n",
        "    self.linear4 = nn.Linear(hidden_dim, output_dim)\n",
        "\n",
        "    self.do1 = nn.Dropout(dropout_p)\n",
        "    self.do2 = nn.Dropout(dropout_p)\n",
        "    self.do3 = nn.Dropout(dropout_p)\n",
        "    self.activation = nn.ReLU()\n",
        "\n",
        "  def forward(self, x):\n",
        "\n",
        "    x = self.do1(self.activation(self.linear1(x)))\n",
        "    x = self.do2(self.activation(self.linear2(x)))\n",
        "    x = self.do3(self.activation(self.linear3(x)))\n",
        "\n",
        "    return self.linear4(x)"
      ]
    },
    {
      "cell_type": "code",
      "execution_count": 15,
      "metadata": {
        "id": "aImjm1_u8NR8"
      },
      "outputs": [],
      "source": [
        "def collate_fn(data: list):\n",
        "  # data = [(pic, target)...]\n",
        "  pics = []\n",
        "  target = []\n",
        "\n",
        "  for item in data:\n",
        "    pics.append(numpy.array(item[0]))\n",
        "    target.append(item[1])\n",
        "\n",
        "  pics = torch.from_numpy(numpy.array(pics)).float() / 255 # B x W x H\n",
        "  target = torch.from_numpy(numpy.array(target))\n",
        "\n",
        "  return {\n",
        "      'data': pics.view(pics.size(0), -1),\n",
        "      'target': target,\n",
        "      }\n"
      ]
    },
    {
      "cell_type": "code",
      "execution_count": 12,
      "metadata": {
        "id": "uPJauY4hAqJ6"
      },
      "outputs": [],
      "source": [
        "# hyperparams\n",
        "inp_dim = 28 * 28\n",
        "hidden = 256\n",
        "out_dim = 10\n",
        "device_id = 0\n",
        "device = 'cpu' if device_id == -1 else f'cuda:{device_id}'\n",
        "n_epochs = 5\n",
        "batch_size = 128"
      ]
    },
    {
      "cell_type": "code",
      "execution_count": 13,
      "metadata": {
        "id": "_fdZfq9C9zO2"
      },
      "outputs": [],
      "source": [
        "model = LinearModel(inp_dim, hidden, out_dim).to(device)\n",
        "optim = torch.optim.Adam(model.parameters())\n",
        "loss_func = nn.CrossEntropyLoss()\n"
      ]
    },
    {
      "cell_type": "code",
      "execution_count": null,
      "metadata": {
        "id": "4p52DhoFBYTr"
      },
      "outputs": [],
      "source": [
        "for epoch in range(n_epochs):\n",
        "  train_loss = 0\n",
        "  test_loss = 0\n",
        "\n",
        "  train_dataloader = DataLoader(train_dataset,\n",
        "                          batch_size,\n",
        "                          shuffle=True,\n",
        "                          collate_fn=collate_fn,\n",
        "                          drop_last = True,\n",
        "                          )\n",
        "\n",
        "  test_dataloader = DataLoader(test_dataset,\n",
        "                          batch_size,\n",
        "                          collate_fn=collate_fn,\n",
        "                          drop_last = True,\n",
        "                          )\n",
        "\n",
        "  for i, batch in enumerate(train_dataloader):\n",
        "    optim.zero_grad()\n",
        "\n",
        "    predict = model(batch['data'].to(device))\n",
        "    loss = loss_func(predict, batch['target'].to(device).long())\n",
        "    loss.backward()\n",
        "    optim.step()\n",
        "\n",
        "    train_loss += loss.item()\n",
        "\n",
        "    if i % 200 == 0:\n",
        "      print(f'epoch: {epoch}, step: {i}, loss: {loss.item()}')\n",
        "  torch.save(model.state_dict(), f'./chkpt_{epoch}.pth')\n"
      ]
    },
    {
      "cell_type": "markdown",
      "metadata": {
        "id": "KzR-Z2IDGD7H"
      },
      "source": [
        "# Сверточные сети\n"
      ]
    },
    {
      "cell_type": "code",
      "execution_count": null,
      "metadata": {
        "id": "PCdOthJdBYqZ"
      },
      "outputs": [],
      "source": [
        "class ConvModel(nn.Module):\n",
        "  def __init__(self, input_ch, hidden_ch, output_dim, dropout_p=0.1):\n",
        "    super().__init__()\n",
        "    self.conv1 = nn.Conv2d(input_ch, hidden_ch,\n",
        "                           kernel_size=5, padding=2, stride=2) # уменьшаем картинку в 2 раза\n",
        "    self.bn1 = nn.BatchNorm2d(hidden_ch)\n",
        "    self.conv2 = nn.Conv2d(hidden_ch, hidden_ch, kernel_size=3, padding=1)\n",
        "    self.bn2 = nn.BatchNorm2d(hidden_ch)\n",
        "    self.conv3 = nn.Conv2d(hidden_ch, 2, kernel_size=3, padding=1)\n",
        "    self.bn3 = nn.BatchNorm2d(2)\n",
        "    self.linear3 = nn.Linear(2 * 14 * 14, output_dim)\n",
        "    self.do1 = nn.Dropout(dropout_p)\n",
        "    self.do2 = nn.Dropout(dropout_p)\n",
        "    self.activation = nn.ReLU()\n",
        "\n",
        "  def forward(self, x):\n",
        "    x = self.do1(self.activation(self.bn1(self.conv1(x))))\n",
        "    x = self.do2(self.activation(self.bn2(self.conv2(x))))\n",
        "    x = self.activation(self.bn3(self.conv3(x))) # B x 2 x 14 x 14\n",
        "\n",
        "    return self.linear3(x.view(x.size(0), -1))\n",
        "    # x.size() -> (B, W, H); x.size(0) -> B\n",
        "    # x.view(B, -1) -> (B, вектор размера всего остального)"
      ]
    },
    {
      "cell_type": "code",
      "execution_count": null,
      "metadata": {
        "id": "RYVsEjc-H1hQ"
      },
      "outputs": [],
      "source": [
        "# hyperparams\n",
        "input_ch = 1\n",
        "hidden_ch = 128\n",
        "out_dim = 10\n",
        "device_id = -1\n",
        "device = 'cpu' if device_id == -1 else f'cuda:{device_id}'\n",
        "n_epochs = 10\n",
        "batch_size = 128"
      ]
    },
    {
      "cell_type": "code",
      "execution_count": null,
      "metadata": {
        "id": "K_PACmDaH8Z7"
      },
      "outputs": [],
      "source": [
        "def collate_fn_conv(data: list):\n",
        "  # data = [(pic, target)...]\n",
        "  pics = []\n",
        "  target = []\n",
        "  for item in data:\n",
        "    pics.append(numpy.array(item[0])) # W x H\n",
        "    target.append(item[1])\n",
        "  pics = torch.from_numpy(numpy.array(pics)).float() / 255 # B x W x H\n",
        "  target = torch.from_numpy(numpy.array(target))\n",
        "\n",
        "  return {\n",
        "      'data': pics.unsqueeze(1), # B x 1(C) x W x H\n",
        "      'target': target.long(),\n",
        "      }\n",
        "\n",
        "# arr = [[[[1,2],[3,4]]],[[[1,2],[3,4]]]]\n",
        "# arr[1][0][1][1]"
      ]
    },
    {
      "cell_type": "code",
      "execution_count": null,
      "metadata": {
        "id": "a4gX5zVDIZdu"
      },
      "outputs": [],
      "source": [
        "model_conv = ConvModel(input_ch, hidden_ch, out_dim).to(device)\n",
        "optim = torch.optim.Adam(model_conv.parameters())\n",
        "loss_func = nn.CrossEntropyLoss()"
      ]
    },
    {
      "cell_type": "code",
      "execution_count": null,
      "metadata": {
        "colab": {
          "base_uri": "https://localhost:8080/"
        },
        "id": "jVX0P0otIk4D",
        "outputId": "8aaafef2-f9eb-45cf-8dbb-82028eebeed3"
      },
      "outputs": [
        {
          "name": "stdout",
          "output_type": "stream",
          "text": [
            "epoch: 0, step: 0, loss: 2.3878438472747803\n"
          ]
        }
      ],
      "source": [
        "for epoch in range(n_epochs):\n",
        "  dataloader = DataLoader(dataset,\n",
        "                          batch_size,\n",
        "                          shuffle=True,\n",
        "                          collate_fn=collate_fn_conv,\n",
        "                          drop_last = True,\n",
        "                          )\n",
        "  for i, batch in enumerate(dataloader):\n",
        "    optim.zero_grad()\n",
        "\n",
        "    predict = model_conv(batch['data'].to(device))\n",
        "    loss = loss_func(predict, batch['target'].to(device))\n",
        "    loss.backward()\n",
        "    optim.step()\n",
        "    if i % 200 == 0:\n",
        "      print(f'epoch: {epoch}, step: {i}, loss: {loss.item()}')\n",
        "  torch.save(model_conv.state_dict(), f'./chkpt_conv_{epoch}.pth')"
      ]
    },
    {
      "cell_type": "code",
      "execution_count": null,
      "metadata": {
        "id": "9CljFAzIMMEW"
      },
      "outputs": [],
      "source": []
    }
  ],
  "metadata": {
    "colab": {
      "provenance": [],
      "gpuType": "T4",
      "include_colab_link": true
    },
    "kernelspec": {
      "display_name": "Python 3",
      "name": "python3"
    },
    "language_info": {
      "codemirror_mode": {
        "name": "ipython",
        "version": 3
      },
      "file_extension": ".py",
      "mimetype": "text/x-python",
      "name": "python",
      "nbconvert_exporter": "python",
      "pygments_lexer": "ipython3",
      "version": "3.6.5"
    },
    "accelerator": "GPU"
  },
  "nbformat": 4,
  "nbformat_minor": 0
}