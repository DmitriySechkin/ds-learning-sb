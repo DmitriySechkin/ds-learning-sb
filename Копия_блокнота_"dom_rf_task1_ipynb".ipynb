{
  "nbformat": 4,
  "nbformat_minor": 0,
  "metadata": {
    "colab": {
      "provenance": [],
      "authorship_tag": "ABX9TyOu/nrh6T/pdGU612gbc8Jg",
      "include_colab_link": true
    },
    "kernelspec": {
      "name": "python3",
      "display_name": "Python 3"
    },
    "language_info": {
      "name": "python"
    },
    "accelerator": "TPU",
    "widgets": {
      "application/vnd.jupyter.widget-state+json": {
        "c6bd9a9a2e3049e2a84f2a4558e8c797": {
          "model_module": "@jupyter-widgets/controls",
          "model_name": "HBoxModel",
          "model_module_version": "1.5.0",
          "state": {
            "_dom_classes": [],
            "_model_module": "@jupyter-widgets/controls",
            "_model_module_version": "1.5.0",
            "_model_name": "HBoxModel",
            "_view_count": null,
            "_view_module": "@jupyter-widgets/controls",
            "_view_module_version": "1.5.0",
            "_view_name": "HBoxView",
            "box_style": "",
            "children": [
              "IPY_MODEL_ae85365d0d7045b3989e3ecd4539d47d",
              "IPY_MODEL_df0f9f83e3574e18af34d99eed31ec54",
              "IPY_MODEL_6f42e12321b74c6b83bd9eb784f93bb8"
            ],
            "layout": "IPY_MODEL_09161f4b7906429eab42d3509a507a36"
          }
        },
        "ae85365d0d7045b3989e3ecd4539d47d": {
          "model_module": "@jupyter-widgets/controls",
          "model_name": "HTMLModel",
          "model_module_version": "1.5.0",
          "state": {
            "_dom_classes": [],
            "_model_module": "@jupyter-widgets/controls",
            "_model_module_version": "1.5.0",
            "_model_name": "HTMLModel",
            "_view_count": null,
            "_view_module": "@jupyter-widgets/controls",
            "_view_module_version": "1.5.0",
            "_view_name": "HTMLView",
            "description": "",
            "description_tooltip": null,
            "layout": "IPY_MODEL_b87274b0c49b4e41a67fe29fb6447502",
            "placeholder": "​",
            "style": "IPY_MODEL_8d382260e4a1432f8f0d89f94afb10d7",
            "value": "100%"
          }
        },
        "df0f9f83e3574e18af34d99eed31ec54": {
          "model_module": "@jupyter-widgets/controls",
          "model_name": "FloatProgressModel",
          "model_module_version": "1.5.0",
          "state": {
            "_dom_classes": [],
            "_model_module": "@jupyter-widgets/controls",
            "_model_module_version": "1.5.0",
            "_model_name": "FloatProgressModel",
            "_view_count": null,
            "_view_module": "@jupyter-widgets/controls",
            "_view_module_version": "1.5.0",
            "_view_name": "ProgressView",
            "bar_style": "success",
            "description": "",
            "description_tooltip": null,
            "layout": "IPY_MODEL_2ab708a0bd3e42f1afaffd0c9badbd46",
            "max": 11647,
            "min": 0,
            "orientation": "horizontal",
            "style": "IPY_MODEL_2a14185800d5422ba2aa2c7918c8a3fc",
            "value": 11647
          }
        },
        "6f42e12321b74c6b83bd9eb784f93bb8": {
          "model_module": "@jupyter-widgets/controls",
          "model_name": "HTMLModel",
          "model_module_version": "1.5.0",
          "state": {
            "_dom_classes": [],
            "_model_module": "@jupyter-widgets/controls",
            "_model_module_version": "1.5.0",
            "_model_name": "HTMLModel",
            "_view_count": null,
            "_view_module": "@jupyter-widgets/controls",
            "_view_module_version": "1.5.0",
            "_view_name": "HTMLView",
            "description": "",
            "description_tooltip": null,
            "layout": "IPY_MODEL_9a60a301c21f40889200b586bff6aedb",
            "placeholder": "​",
            "style": "IPY_MODEL_a691e4cc3604423bb3447ae069de1538",
            "value": " 11647/11647 [00:00&lt;00:00, 136910.18it/s]"
          }
        },
        "09161f4b7906429eab42d3509a507a36": {
          "model_module": "@jupyter-widgets/base",
          "model_name": "LayoutModel",
          "model_module_version": "1.2.0",
          "state": {
            "_model_module": "@jupyter-widgets/base",
            "_model_module_version": "1.2.0",
            "_model_name": "LayoutModel",
            "_view_count": null,
            "_view_module": "@jupyter-widgets/base",
            "_view_module_version": "1.2.0",
            "_view_name": "LayoutView",
            "align_content": null,
            "align_items": null,
            "align_self": null,
            "border": null,
            "bottom": null,
            "display": null,
            "flex": null,
            "flex_flow": null,
            "grid_area": null,
            "grid_auto_columns": null,
            "grid_auto_flow": null,
            "grid_auto_rows": null,
            "grid_column": null,
            "grid_gap": null,
            "grid_row": null,
            "grid_template_areas": null,
            "grid_template_columns": null,
            "grid_template_rows": null,
            "height": null,
            "justify_content": null,
            "justify_items": null,
            "left": null,
            "margin": null,
            "max_height": null,
            "max_width": null,
            "min_height": null,
            "min_width": null,
            "object_fit": null,
            "object_position": null,
            "order": null,
            "overflow": null,
            "overflow_x": null,
            "overflow_y": null,
            "padding": null,
            "right": null,
            "top": null,
            "visibility": null,
            "width": null
          }
        },
        "b87274b0c49b4e41a67fe29fb6447502": {
          "model_module": "@jupyter-widgets/base",
          "model_name": "LayoutModel",
          "model_module_version": "1.2.0",
          "state": {
            "_model_module": "@jupyter-widgets/base",
            "_model_module_version": "1.2.0",
            "_model_name": "LayoutModel",
            "_view_count": null,
            "_view_module": "@jupyter-widgets/base",
            "_view_module_version": "1.2.0",
            "_view_name": "LayoutView",
            "align_content": null,
            "align_items": null,
            "align_self": null,
            "border": null,
            "bottom": null,
            "display": null,
            "flex": null,
            "flex_flow": null,
            "grid_area": null,
            "grid_auto_columns": null,
            "grid_auto_flow": null,
            "grid_auto_rows": null,
            "grid_column": null,
            "grid_gap": null,
            "grid_row": null,
            "grid_template_areas": null,
            "grid_template_columns": null,
            "grid_template_rows": null,
            "height": null,
            "justify_content": null,
            "justify_items": null,
            "left": null,
            "margin": null,
            "max_height": null,
            "max_width": null,
            "min_height": null,
            "min_width": null,
            "object_fit": null,
            "object_position": null,
            "order": null,
            "overflow": null,
            "overflow_x": null,
            "overflow_y": null,
            "padding": null,
            "right": null,
            "top": null,
            "visibility": null,
            "width": null
          }
        },
        "8d382260e4a1432f8f0d89f94afb10d7": {
          "model_module": "@jupyter-widgets/controls",
          "model_name": "DescriptionStyleModel",
          "model_module_version": "1.5.0",
          "state": {
            "_model_module": "@jupyter-widgets/controls",
            "_model_module_version": "1.5.0",
            "_model_name": "DescriptionStyleModel",
            "_view_count": null,
            "_view_module": "@jupyter-widgets/base",
            "_view_module_version": "1.2.0",
            "_view_name": "StyleView",
            "description_width": ""
          }
        },
        "2ab708a0bd3e42f1afaffd0c9badbd46": {
          "model_module": "@jupyter-widgets/base",
          "model_name": "LayoutModel",
          "model_module_version": "1.2.0",
          "state": {
            "_model_module": "@jupyter-widgets/base",
            "_model_module_version": "1.2.0",
            "_model_name": "LayoutModel",
            "_view_count": null,
            "_view_module": "@jupyter-widgets/base",
            "_view_module_version": "1.2.0",
            "_view_name": "LayoutView",
            "align_content": null,
            "align_items": null,
            "align_self": null,
            "border": null,
            "bottom": null,
            "display": null,
            "flex": null,
            "flex_flow": null,
            "grid_area": null,
            "grid_auto_columns": null,
            "grid_auto_flow": null,
            "grid_auto_rows": null,
            "grid_column": null,
            "grid_gap": null,
            "grid_row": null,
            "grid_template_areas": null,
            "grid_template_columns": null,
            "grid_template_rows": null,
            "height": null,
            "justify_content": null,
            "justify_items": null,
            "left": null,
            "margin": null,
            "max_height": null,
            "max_width": null,
            "min_height": null,
            "min_width": null,
            "object_fit": null,
            "object_position": null,
            "order": null,
            "overflow": null,
            "overflow_x": null,
            "overflow_y": null,
            "padding": null,
            "right": null,
            "top": null,
            "visibility": null,
            "width": null
          }
        },
        "2a14185800d5422ba2aa2c7918c8a3fc": {
          "model_module": "@jupyter-widgets/controls",
          "model_name": "ProgressStyleModel",
          "model_module_version": "1.5.0",
          "state": {
            "_model_module": "@jupyter-widgets/controls",
            "_model_module_version": "1.5.0",
            "_model_name": "ProgressStyleModel",
            "_view_count": null,
            "_view_module": "@jupyter-widgets/base",
            "_view_module_version": "1.2.0",
            "_view_name": "StyleView",
            "bar_color": null,
            "description_width": ""
          }
        },
        "9a60a301c21f40889200b586bff6aedb": {
          "model_module": "@jupyter-widgets/base",
          "model_name": "LayoutModel",
          "model_module_version": "1.2.0",
          "state": {
            "_model_module": "@jupyter-widgets/base",
            "_model_module_version": "1.2.0",
            "_model_name": "LayoutModel",
            "_view_count": null,
            "_view_module": "@jupyter-widgets/base",
            "_view_module_version": "1.2.0",
            "_view_name": "LayoutView",
            "align_content": null,
            "align_items": null,
            "align_self": null,
            "border": null,
            "bottom": null,
            "display": null,
            "flex": null,
            "flex_flow": null,
            "grid_area": null,
            "grid_auto_columns": null,
            "grid_auto_flow": null,
            "grid_auto_rows": null,
            "grid_column": null,
            "grid_gap": null,
            "grid_row": null,
            "grid_template_areas": null,
            "grid_template_columns": null,
            "grid_template_rows": null,
            "height": null,
            "justify_content": null,
            "justify_items": null,
            "left": null,
            "margin": null,
            "max_height": null,
            "max_width": null,
            "min_height": null,
            "min_width": null,
            "object_fit": null,
            "object_position": null,
            "order": null,
            "overflow": null,
            "overflow_x": null,
            "overflow_y": null,
            "padding": null,
            "right": null,
            "top": null,
            "visibility": null,
            "width": null
          }
        },
        "a691e4cc3604423bb3447ae069de1538": {
          "model_module": "@jupyter-widgets/controls",
          "model_name": "DescriptionStyleModel",
          "model_module_version": "1.5.0",
          "state": {
            "_model_module": "@jupyter-widgets/controls",
            "_model_module_version": "1.5.0",
            "_model_name": "DescriptionStyleModel",
            "_view_count": null,
            "_view_module": "@jupyter-widgets/base",
            "_view_module_version": "1.2.0",
            "_view_name": "StyleView",
            "description_width": ""
          }
        },
        "5b7827fce1a64958970fbdaedb34ceee": {
          "model_module": "@jupyter-widgets/controls",
          "model_name": "HBoxModel",
          "model_module_version": "1.5.0",
          "state": {
            "_dom_classes": [],
            "_model_module": "@jupyter-widgets/controls",
            "_model_module_version": "1.5.0",
            "_model_name": "HBoxModel",
            "_view_count": null,
            "_view_module": "@jupyter-widgets/controls",
            "_view_module_version": "1.5.0",
            "_view_name": "HBoxView",
            "box_style": "",
            "children": [
              "IPY_MODEL_e6be8f1d70434d0fa467b662d69f6d0c",
              "IPY_MODEL_b5af28799a8142b5bb95fd7d8efed691",
              "IPY_MODEL_37e9109a48424920bc199932cfa13f78"
            ],
            "layout": "IPY_MODEL_6b33ba9e628440679825fd56417be12c"
          }
        },
        "e6be8f1d70434d0fa467b662d69f6d0c": {
          "model_module": "@jupyter-widgets/controls",
          "model_name": "HTMLModel",
          "model_module_version": "1.5.0",
          "state": {
            "_dom_classes": [],
            "_model_module": "@jupyter-widgets/controls",
            "_model_module_version": "1.5.0",
            "_model_name": "HTMLModel",
            "_view_count": null,
            "_view_module": "@jupyter-widgets/controls",
            "_view_module_version": "1.5.0",
            "_view_name": "HTMLView",
            "description": "",
            "description_tooltip": null,
            "layout": "IPY_MODEL_d406fbd639ed4f4aa88e155f7fc6bf42",
            "placeholder": "​",
            "style": "IPY_MODEL_9de3b1bfe4de4054b575dae00b26cc9f",
            "value": "100%"
          }
        },
        "b5af28799a8142b5bb95fd7d8efed691": {
          "model_module": "@jupyter-widgets/controls",
          "model_name": "FloatProgressModel",
          "model_module_version": "1.5.0",
          "state": {
            "_dom_classes": [],
            "_model_module": "@jupyter-widgets/controls",
            "_model_module_version": "1.5.0",
            "_model_name": "FloatProgressModel",
            "_view_count": null,
            "_view_module": "@jupyter-widgets/controls",
            "_view_module_version": "1.5.0",
            "_view_name": "ProgressView",
            "bar_style": "success",
            "description": "",
            "description_tooltip": null,
            "layout": "IPY_MODEL_b22ba0ea046e46d4a9e00554c8695436",
            "max": 11647,
            "min": 0,
            "orientation": "horizontal",
            "style": "IPY_MODEL_73552568567a4716936a8fc84c64f704",
            "value": 11647
          }
        },
        "37e9109a48424920bc199932cfa13f78": {
          "model_module": "@jupyter-widgets/controls",
          "model_name": "HTMLModel",
          "model_module_version": "1.5.0",
          "state": {
            "_dom_classes": [],
            "_model_module": "@jupyter-widgets/controls",
            "_model_module_version": "1.5.0",
            "_model_name": "HTMLModel",
            "_view_count": null,
            "_view_module": "@jupyter-widgets/controls",
            "_view_module_version": "1.5.0",
            "_view_name": "HTMLView",
            "description": "",
            "description_tooltip": null,
            "layout": "IPY_MODEL_8489fb8962ef455a9bd9a64cd3cefad1",
            "placeholder": "​",
            "style": "IPY_MODEL_d8f7bd431c6c46e69ef1686953e6c873",
            "value": " 11647/11647 [22:49&lt;00:00, 23.23it/s]"
          }
        },
        "6b33ba9e628440679825fd56417be12c": {
          "model_module": "@jupyter-widgets/base",
          "model_name": "LayoutModel",
          "model_module_version": "1.2.0",
          "state": {
            "_model_module": "@jupyter-widgets/base",
            "_model_module_version": "1.2.0",
            "_model_name": "LayoutModel",
            "_view_count": null,
            "_view_module": "@jupyter-widgets/base",
            "_view_module_version": "1.2.0",
            "_view_name": "LayoutView",
            "align_content": null,
            "align_items": null,
            "align_self": null,
            "border": null,
            "bottom": null,
            "display": null,
            "flex": null,
            "flex_flow": null,
            "grid_area": null,
            "grid_auto_columns": null,
            "grid_auto_flow": null,
            "grid_auto_rows": null,
            "grid_column": null,
            "grid_gap": null,
            "grid_row": null,
            "grid_template_areas": null,
            "grid_template_columns": null,
            "grid_template_rows": null,
            "height": null,
            "justify_content": null,
            "justify_items": null,
            "left": null,
            "margin": null,
            "max_height": null,
            "max_width": null,
            "min_height": null,
            "min_width": null,
            "object_fit": null,
            "object_position": null,
            "order": null,
            "overflow": null,
            "overflow_x": null,
            "overflow_y": null,
            "padding": null,
            "right": null,
            "top": null,
            "visibility": null,
            "width": null
          }
        },
        "d406fbd639ed4f4aa88e155f7fc6bf42": {
          "model_module": "@jupyter-widgets/base",
          "model_name": "LayoutModel",
          "model_module_version": "1.2.0",
          "state": {
            "_model_module": "@jupyter-widgets/base",
            "_model_module_version": "1.2.0",
            "_model_name": "LayoutModel",
            "_view_count": null,
            "_view_module": "@jupyter-widgets/base",
            "_view_module_version": "1.2.0",
            "_view_name": "LayoutView",
            "align_content": null,
            "align_items": null,
            "align_self": null,
            "border": null,
            "bottom": null,
            "display": null,
            "flex": null,
            "flex_flow": null,
            "grid_area": null,
            "grid_auto_columns": null,
            "grid_auto_flow": null,
            "grid_auto_rows": null,
            "grid_column": null,
            "grid_gap": null,
            "grid_row": null,
            "grid_template_areas": null,
            "grid_template_columns": null,
            "grid_template_rows": null,
            "height": null,
            "justify_content": null,
            "justify_items": null,
            "left": null,
            "margin": null,
            "max_height": null,
            "max_width": null,
            "min_height": null,
            "min_width": null,
            "object_fit": null,
            "object_position": null,
            "order": null,
            "overflow": null,
            "overflow_x": null,
            "overflow_y": null,
            "padding": null,
            "right": null,
            "top": null,
            "visibility": null,
            "width": null
          }
        },
        "9de3b1bfe4de4054b575dae00b26cc9f": {
          "model_module": "@jupyter-widgets/controls",
          "model_name": "DescriptionStyleModel",
          "model_module_version": "1.5.0",
          "state": {
            "_model_module": "@jupyter-widgets/controls",
            "_model_module_version": "1.5.0",
            "_model_name": "DescriptionStyleModel",
            "_view_count": null,
            "_view_module": "@jupyter-widgets/base",
            "_view_module_version": "1.2.0",
            "_view_name": "StyleView",
            "description_width": ""
          }
        },
        "b22ba0ea046e46d4a9e00554c8695436": {
          "model_module": "@jupyter-widgets/base",
          "model_name": "LayoutModel",
          "model_module_version": "1.2.0",
          "state": {
            "_model_module": "@jupyter-widgets/base",
            "_model_module_version": "1.2.0",
            "_model_name": "LayoutModel",
            "_view_count": null,
            "_view_module": "@jupyter-widgets/base",
            "_view_module_version": "1.2.0",
            "_view_name": "LayoutView",
            "align_content": null,
            "align_items": null,
            "align_self": null,
            "border": null,
            "bottom": null,
            "display": null,
            "flex": null,
            "flex_flow": null,
            "grid_area": null,
            "grid_auto_columns": null,
            "grid_auto_flow": null,
            "grid_auto_rows": null,
            "grid_column": null,
            "grid_gap": null,
            "grid_row": null,
            "grid_template_areas": null,
            "grid_template_columns": null,
            "grid_template_rows": null,
            "height": null,
            "justify_content": null,
            "justify_items": null,
            "left": null,
            "margin": null,
            "max_height": null,
            "max_width": null,
            "min_height": null,
            "min_width": null,
            "object_fit": null,
            "object_position": null,
            "order": null,
            "overflow": null,
            "overflow_x": null,
            "overflow_y": null,
            "padding": null,
            "right": null,
            "top": null,
            "visibility": null,
            "width": null
          }
        },
        "73552568567a4716936a8fc84c64f704": {
          "model_module": "@jupyter-widgets/controls",
          "model_name": "ProgressStyleModel",
          "model_module_version": "1.5.0",
          "state": {
            "_model_module": "@jupyter-widgets/controls",
            "_model_module_version": "1.5.0",
            "_model_name": "ProgressStyleModel",
            "_view_count": null,
            "_view_module": "@jupyter-widgets/base",
            "_view_module_version": "1.2.0",
            "_view_name": "StyleView",
            "bar_color": null,
            "description_width": ""
          }
        },
        "8489fb8962ef455a9bd9a64cd3cefad1": {
          "model_module": "@jupyter-widgets/base",
          "model_name": "LayoutModel",
          "model_module_version": "1.2.0",
          "state": {
            "_model_module": "@jupyter-widgets/base",
            "_model_module_version": "1.2.0",
            "_model_name": "LayoutModel",
            "_view_count": null,
            "_view_module": "@jupyter-widgets/base",
            "_view_module_version": "1.2.0",
            "_view_name": "LayoutView",
            "align_content": null,
            "align_items": null,
            "align_self": null,
            "border": null,
            "bottom": null,
            "display": null,
            "flex": null,
            "flex_flow": null,
            "grid_area": null,
            "grid_auto_columns": null,
            "grid_auto_flow": null,
            "grid_auto_rows": null,
            "grid_column": null,
            "grid_gap": null,
            "grid_row": null,
            "grid_template_areas": null,
            "grid_template_columns": null,
            "grid_template_rows": null,
            "height": null,
            "justify_content": null,
            "justify_items": null,
            "left": null,
            "margin": null,
            "max_height": null,
            "max_width": null,
            "min_height": null,
            "min_width": null,
            "object_fit": null,
            "object_position": null,
            "order": null,
            "overflow": null,
            "overflow_x": null,
            "overflow_y": null,
            "padding": null,
            "right": null,
            "top": null,
            "visibility": null,
            "width": null
          }
        },
        "d8f7bd431c6c46e69ef1686953e6c873": {
          "model_module": "@jupyter-widgets/controls",
          "model_name": "DescriptionStyleModel",
          "model_module_version": "1.5.0",
          "state": {
            "_model_module": "@jupyter-widgets/controls",
            "_model_module_version": "1.5.0",
            "_model_name": "DescriptionStyleModel",
            "_view_count": null,
            "_view_module": "@jupyter-widgets/base",
            "_view_module_version": "1.2.0",
            "_view_name": "StyleView",
            "description_width": ""
          }
        }
      }
    }
  },
  "cells": [
    {
      "cell_type": "markdown",
      "metadata": {
        "id": "view-in-github",
        "colab_type": "text"
      },
      "source": [
        "<a href=\"https://colab.research.google.com/github/DmitriySechkin/ds-learning-sb/blob/main/%D0%9A%D0%BE%D0%BF%D0%B8%D1%8F_%D0%B1%D0%BB%D0%BE%D0%BA%D0%BD%D0%BE%D1%82%D0%B0_%22dom_rf_task1_ipynb%22.ipynb\" target=\"_parent\"><img src=\"https://colab.research.google.com/assets/colab-badge.svg\" alt=\"Open In Colab\"/></a>"
      ]
    },
    {
      "cell_type": "code",
      "execution_count": 3,
      "metadata": {
        "id": "vbgJJegHLUMa"
      },
      "outputs": [],
      "source": [
        "import requests\n",
        "from tqdm.auto import tqdm"
      ]
    },
    {
      "cell_type": "code",
      "source": [
        "offset_ = 1 # размер шага\n",
        "limit_ = 100 # количество объектов в выдаче\n",
        "all_objects_data = []\n",
        "index = 0\n",
        "\n",
        "while True:\n",
        "  url = f'https://xn--80az8a.xn--d1aqf.xn--p1ai/%D1%81%D0%B5%D1%80%D0%B2%D0%B8%D1%81%D1%8B/api/kn/object?offset={offset_}&limit={limit_}&sortField=devId.devShortCleanNm&sortType=asc&objStatus=0'\n",
        "  res = requests.get(url)\n",
        "  data = res.json()\n",
        "  objects_data = data.get('data').get('list')\n",
        "\n",
        "  all_objects_data.extend(objects_data)\n",
        "\n",
        "  print(index)\n",
        "\n",
        "  if(len(objects_data) == 0):\n",
        "    print('скачивание данных по объектам завершено')\n",
        "    break\n",
        "\n",
        "\n",
        "  offset_ += limit_\n",
        "  index += 1"
      ],
      "metadata": {
        "id": "hDl0DA41Q_2q",
        "colab": {
          "base_uri": "https://localhost:8080/"
        },
        "outputId": "db3523a5-b233-4d2e-87db-692a0707423b"
      },
      "execution_count": 4,
      "outputs": [
        {
          "output_type": "stream",
          "name": "stdout",
          "text": [
            "0\n",
            "1\n",
            "2\n",
            "3\n",
            "4\n",
            "5\n",
            "6\n",
            "7\n",
            "8\n",
            "9\n",
            "10\n",
            "11\n",
            "12\n",
            "13\n",
            "14\n",
            "15\n",
            "16\n",
            "17\n",
            "18\n",
            "19\n",
            "20\n",
            "21\n",
            "22\n",
            "23\n",
            "24\n",
            "25\n",
            "26\n",
            "27\n",
            "28\n",
            "29\n",
            "30\n",
            "31\n",
            "32\n",
            "33\n",
            "34\n",
            "35\n",
            "36\n",
            "37\n",
            "38\n",
            "39\n",
            "40\n",
            "41\n",
            "42\n",
            "43\n",
            "44\n",
            "45\n",
            "46\n",
            "47\n",
            "48\n",
            "49\n",
            "50\n",
            "51\n",
            "52\n",
            "53\n",
            "54\n",
            "55\n",
            "56\n",
            "57\n",
            "58\n",
            "59\n",
            "60\n",
            "61\n",
            "62\n",
            "63\n",
            "64\n",
            "65\n",
            "66\n",
            "67\n",
            "68\n",
            "69\n",
            "70\n",
            "71\n",
            "72\n",
            "73\n",
            "74\n",
            "75\n",
            "76\n",
            "77\n",
            "78\n",
            "79\n",
            "80\n",
            "81\n",
            "82\n",
            "83\n",
            "84\n",
            "85\n",
            "86\n",
            "87\n",
            "88\n",
            "89\n",
            "90\n",
            "91\n",
            "92\n",
            "93\n",
            "94\n",
            "95\n",
            "96\n",
            "97\n",
            "98\n",
            "99\n",
            "100\n",
            "101\n",
            "102\n",
            "103\n",
            "104\n",
            "105\n",
            "106\n",
            "107\n",
            "108\n",
            "109\n",
            "110\n",
            "111\n",
            "112\n",
            "113\n",
            "114\n",
            "115\n",
            "116\n",
            "117\n",
            "скачивание данных по объектам завершено\n"
          ]
        }
      ]
    },
    {
      "cell_type": "code",
      "source": [
        "obj_ids = []\n",
        "\n",
        "for objects_data in tqdm(all_objects_data):\n",
        "   obj_id = objects_data.get('objId')\n",
        "   if obj_id:\n",
        "    obj_ids.append(obj_id)"
      ],
      "metadata": {
        "colab": {
          "base_uri": "https://localhost:8080/",
          "height": 49,
          "referenced_widgets": [
            "c6bd9a9a2e3049e2a84f2a4558e8c797",
            "ae85365d0d7045b3989e3ecd4539d47d",
            "df0f9f83e3574e18af34d99eed31ec54",
            "6f42e12321b74c6b83bd9eb784f93bb8",
            "09161f4b7906429eab42d3509a507a36",
            "b87274b0c49b4e41a67fe29fb6447502",
            "8d382260e4a1432f8f0d89f94afb10d7",
            "2ab708a0bd3e42f1afaffd0c9badbd46",
            "2a14185800d5422ba2aa2c7918c8a3fc",
            "9a60a301c21f40889200b586bff6aedb",
            "a691e4cc3604423bb3447ae069de1538"
          ]
        },
        "id": "sGnX2dpYSIFv",
        "outputId": "a2782900-93f1-4ef5-b73d-6e4d0eeeb26f"
      },
      "execution_count": 5,
      "outputs": [
        {
          "output_type": "display_data",
          "data": {
            "text/plain": [
              "  0%|          | 0/11647 [00:00<?, ?it/s]"
            ],
            "application/vnd.jupyter.widget-view+json": {
              "version_major": 2,
              "version_minor": 0,
              "model_id": "c6bd9a9a2e3049e2a84f2a4558e8c797"
            }
          },
          "metadata": {}
        }
      ]
    },
    {
      "cell_type": "code",
      "source": [
        "len(obj_ids) == len(all_objects_data)"
      ],
      "metadata": {
        "colab": {
          "base_uri": "https://localhost:8080/"
        },
        "id": "2cVrymvKUSta",
        "outputId": "499d0290-4f0b-4b09-b0a5-fb6309766a09"
      },
      "execution_count": 6,
      "outputs": [
        {
          "output_type": "execute_result",
          "data": {
            "text/plain": [
              "True"
            ]
          },
          "metadata": {},
          "execution_count": 6
        }
      ]
    },
    {
      "cell_type": "code",
      "source": [
        "from concurrent.futures import ProcessPoolExecutor\n",
        "\n",
        "error_request_obj = []\n",
        "\n",
        "def fetch_data(obj_id):\n",
        "    url = f'https://xn--80az8a.xn--d1aqf.xn--p1ai/%D1%81%D0%B5%D1%80%D0%B2%D0%B8%D1%81%D1%8B/api/object/{obj_id}'\n",
        "    res = requests.get(url)\n",
        "\n",
        "    if res.status_code == 200:\n",
        "        return res.json()\n",
        "    else:\n",
        "        print(f\"Ошибка при запросе для obj_id={obj_id}. HTTP статус: {res.status_code}\")\n",
        "        return None\n",
        "\n",
        "\n",
        "with ProcessPoolExecutor(max_workers=30) as executor:\n",
        "    results = list(tqdm(executor.map(fetch_data, obj_ids), total=len(obj_ids)))\n",
        "\n",
        "\n",
        "print(results)"
      ],
      "metadata": {
        "colab": {
          "base_uri": "https://localhost:8080/",
          "height": 240,
          "referenced_widgets": [
            "5b7827fce1a64958970fbdaedb34ceee",
            "e6be8f1d70434d0fa467b662d69f6d0c",
            "b5af28799a8142b5bb95fd7d8efed691",
            "37e9109a48424920bc199932cfa13f78",
            "6b33ba9e628440679825fd56417be12c",
            "d406fbd639ed4f4aa88e155f7fc6bf42",
            "9de3b1bfe4de4054b575dae00b26cc9f",
            "b22ba0ea046e46d4a9e00554c8695436",
            "73552568567a4716936a8fc84c64f704",
            "8489fb8962ef455a9bd9a64cd3cefad1",
            "d8f7bd431c6c46e69ef1686953e6c873"
          ]
        },
        "id": "67tf7UvhTRHN",
        "outputId": "56df707b-fe30-4627-e688-7ada415b1349"
      },
      "execution_count": 17,
      "outputs": [
        {
          "output_type": "display_data",
          "data": {
            "text/plain": [
              "  0%|          | 0/11647 [00:00<?, ?it/s]"
            ],
            "application/vnd.jupyter.widget-view+json": {
              "version_major": 2,
              "version_minor": 0,
              "model_id": "5b7827fce1a64958970fbdaedb34ceee"
            }
          },
          "metadata": {}
        },
        {
          "output_type": "stream",
          "name": "stdout",
          "text": [
            "Ошибка при запросе для obj_id=44915. HTTP статус: 500\n"
          ]
        },
        {
          "output_type": "stream",
          "name": "stderr",
          "text": [
            "IOPub data rate exceeded.\n",
            "The notebook server will temporarily stop sending output\n",
            "to the client in order to avoid crashing it.\n",
            "To change this limit, set the config variable\n",
            "`--NotebookApp.iopub_data_rate_limit`.\n",
            "\n",
            "Current values:\n",
            "NotebookApp.iopub_data_rate_limit=1000000.0 (bytes/sec)\n",
            "NotebookApp.rate_limit_window=3.0 (secs)\n",
            "\n"
          ]
        }
      ]
    },
    {
      "cell_type": "code",
      "source": [
        "len(results) == len(obj_ids) == len(all_objects_data)"
      ],
      "metadata": {
        "colab": {
          "base_uri": "https://localhost:8080/"
        },
        "id": "hKTJEXWQ_tJO",
        "outputId": "54bbbc9d-39a3-47f5-8529-1fa07dcbc45a"
      },
      "execution_count": 19,
      "outputs": [
        {
          "output_type": "execute_result",
          "data": {
            "text/plain": [
              "True"
            ]
          },
          "metadata": {},
          "execution_count": 19
        }
      ]
    },
    {
      "cell_type": "code",
      "source": [
        "# если получены не все объекты\n",
        "\n",
        "if len(error_request_obj) != 0:\n",
        "    for obj in error_request_obj:\n",
        "      json = fetch_data(obj)\n",
        "      if json is not None:\n",
        "        results.append(json)"
      ],
      "metadata": {
        "colab": {
          "base_uri": "https://localhost:8080/"
        },
        "id": "QCZyR6I3_zja",
        "outputId": "418842f4-ef5c-4920-9603-eb8a61cb76a4"
      },
      "execution_count": 23,
      "outputs": [
        {
          "output_type": "execute_result",
          "data": {
            "text/plain": [
              "11646"
            ]
          },
          "metadata": {},
          "execution_count": 23
        }
      ]
    },
    {
      "cell_type": "code",
      "source": [
        "filtered_results = [i for i in results if i != None]\n",
        "len(filtered_results)"
      ],
      "metadata": {
        "colab": {
          "base_uri": "https://localhost:8080/"
        },
        "id": "SsUlXhMuASkn",
        "outputId": "88853e68-5629-4ce6-b68f-1d9c2314b1c7"
      },
      "execution_count": 25,
      "outputs": [
        {
          "output_type": "execute_result",
          "data": {
            "text/plain": [
              "11646"
            ]
          },
          "metadata": {},
          "execution_count": 25
        }
      ]
    },
    {
      "cell_type": "code",
      "source": [
        "url = f'https://xn--80az8a.xn--d1aqf.xn--p1ai/%D1%81%D0%B5%D1%80%D0%B2%D0%B8%D1%81%D1%8B/api/object/44915'\n",
        "res = requests.get(url)\n",
        "res.json()"
      ],
      "metadata": {
        "colab": {
          "base_uri": "https://localhost:8080/"
        },
        "id": "5W9BXYb0BFdr",
        "outputId": "edf5072f-1be5-42db-a0c4-9655267a70ef"
      },
      "execution_count": 26,
      "outputs": [
        {
          "output_type": "execute_result",
          "data": {
            "text/plain": [
              "{'data': {'id': 44915,\n",
              "  'hobjId': 125509,\n",
              "  'pdId': 538174,\n",
              "  'developer': {'devId': 6806,\n",
              "   'devShortCleanNm': 'СЗ КАПИТАЛ ИНВЕСТ НСК',\n",
              "   'devShortNm': 'СЗ КАПИТАЛ ИНВЕСТ НСК',\n",
              "   'devFullCleanNm': 'СПЕЦИАЛИЗИРОВАННЫЙ ЗАСТРОЙЩИК КАПИТАЛ ИНВЕСТ НСК',\n",
              "   'problObjCnt': 0,\n",
              "   'buildObjCnt': 2,\n",
              "   'comissObjCnt': 0,\n",
              "   'regRegionDesc': 'Новосибирская область',\n",
              "   'devPhoneNum': '+7 (383) 354-81-60',\n",
              "   'devSite': 'шесть-звезд.рф/',\n",
              "   'devEmail': 'trest43@astongroup.ru',\n",
              "   'devInn': '5403323525',\n",
              "   'devOgrn': '1105476074494',\n",
              "   'devKpp': '540301001',\n",
              "   'devLegalAddr': 'Новосибирская область, город Новосибирск, улица Аникина дом 35 помещение 4',\n",
              "   'devFactAddr': 'Новосибирская обл, город Новосибирск, улица Аникина, д.35, пом.4',\n",
              "   'lastRpdId': 798156,\n",
              "   'fundGuarantyFlg': 0,\n",
              "   'devOrgRegRegionCd': 54,\n",
              "   'devEmplMainFullNm': 'Машкарин Николай Владимирович',\n",
              "   'developerGroupName': 'Астон',\n",
              "   'orgForm': {'id': 4,\n",
              "    'fullForm': 'Общество с ограниченной ответственностью',\n",
              "    'shortForm': 'ООО'},\n",
              "   'companyGroupId': 8838,\n",
              "   'objGuarantyEscrowFlg': 1,\n",
              "   'govFundFlg': 0},\n",
              "  'region': 54,\n",
              "  'address': 'г Новосибирск, район Кировский р-н, ул Аникина, блок-секция 2а,2б,2в',\n",
              "  'nameObj': 'Жилой комплекс \"Астон.Шесть звезд\"',\n",
              "  'floorMin': 29,\n",
              "  'floorMax': 29,\n",
              "  'objElemLivingCnt': 745,\n",
              "  'objReady100PercDt': '2026-12-31',\n",
              "  'wallMaterialShortDesc': 'Монолит-кирпич',\n",
              "  'objLkFinishTypeDesc': 'Под чистовую',\n",
              "  'objLkFreePlanDesc': 'Нет',\n",
              "  'objElemParkingCnt': 299,\n",
              "  'objSquareLiving': 41405.95,\n",
              "  'rpdNum': '54-001533',\n",
              "  'rpdPdfLink': 'https://xn--80az8a.xn--d1aqf.xn--p1ai/api/ext/file/70726F6A6465636C2E646F63732E697A643A9FF4E7A5208D4C89B1A99BDC6F8E8FD4',\n",
              "  'rpdIssueDttm': '05-12-2023 10:36',\n",
              "  'objLkLatitude': '54.9648',\n",
              "  'objLkLongitude': '82.9458',\n",
              "  'objCompensFundFlg': 0,\n",
              "  'objProblemFlg': 0,\n",
              "  'objLkClassDesc': 'Комфорт',\n",
              "  'loadDttm': '08-12-2023 01:39',\n",
              "  'photoRenderDTO': [{'objId': 44915,\n",
              "    'pdId': 538174,\n",
              "    'rpdId': 798156,\n",
              "    'devId': 6806,\n",
              "    'ordNum': 1,\n",
              "    'objRenderPhotoSize': 8315886,\n",
              "    'objRenderPhotoUrl': 'https://xn--80az8a.xn--d1aqf.xn--p1ai/api/ext/file/70726F6A6465636C2E646F63732E697A643AE80211CA19684E50A901818770A14204',\n",
              "    'objRenderPhotoDttm': '27-11-2023 17:30',\n",
              "    'objRenderPhotoHiddenFlg': 0,\n",
              "    'objRenderPhotoNm': '52f2afbe-e0ed-4484-9773-3639b38a1f9b.jpg',\n",
              "    'objReadyDesc': 'Строится',\n",
              "    'objBuildTypeShortDesc': 'Жилое',\n",
              "    'knFlg': 1,\n",
              "    'loadDttm': '08-12-2023 01:18'}],\n",
              "  'objGuarantyEscrowFlg': 1,\n",
              "  'objectType': 'normal',\n",
              "  'residentialBuildings': 1,\n",
              "  'newBuildingId': 125509,\n",
              "  'objFloorCnt': 29,\n",
              "  'objFlatCnt': 745,\n",
              "  'objFlatSq': '41405.95',\n",
              "  'objNonlivElemCnt': 366,\n",
              "  'quartography': {'objLivElem1KCnt': 322,\n",
              "   'objLivElem2KCnt': 299,\n",
              "   'objLivElem3KCnt': 108,\n",
              "   'objLivElem4KCnt': 16,\n",
              "   'objLivElemCnt': 745,\n",
              "   'objLivElemEntrCnt': 2,\n",
              "   'objLivElemEntrFloorAvg': 15},\n",
              "  'objStatus': 0,\n",
              "  'metro': {'id': '52.300',\n",
              "   'name': 'Студенческая',\n",
              "   'line': 'Ленинская',\n",
              "   'color': '#CD0505',\n",
              "   'time': 23.5,\n",
              "   'isWalk': False,\n",
              "   'colors': ['#CD0505']},\n",
              "  'isAvailableWantLiveHere': True,\n",
              "  'objTransferPlanDt': '31-05-2027 12:00',\n",
              "  'objLivCeilingHeight': '2,68 - 2,98',\n",
              "  'objInfrstrBicycleLaneFlg': 1,\n",
              "  'objInfrstrPlaygrndCnt': 1,\n",
              "  'objInfrstrSportGroundCnt': 1,\n",
              "  'objInfrstrTrashAreaCnt': 2,\n",
              "  'objInfrstrObjPrkngCnt': 70,\n",
              "  'objInfrstrNotObjPrkngCnt': 0,\n",
              "  'objInfrstrRampFlg': 1,\n",
              "  'objInfrstrCurbLoweringFlg': 1,\n",
              "  'objElevatorWheelchairCnt': 0,\n",
              "  'objElevatorPassengerCnt': 10,\n",
              "  'objElevatorCargoCnt': 0,\n",
              "  'objElevatorCargoPassengerCnt': 0,\n",
              "  'nonlivFirstFloor': 1,\n",
              "  'transportDistIndex': '5 / 10',\n",
              "  'objectTransportInfo': [{'metroStationNm': 'Студенческая',\n",
              "    'isMetroStationDistWalking': False,\n",
              "    'metroStationDistTime': 23.5,\n",
              "    'metroStationDistLength': 0.948,\n",
              "    'metroLineColorHexCode': 'CD0505',\n",
              "    'metroLineColorsHexCode': ['#CD0505']}],\n",
              "  'conclusion': False,\n",
              "  'objLkSaleDepEmail': 'trest43@astongroup.ru',\n",
              "  'objGreenHouseFlg': 0,\n",
              "  'objEnergyEffShortDesc': 'B',\n",
              "  'transportDistIndexValue': 5,\n",
              "  'infrastructureIndexValue': 8},\n",
              " 'errcode': '0'}"
            ]
          },
          "metadata": {},
          "execution_count": 26
        }
      ]
    }
  ]
}