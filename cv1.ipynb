{
  "cells": [
    {
      "cell_type": "markdown",
      "metadata": {
        "id": "view-in-github",
        "colab_type": "text"
      },
      "source": [
        "<a href=\"https://colab.research.google.com/github/DmitriySechkin/ds-learning-sb/blob/main/cv1.ipynb\" target=\"_parent\"><img src=\"https://colab.research.google.com/assets/colab-badge.svg\" alt=\"Open In Colab\"/></a>"
      ]
    },
    {
      "cell_type": "code",
      "execution_count": 2,
      "metadata": {
        "id": "in0PyicHhZDG"
      },
      "outputs": [],
      "source": [
        "import numpy\n",
        "import torch\n",
        "import torch.nn as nn\n",
        "import torchvision.models as models\n",
        "from torchvision import datasets\n",
        "from torch.utils.data import DataLoader"
      ]
    },
    {
      "cell_type": "code",
      "execution_count": 3,
      "metadata": {
        "id": "73ieMA485Tme"
      },
      "outputs": [],
      "source": [
        "# архитектура модели +\n",
        "# загрузчик данных +\n",
        "# формирование батча +\n",
        "# оптимизатор +\n",
        "# функция потерь +\n",
        "# опционально шедулеры -\n",
        "# трейн луп"
      ]
    },
    {
      "cell_type": "code",
      "execution_count": 4,
      "metadata": {
        "colab": {
          "base_uri": "https://localhost:8080/"
        },
        "id": "SI8UCZuy7hTK",
        "outputId": "c0b6af67-8ca1-42df-d1c7-a67f2f846d0f"
      },
      "outputs": [
        {
          "output_type": "stream",
          "name": "stdout",
          "text": [
            "Downloading http://yann.lecun.com/exdb/mnist/train-images-idx3-ubyte.gz\n",
            "Downloading http://yann.lecun.com/exdb/mnist/train-images-idx3-ubyte.gz to ./MNIST/raw/train-images-idx3-ubyte.gz\n"
          ]
        },
        {
          "output_type": "stream",
          "name": "stderr",
          "text": [
            "100%|██████████| 9912422/9912422 [00:00<00:00, 107420230.69it/s]\n"
          ]
        },
        {
          "output_type": "stream",
          "name": "stdout",
          "text": [
            "Extracting ./MNIST/raw/train-images-idx3-ubyte.gz to ./MNIST/raw\n",
            "\n",
            "Downloading http://yann.lecun.com/exdb/mnist/train-labels-idx1-ubyte.gz\n",
            "Downloading http://yann.lecun.com/exdb/mnist/train-labels-idx1-ubyte.gz to ./MNIST/raw/train-labels-idx1-ubyte.gz\n"
          ]
        },
        {
          "output_type": "stream",
          "name": "stderr",
          "text": [
            "100%|██████████| 28881/28881 [00:00<00:00, 8225415.48it/s]\n"
          ]
        },
        {
          "output_type": "stream",
          "name": "stdout",
          "text": [
            "Extracting ./MNIST/raw/train-labels-idx1-ubyte.gz to ./MNIST/raw\n",
            "\n",
            "Downloading http://yann.lecun.com/exdb/mnist/t10k-images-idx3-ubyte.gz\n",
            "Downloading http://yann.lecun.com/exdb/mnist/t10k-images-idx3-ubyte.gz to ./MNIST/raw/t10k-images-idx3-ubyte.gz\n"
          ]
        },
        {
          "output_type": "stream",
          "name": "stderr",
          "text": [
            "100%|██████████| 1648877/1648877 [00:00<00:00, 28654317.26it/s]\n"
          ]
        },
        {
          "output_type": "stream",
          "name": "stdout",
          "text": [
            "Extracting ./MNIST/raw/t10k-images-idx3-ubyte.gz to ./MNIST/raw\n",
            "\n",
            "Downloading http://yann.lecun.com/exdb/mnist/t10k-labels-idx1-ubyte.gz\n",
            "Downloading http://yann.lecun.com/exdb/mnist/t10k-labels-idx1-ubyte.gz to ./MNIST/raw/t10k-labels-idx1-ubyte.gz\n"
          ]
        },
        {
          "output_type": "stream",
          "name": "stderr",
          "text": [
            "100%|██████████| 4542/4542 [00:00<00:00, 5457040.61it/s]"
          ]
        },
        {
          "output_type": "stream",
          "name": "stdout",
          "text": [
            "Extracting ./MNIST/raw/t10k-labels-idx1-ubyte.gz to ./MNIST/raw\n",
            "\n"
          ]
        },
        {
          "output_type": "stream",
          "name": "stderr",
          "text": [
            "\n"
          ]
        }
      ],
      "source": [
        "train_dataset = datasets.MNIST('.', download=True)\n",
        "test_dataset = datasets.MNIST('.', download=True, train=False)"
      ]
    },
    {
      "cell_type": "code",
      "source": [
        "len(train_dataset)"
      ],
      "metadata": {
        "colab": {
          "base_uri": "https://localhost:8080/"
        },
        "id": "5jMKXfUBoS_j",
        "outputId": "2288f617-0ff1-47bd-f4a2-11431fda79d4"
      },
      "execution_count": null,
      "outputs": [
        {
          "output_type": "execute_result",
          "data": {
            "text/plain": [
              "60000"
            ]
          },
          "metadata": {},
          "execution_count": 4
        }
      ]
    },
    {
      "cell_type": "code",
      "source": [
        "len(test_dataset)"
      ],
      "metadata": {
        "colab": {
          "base_uri": "https://localhost:8080/"
        },
        "id": "DWzCcZu6oYSk",
        "outputId": "fb611040-5b6c-4794-8c3d-b0841ab85424"
      },
      "execution_count": null,
      "outputs": [
        {
          "output_type": "execute_result",
          "data": {
            "text/plain": [
              "10000"
            ]
          },
          "metadata": {},
          "execution_count": 5
        }
      ]
    },
    {
      "cell_type": "code",
      "execution_count": null,
      "metadata": {
        "colab": {
          "base_uri": "https://localhost:8080/"
        },
        "id": "dhJuBtoz7f43",
        "outputId": "72f5581a-ee90-4bc4-b3d3-3027786926ce"
      },
      "outputs": [
        {
          "output_type": "execute_result",
          "data": {
            "text/plain": [
              "(<PIL.Image.Image image mode=L size=28x28>, 7)"
            ]
          },
          "metadata": {},
          "execution_count": 6
        }
      ],
      "source": [
        "test_dataset[0]"
      ]
    },
    {
      "cell_type": "code",
      "execution_count": 5,
      "metadata": {
        "colab": {
          "base_uri": "https://localhost:8080/",
          "height": 430
        },
        "id": "0zXXXYP37gFL",
        "outputId": "6fd9def9-3351-41be-a6b4-f8aa51383514"
      },
      "outputs": [
        {
          "output_type": "display_data",
          "data": {
            "text/plain": [
              "<Figure size 640x480 with 1 Axes>"
            ],
            "image/png": "[encoded data removed]"
          },
          "metadata": {}
        }
      ],
      "source": [
        "%matplotlib inline\n",
        "import matplotlib.pyplot as plt\n",
        "\n",
        "plt.imshow(train_dataset.data[1].detach().numpy())\n",
        "plt.show()"
      ]
    },
    {
      "cell_type": "code",
      "execution_count": 6,
      "metadata": {
        "id": "LdAH7oiY8Mxv"
      },
      "outputs": [],
      "source": [
        "class LinearModel(nn.Module):\n",
        "  def __init__(self, input_dim, hidden_dim, output_dim, dropout_p=0.1):\n",
        "    super().__init__()\n",
        "    self.linear1 = nn.Linear(input_dim, hidden_dim)\n",
        "    self.linear2 = nn.Linear(hidden_dim, hidden_dim)\n",
        "    self.linear3 = nn.Linear(hidden_dim, hidden_dim)\n",
        "    # self.linear4 = nn.Linear(hidden_dim, int(hidden_dim / 2))\n",
        "    # self.linear5 = nn.Linear(hidden_dim, output_dim)\n",
        "\n",
        "    self.bn1 = nn.BatchNorm1d(hidden_dim)\n",
        "    self.bn2 = nn.BatchNorm1d(hidden_dim)\n",
        "    self.bn3 = nn.BatchNorm1d(hidden_dim)\n",
        "    # self.bn4 = nn.BatchNorm1d(int(hidden_dim / 2))\n",
        "\n",
        "    self.do1 = nn.Dropout(dropout_p)\n",
        "    self.do2 = nn.Dropout(dropout_p)\n",
        "    self.do3 = nn.Dropout(dropout_p)\n",
        "    self.activation = nn.ReLU()\n",
        "\n",
        "  def forward(self, x):\n",
        "    x = self.do1(self.activation(self.bn1(self.linear1(x))))\n",
        "    x = self.do2(self.activation(self.bn2(self.linear2(x))))\n",
        "    x = self.do3(self.activation(self.bn3(self.linear3(x))))\n",
        "    # x = self.do3(self.activation(self.bn4(self.linear4(x))))\n",
        "\n",
        "    return self.linear5(x)"
      ]
    },
    {
      "cell_type": "code",
      "execution_count": 7,
      "metadata": {
        "id": "aImjm1_u8NR8"
      },
      "outputs": [],
      "source": [
        "def collate_fn(data: list):\n",
        "  # data = [(pic, target)...]\n",
        "  pics = []\n",
        "  target = []\n",
        "\n",
        "  for item in data:\n",
        "    pics.append(numpy.array(item[0]))\n",
        "    target.append(item[1])\n",
        "\n",
        "  pics = torch.from_numpy(numpy.array(pics)).float() / 255 # B x W x H\n",
        "  target = torch.from_numpy(numpy.array(target))\n",
        "\n",
        "  return {\n",
        "      'data': pics.view(pics.size(0), -1),\n",
        "      'target': target,\n",
        "      }\n"
      ]
    },
    {
      "cell_type": "code",
      "execution_count": 8,
      "metadata": {
        "id": "uPJauY4hAqJ6"
      },
      "outputs": [],
      "source": [
        "# hyperparams\n",
        "inp_dim = 28 * 28\n",
        "hidden = 256\n",
        "out_dim = 10\n",
        "device_id = -1\n",
        "device = 'cpu' if device_id == -1 else f'cuda:{device_id}'\n",
        "n_epochs = 20\n",
        "batch_size = 128\n",
        "learning_rate = 0.001"
      ]
    },
    {
      "cell_type": "code",
      "execution_count": 9,
      "metadata": {
        "id": "_fdZfq9C9zO2"
      },
      "outputs": [],
      "source": [
        "model = LinearModel(inp_dim, hidden, out_dim).to(device)\n",
        "optim = torch.optim.Adam(model.parameters(), lr=learning_rate)\n",
        "loss_func = nn.CrossEntropyLoss()"
      ]
    },
    {
      "cell_type": "code",
      "source": [
        "def train_model(train_dataloader, model):\n",
        "  train_loss = 0\n",
        "\n",
        "  model.train()\n",
        "\n",
        "  for i, batch in enumerate(train_dataloader):\n",
        "    optim.zero_grad()\n",
        "\n",
        "    predict = model(batch['data'].to(device))\n",
        "    loss = loss_func(predict, batch['target'].to(device).long())\n",
        "\n",
        "    loss.backward()\n",
        "    optim.step()\n",
        "\n",
        "    train_loss += loss.item()\n",
        "\n",
        "  return train_loss"
      ],
      "metadata": {
        "id": "JRLFkPiDddfE"
      },
      "execution_count": 10,
      "outputs": []
    },
    {
      "cell_type": "code",
      "source": [
        "def validate_model(test_dataloader, model):\n",
        "  test_loss = 0\n",
        "\n",
        "  model.eval()\n",
        "\n",
        "  with torch.no_grad():\n",
        "    for i, batch in enumerate(test_dataloader):\n",
        "      predict = model(batch['data'].to(device))\n",
        "      target = batch['target'].to(device).long()\n",
        "      loss = loss_func(predict, target)\n",
        "\n",
        "      test_loss += loss.item()\n",
        "\n",
        "  return test_loss"
      ],
      "metadata": {
        "id": "Ko_QjtJ9eH27"
      },
      "execution_count": 11,
      "outputs": []
    },
    {
      "cell_type": "code",
      "source": [
        "def compute_accuracy(model, dataloader):\n",
        "    correct = 0\n",
        "    total = 0\n",
        "\n",
        "    model.eval()\n",
        "\n",
        "    with torch.no_grad():\n",
        "        for batch in dataloader:\n",
        "            inputs, labels = batch['data'], batch['target']\n",
        "            outputs = model(inputs)\n",
        "            _, predicted = torch.max(outputs, 1)\n",
        "            total += labels.size(0)\n",
        "            correct += (predicted == labels).sum().item()\n",
        "\n",
        "    accuracy = correct / total\n",
        "    return accuracy"
      ],
      "metadata": {
        "id": "PP-fFeLTBTCs"
      },
      "execution_count": 12,
      "outputs": []
    },
    {
      "cell_type": "code",
      "execution_count": null,
      "metadata": {
        "colab": {
          "base_uri": "https://localhost:8080/"
        },
        "id": "4p52DhoFBYTr",
        "outputId": "13258ab7-ea7f-44b9-ff51-8fb569c7ae5f"
      },
      "outputs": [
        {
          "output_type": "stream",
          "name": "stdout",
          "text": [
            "Epoch [1/20], Train Loss: 0.2248, Val Loss: 0.1002\n",
            "Epoch [2/20], Train Loss: 0.1000, Val Loss: 0.0810\n",
            "Epoch [3/20], Train Loss: 0.0742, Val Loss: 0.0783\n",
            "Epoch [4/20], Train Loss: 0.0596, Val Loss: 0.0684\n",
            "Epoch [5/20], Train Loss: 0.0498, Val Loss: 0.0641\n",
            "Epoch [6/20], Train Loss: 0.0433, Val Loss: 0.0629\n",
            "Epoch [7/20], Train Loss: 0.0385, Val Loss: 0.0599\n",
            "Epoch [8/20], Train Loss: 0.0337, Val Loss: 0.0621\n",
            "Epoch [9/20], Train Loss: 0.0313, Val Loss: 0.0571\n",
            "Epoch [10/20], Train Loss: 0.0276, Val Loss: 0.0657\n",
            "Epoch [11/20], Train Loss: 0.0263, Val Loss: 0.0557\n",
            "Epoch [12/20], Train Loss: 0.0231, Val Loss: 0.0609\n",
            "Epoch [13/20], Train Loss: 0.0228, Val Loss: 0.0575\n",
            "Epoch [14/20], Train Loss: 0.0204, Val Loss: 0.0658\n",
            "Epoch [15/20], Train Loss: 0.0192, Val Loss: 0.0616\n",
            "Epoch [16/20], Train Loss: 0.0183, Val Loss: 0.0648\n",
            "Epoch [17/20], Train Loss: 0.0170, Val Loss: 0.0568\n",
            "Epoch [18/20], Train Loss: 0.0152, Val Loss: 0.0556\n",
            "Epoch [19/20], Train Loss: 0.0166, Val Loss: 0.0604\n",
            "Epoch [20/20], Train Loss: 0.0166, Val Loss: 0.0641\n",
            "minimum loss - 0.0556\n"
          ]
        }
      ],
      "source": [
        "train_losses = []\n",
        "test_losses = []\n",
        "\n",
        "\n",
        "for epoch in range(n_epochs):\n",
        "  train_loss = 0\n",
        "  test_loss = 0\n",
        "\n",
        "  train_dataloader = DataLoader(train_dataset,\n",
        "                          batch_size,\n",
        "                          shuffle=True,\n",
        "                          collate_fn=collate_fn,\n",
        "                          drop_last = True,\n",
        "                          )\n",
        "\n",
        "  test_dataloader = DataLoader(test_dataset,\n",
        "                          batch_size,\n",
        "                          shuffle=True,\n",
        "                          collate_fn=collate_fn,\n",
        "                          drop_last = True,\n",
        "                          )\n",
        "\n",
        "  train_loss += train_model(train_dataloader, model)\n",
        "  test_loss += validate_model(test_dataloader, model)\n",
        "\n",
        "  train_losses.append(train_loss / len(train_dataloader))\n",
        "  test_losses.append(test_loss / len(test_dataloader))\n",
        "\n",
        "  print(f'Epoch [{epoch+1}/{n_epochs}], '\n",
        "          f'Train Loss: {train_losses[-1]:.4f}, '\n",
        "          f'Val Loss: {test_losses[-1]:.4f}')\n",
        "\n",
        "  torch.save(model.state_dict(), f'./chkpt_{epoch}.pth')\n",
        "\n",
        "print(f'minimum loss - {min(test_losses):.4f}')\n"
      ]
    },
    {
      "cell_type": "code",
      "source": [
        "plt.plot(range(1, n_epochs+1), train_losses, label='train loss')\n",
        "plt.plot(range(1, n_epochs+1), test_losses, label='testing loss')\n",
        "plt.xlabel('эпоха')\n",
        "plt.ylabel('loss')\n",
        "plt.title('training and testing loss')\n",
        "plt.legend()\n",
        "plt.show()"
      ],
      "metadata": {
        "colab": {
          "base_uri": "https://localhost:8080/",
          "height": 472
        },
        "id": "Un9wQdQ7uSFw",
        "outputId": "66135b36-0f84-4389-a9d1-d6aa54edb465"
      },
      "execution_count": null,
      "outputs": [
        {
          "output_type": "display_data",
          "data": {
            "text/plain": [
              "<Figure size 640x480 with 1 Axes>"
            ],
            "image/png": "[encoded data removed]"
          },
          "metadata": {}
        }
      ]
    },
    {
      "cell_type": "code",
      "source": [
        "train_dataloader = DataLoader(train_dataset,\n",
        "                              batch_size,\n",
        "                              shuffle=False,\n",
        "                              collate_fn=collate_fn)\n",
        "\n",
        "test_dataloader = DataLoader(test_dataset,\n",
        "                             batch_size,\n",
        "                             shuffle=False,\n",
        "                             collate_fn=collate_fn)"
      ],
      "metadata": {
        "id": "9U656MKzmRwQ"
      },
      "execution_count": 13,
      "outputs": []
    },
    {
      "cell_type": "code",
      "source": [
        "\n",
        "\n",
        "train_accuracy = compute_accuracy(model, train_dataloader)\n",
        "test_accuracy = compute_accuracy(model, test_dataloader)\n",
        "\n",
        "print(f'train accuracy - {train_accuracy:.4f}')\n",
        "print(f'test accuracy - {test_accuracy:.4f}')"
      ],
      "metadata": {
        "colab": {
          "base_uri": "https://localhost:8080/"
        },
        "id": "Rwl35GYUBZVg",
        "outputId": "184b24c1-abb5-464f-9b91-6544c5635ea7"
      },
      "execution_count": null,
      "outputs": [
        {
          "output_type": "stream",
          "name": "stdout",
          "text": [
            "train accuracy - 0.9987\n",
            "test accuracy - 0.9840\n"
          ]
        }
      ]
    },
    {
      "cell_type": "markdown",
      "source": [
        "Без batchnorm потери на валидации перестали снижаться где-то в районе 4-5 эпохи. При этом потери обучения продолжали снижаться до 20-й эпохи. Скорее всего модель на количестве эпох больше 10-15 (в зависимости от lr) начинает переобучаться и обучать на большем количестве эпох нет смысла.\n",
        "\n",
        "При применении batchnorm потери на валидации (видно на графике) снижаются где-то до 10-й эпохи, дальше уже график начинает колебаться, но при этом минимальное значение loss достигается на 18-й эпохе\n",
        "\n",
        "Добавление слоев больше 4-х привело к ухудшению производительности модели и не уменьшило loss на валидации. Изменение lr в меньшую сторону приводит только к тому, что модель дольше обучается (сходится за большее количество эпох), график уменьшения loss более плавный, к уменьшению самого loss это не привело. Изменение других параметров таких как количество нейронов в разных слоях и batch size так же не привело к значимому эффекту по loss"
      ],
      "metadata": {
        "id": "B5qDc1LByIKW"
      }
    },
    {
      "cell_type": "markdown",
      "metadata": {
        "id": "KzR-Z2IDGD7H"
      },
      "source": [
        "# Сверточные сети\n"
      ]
    },
    {
      "cell_type": "code",
      "execution_count": 21,
      "metadata": {
        "id": "PCdOthJdBYqZ"
      },
      "outputs": [],
      "source": [
        "class ConvModel(nn.Module):\n",
        "  def __init__(self, input_ch, hidden_ch, output_dim, dropout_p=0.1):\n",
        "    super().__init__()\n",
        "    self.conv1 = nn.Conv2d(input_ch, hidden_ch,\n",
        "                           kernel_size=5, padding=2, stride=2) # уменьшаем картинку в 2 раза\n",
        "    self.bn1 = nn.BatchNorm2d(hidden_ch)\n",
        "    self.conv2 = nn.Conv2d(hidden_ch, hidden_ch, kernel_size=3, padding=1)\n",
        "    self.bn2 = nn.BatchNorm2d(hidden_ch)\n",
        "    self.conv3 = nn.Conv2d(hidden_ch, hidden_ch, kernel_size=3, padding=1)\n",
        "    self.bn3 = nn.BatchNorm2d(hidden_ch)\n",
        "    self.conv5 = nn.Conv2d(hidden_ch, hidden_ch, kernel_size=3, padding=1)\n",
        "    self.bn5 = nn.BatchNorm2d(hidden_ch)\n",
        "    self.conv4 = nn.Conv2d(hidden_ch, 10, kernel_size=3, padding=1)\n",
        "    self.bn4 = nn.BatchNorm2d(10)\n",
        "    self.linear3 = nn.Linear(10 * 14 * 14, output_dim)\n",
        "\n",
        "    self.do1 = nn.Dropout(dropout_p)\n",
        "    self.do2 = nn.Dropout(dropout_p)\n",
        "    self.do3 = nn.Dropout(dropout_p)\n",
        "    self.do5 = nn.Dropout(dropout_p)\n",
        "\n",
        "    self.activation = nn.ReLU()\n",
        "\n",
        "  def forward(self, x):\n",
        "    x = self.do1(self.activation(self.bn1(self.conv1(x))))\n",
        "    x = self.do2(self.activation(self.bn2(self.conv2(x))))\n",
        "    x = self.do3(self.activation(self.bn3(self.conv3(x))))\n",
        "    x = self.do5(self.activation(self.bn5(self.conv5(x))))\n",
        "    x = self.activation(self.bn4(self.conv4(x))) # B x 2 x 14 x 14\n",
        "\n",
        "\n",
        "    return self.linear3(x.view(x.size(0), -1))\n",
        "    # x.size() -> (B, W, H); x.size(0) -> B\n",
        "    # x.view(B, -1) -> (B, вектор размера всего остального)"
      ]
    },
    {
      "cell_type": "code",
      "execution_count": 15,
      "metadata": {
        "id": "K_PACmDaH8Z7"
      },
      "outputs": [],
      "source": [
        "def collate_fn_conv(data: list):\n",
        "  # data = [(pic, target)...]\n",
        "  pics = []\n",
        "  target = []\n",
        "\n",
        "  for item in data:\n",
        "    pics.append(numpy.array(item[0])) # W x H\n",
        "    target.append(item[1])\n",
        "\n",
        "  pics = torch.from_numpy(numpy.array(pics)).float() / 255 # B x W x H\n",
        "  target = torch.from_numpy(numpy.array(target))\n",
        "\n",
        "  return {\n",
        "      'data': pics.unsqueeze(1), # B x 1(C) x W x H\n",
        "      'target': target.long(),\n",
        "      }\n"
      ]
    },
    {
      "cell_type": "code",
      "execution_count": 18,
      "metadata": {
        "id": "RYVsEjc-H1hQ"
      },
      "outputs": [],
      "source": [
        "# hyperparams\n",
        "input_ch = 1\n",
        "hidden_ch = 128\n",
        "out_dim = 10\n",
        "device_id = -1\n",
        "device = 'cpu' if device_id == -1 else f'cuda:{device_id}'\n",
        "n_epochs = 10\n",
        "batch_size = 128"
      ]
    },
    {
      "cell_type": "code",
      "execution_count": 22,
      "metadata": {
        "id": "a4gX5zVDIZdu"
      },
      "outputs": [],
      "source": [
        "model_conv = ConvModel(input_ch, hidden_ch, out_dim).to(device)\n",
        "optim = torch.optim.Adam(model_conv.parameters())\n",
        "loss_func = nn.CrossEntropyLoss()"
      ]
    },
    {
      "cell_type": "code",
      "execution_count": 23,
      "metadata": {
        "colab": {
          "base_uri": "https://localhost:8080/",
          "height": 356
        },
        "id": "jVX0P0otIk4D",
        "outputId": "e9c92030-1588-43f8-a764-b7a398f2c7ce"
      },
      "outputs": [
        {
          "output_type": "error",
          "ename": "KeyboardInterrupt",
          "evalue": "",
          "traceback": [
            "\u001b[0;31m---------------------------------------------------------------------------\u001b[0m",
            "\u001b[0;31mKeyboardInterrupt\u001b[0m                         Traceback (most recent call last)",
            "\u001b[0;32m<ipython-input-23-5162fc389e6b>\u001b[0m in \u001b[0;36m<cell line: 4>\u001b[0;34m()\u001b[0m\n\u001b[1;32m     20\u001b[0m                           )\n\u001b[1;32m     21\u001b[0m \u001b[0;34m\u001b[0m\u001b[0m\n\u001b[0;32m---> 22\u001b[0;31m   \u001b[0mtrain_loss\u001b[0m \u001b[0;34m+=\u001b[0m \u001b[0mtrain_model\u001b[0m\u001b[0;34m(\u001b[0m\u001b[0mtrain_dataloader\u001b[0m\u001b[0;34m,\u001b[0m \u001b[0mmodel_conv\u001b[0m\u001b[0;34m)\u001b[0m\u001b[0;34m\u001b[0m\u001b[0;34m\u001b[0m\u001b[0m\n\u001b[0m\u001b[1;32m     23\u001b[0m   \u001b[0mtest_loss\u001b[0m \u001b[0;34m+=\u001b[0m \u001b[0mvalidate_model\u001b[0m\u001b[0;34m(\u001b[0m\u001b[0mtest_dataloader\u001b[0m\u001b[0;34m,\u001b[0m \u001b[0mmodel_conv\u001b[0m\u001b[0;34m)\u001b[0m\u001b[0;34m\u001b[0m\u001b[0;34m\u001b[0m\u001b[0m\n\u001b[1;32m     24\u001b[0m \u001b[0;34m\u001b[0m\u001b[0m\n",
            "\u001b[0;32m<ipython-input-10-07956146105e>\u001b[0m in \u001b[0;36mtrain_model\u001b[0;34m(train_dataloader, model)\u001b[0m\n\u001b[1;32m      7\u001b[0m     \u001b[0moptim\u001b[0m\u001b[0;34m.\u001b[0m\u001b[0mzero_grad\u001b[0m\u001b[0;34m(\u001b[0m\u001b[0;34m)\u001b[0m\u001b[0;34m\u001b[0m\u001b[0;34m\u001b[0m\u001b[0m\n\u001b[1;32m      8\u001b[0m \u001b[0;34m\u001b[0m\u001b[0m\n\u001b[0;32m----> 9\u001b[0;31m     \u001b[0mpredict\u001b[0m \u001b[0;34m=\u001b[0m \u001b[0mmodel\u001b[0m\u001b[0;34m(\u001b[0m\u001b[0mbatch\u001b[0m\u001b[0;34m[\u001b[0m\u001b[0;34m'data'\u001b[0m\u001b[0;34m]\u001b[0m\u001b[0;34m.\u001b[0m\u001b[0mto\u001b[0m\u001b[0;34m(\u001b[0m\u001b[0mdevice\u001b[0m\u001b[0;34m)\u001b[0m\u001b[0;34m)\u001b[0m\u001b[0;34m\u001b[0m\u001b[0;34m\u001b[0m\u001b[0m\n\u001b[0m\u001b[1;32m     10\u001b[0m     \u001b[0mloss\u001b[0m \u001b[0;34m=\u001b[0m \u001b[0mloss_func\u001b[0m\u001b[0;34m(\u001b[0m\u001b[0mpredict\u001b[0m\u001b[0;34m,\u001b[0m \u001b[0mbatch\u001b[0m\u001b[0;34m[\u001b[0m\u001b[0;34m'target'\u001b[0m\u001b[0;34m]\u001b[0m\u001b[0;34m.\u001b[0m\u001b[0mto\u001b[0m\u001b[0;34m(\u001b[0m\u001b[0mdevice\u001b[0m\u001b[0;34m)\u001b[0m\u001b[0;34m.\u001b[0m\u001b[0mlong\u001b[0m\u001b[0;34m(\u001b[0m\u001b[0;34m)\u001b[0m\u001b[0;34m)\u001b[0m\u001b[0;34m\u001b[0m\u001b[0;34m\u001b[0m\u001b[0m\n\u001b[1;32m     11\u001b[0m \u001b[0;34m\u001b[0m\u001b[0m\n",
            "\u001b[0;32m/usr/local/lib/python3.10/dist-packages/torch/nn/modules/module.py\u001b[0m in \u001b[0;36m_wrapped_call_impl\u001b[0;34m(self, *args, **kwargs)\u001b[0m\n\u001b[1;32m   1516\u001b[0m             \u001b[0;32mreturn\u001b[0m \u001b[0mself\u001b[0m\u001b[0;34m.\u001b[0m\u001b[0m_compiled_call_impl\u001b[0m\u001b[0;34m(\u001b[0m\u001b[0;34m*\u001b[0m\u001b[0margs\u001b[0m\u001b[0;34m,\u001b[0m \u001b[0;34m**\u001b[0m\u001b[0mkwargs\u001b[0m\u001b[0;34m)\u001b[0m  \u001b[0;31m# type: ignore[misc]\u001b[0m\u001b[0;34m\u001b[0m\u001b[0;34m\u001b[0m\u001b[0m\n\u001b[1;32m   1517\u001b[0m         \u001b[0;32melse\u001b[0m\u001b[0;34m:\u001b[0m\u001b[0;34m\u001b[0m\u001b[0;34m\u001b[0m\u001b[0m\n\u001b[0;32m-> 1518\u001b[0;31m             \u001b[0;32mreturn\u001b[0m \u001b[0mself\u001b[0m\u001b[0;34m.\u001b[0m\u001b[0m_call_impl\u001b[0m\u001b[0;34m(\u001b[0m\u001b[0;34m*\u001b[0m\u001b[0margs\u001b[0m\u001b[0;34m,\u001b[0m \u001b[0;34m**\u001b[0m\u001b[0mkwargs\u001b[0m\u001b[0;34m)\u001b[0m\u001b[0;34m\u001b[0m\u001b[0;34m\u001b[0m\u001b[0m\n\u001b[0m\u001b[1;32m   1519\u001b[0m \u001b[0;34m\u001b[0m\u001b[0m\n\u001b[1;32m   1520\u001b[0m     \u001b[0;32mdef\u001b[0m \u001b[0m_call_impl\u001b[0m\u001b[0;34m(\u001b[0m\u001b[0mself\u001b[0m\u001b[0;34m,\u001b[0m \u001b[0;34m*\u001b[0m\u001b[0margs\u001b[0m\u001b[0;34m,\u001b[0m \u001b[0;34m**\u001b[0m\u001b[0mkwargs\u001b[0m\u001b[0;34m)\u001b[0m\u001b[0;34m:\u001b[0m\u001b[0;34m\u001b[0m\u001b[0;34m\u001b[0m\u001b[0m\n",
            "\u001b[0;32m/usr/local/lib/python3.10/dist-packages/torch/nn/modules/module.py\u001b[0m in \u001b[0;36m_call_impl\u001b[0;34m(self, *args, **kwargs)\u001b[0m\n\u001b[1;32m   1525\u001b[0m                 \u001b[0;32mor\u001b[0m \u001b[0m_global_backward_pre_hooks\u001b[0m \u001b[0;32mor\u001b[0m \u001b[0m_global_backward_hooks\u001b[0m\u001b[0;34m\u001b[0m\u001b[0;34m\u001b[0m\u001b[0m\n\u001b[1;32m   1526\u001b[0m                 or _global_forward_hooks or _global_forward_pre_hooks):\n\u001b[0;32m-> 1527\u001b[0;31m             \u001b[0;32mreturn\u001b[0m \u001b[0mforward_call\u001b[0m\u001b[0;34m(\u001b[0m\u001b[0;34m*\u001b[0m\u001b[0margs\u001b[0m\u001b[0;34m,\u001b[0m \u001b[0;34m**\u001b[0m\u001b[0mkwargs\u001b[0m\u001b[0;34m)\u001b[0m\u001b[0;34m\u001b[0m\u001b[0;34m\u001b[0m\u001b[0m\n\u001b[0m\u001b[1;32m   1528\u001b[0m \u001b[0;34m\u001b[0m\u001b[0m\n\u001b[1;32m   1529\u001b[0m         \u001b[0;32mtry\u001b[0m\u001b[0;34m:\u001b[0m\u001b[0;34m\u001b[0m\u001b[0;34m\u001b[0m\u001b[0m\n",
            "\u001b[0;32m<ipython-input-21-cd99f9d58979>\u001b[0m in \u001b[0;36mforward\u001b[0;34m(self, x)\u001b[0m\n\u001b[1;32m     24\u001b[0m   \u001b[0;32mdef\u001b[0m \u001b[0mforward\u001b[0m\u001b[0;34m(\u001b[0m\u001b[0mself\u001b[0m\u001b[0;34m,\u001b[0m \u001b[0mx\u001b[0m\u001b[0;34m)\u001b[0m\u001b[0;34m:\u001b[0m\u001b[0;34m\u001b[0m\u001b[0;34m\u001b[0m\u001b[0m\n\u001b[1;32m     25\u001b[0m     \u001b[0mx\u001b[0m \u001b[0;34m=\u001b[0m \u001b[0mself\u001b[0m\u001b[0;34m.\u001b[0m\u001b[0mdo1\u001b[0m\u001b[0;34m(\u001b[0m\u001b[0mself\u001b[0m\u001b[0;34m.\u001b[0m\u001b[0mactivation\u001b[0m\u001b[0;34m(\u001b[0m\u001b[0mself\u001b[0m\u001b[0;34m.\u001b[0m\u001b[0mbn1\u001b[0m\u001b[0;34m(\u001b[0m\u001b[0mself\u001b[0m\u001b[0;34m.\u001b[0m\u001b[0mconv1\u001b[0m\u001b[0;34m(\u001b[0m\u001b[0mx\u001b[0m\u001b[0;34m)\u001b[0m\u001b[0;34m)\u001b[0m\u001b[0;34m)\u001b[0m\u001b[0;34m)\u001b[0m\u001b[0;34m\u001b[0m\u001b[0;34m\u001b[0m\u001b[0m\n\u001b[0;32m---> 26\u001b[0;31m     \u001b[0mx\u001b[0m \u001b[0;34m=\u001b[0m \u001b[0mself\u001b[0m\u001b[0;34m.\u001b[0m\u001b[0mdo2\u001b[0m\u001b[0;34m(\u001b[0m\u001b[0mself\u001b[0m\u001b[0;34m.\u001b[0m\u001b[0mactivation\u001b[0m\u001b[0;34m(\u001b[0m\u001b[0mself\u001b[0m\u001b[0;34m.\u001b[0m\u001b[0mbn2\u001b[0m\u001b[0;34m(\u001b[0m\u001b[0mself\u001b[0m\u001b[0;34m.\u001b[0m\u001b[0mconv2\u001b[0m\u001b[0;34m(\u001b[0m\u001b[0mx\u001b[0m\u001b[0;34m)\u001b[0m\u001b[0;34m)\u001b[0m\u001b[0;34m)\u001b[0m\u001b[0;34m)\u001b[0m\u001b[0;34m\u001b[0m\u001b[0;34m\u001b[0m\u001b[0m\n\u001b[0m\u001b[1;32m     27\u001b[0m     \u001b[0mx\u001b[0m \u001b[0;34m=\u001b[0m \u001b[0mself\u001b[0m\u001b[0;34m.\u001b[0m\u001b[0mdo3\u001b[0m\u001b[0;34m(\u001b[0m\u001b[0mself\u001b[0m\u001b[0;34m.\u001b[0m\u001b[0mactivation\u001b[0m\u001b[0;34m(\u001b[0m\u001b[0mself\u001b[0m\u001b[0;34m.\u001b[0m\u001b[0mbn3\u001b[0m\u001b[0;34m(\u001b[0m\u001b[0mself\u001b[0m\u001b[0;34m.\u001b[0m\u001b[0mconv3\u001b[0m\u001b[0;34m(\u001b[0m\u001b[0mx\u001b[0m\u001b[0;34m)\u001b[0m\u001b[0;34m)\u001b[0m\u001b[0;34m)\u001b[0m\u001b[0;34m)\u001b[0m\u001b[0;34m\u001b[0m\u001b[0;34m\u001b[0m\u001b[0m\n\u001b[1;32m     28\u001b[0m     \u001b[0mx\u001b[0m \u001b[0;34m=\u001b[0m \u001b[0mself\u001b[0m\u001b[0;34m.\u001b[0m\u001b[0mdo5\u001b[0m\u001b[0;34m(\u001b[0m\u001b[0mself\u001b[0m\u001b[0;34m.\u001b[0m\u001b[0mactivation\u001b[0m\u001b[0;34m(\u001b[0m\u001b[0mself\u001b[0m\u001b[0;34m.\u001b[0m\u001b[0mbn5\u001b[0m\u001b[0;34m(\u001b[0m\u001b[0mself\u001b[0m\u001b[0;34m.\u001b[0m\u001b[0mconv5\u001b[0m\u001b[0;34m(\u001b[0m\u001b[0mx\u001b[0m\u001b[0;34m)\u001b[0m\u001b[0;34m)\u001b[0m\u001b[0;34m)\u001b[0m\u001b[0;34m)\u001b[0m\u001b[0;34m\u001b[0m\u001b[0;34m\u001b[0m\u001b[0m\n",
            "\u001b[0;32m/usr/local/lib/python3.10/dist-packages/torch/nn/modules/module.py\u001b[0m in \u001b[0;36m_wrapped_call_impl\u001b[0;34m(self, *args, **kwargs)\u001b[0m\n\u001b[1;32m   1516\u001b[0m             \u001b[0;32mreturn\u001b[0m \u001b[0mself\u001b[0m\u001b[0;34m.\u001b[0m\u001b[0m_compiled_call_impl\u001b[0m\u001b[0;34m(\u001b[0m\u001b[0;34m*\u001b[0m\u001b[0margs\u001b[0m\u001b[0;34m,\u001b[0m \u001b[0;34m**\u001b[0m\u001b[0mkwargs\u001b[0m\u001b[0;34m)\u001b[0m  \u001b[0;31m# type: ignore[misc]\u001b[0m\u001b[0;34m\u001b[0m\u001b[0;34m\u001b[0m\u001b[0m\n\u001b[1;32m   1517\u001b[0m         \u001b[0;32melse\u001b[0m\u001b[0;34m:\u001b[0m\u001b[0;34m\u001b[0m\u001b[0;34m\u001b[0m\u001b[0m\n\u001b[0;32m-> 1518\u001b[0;31m             \u001b[0;32mreturn\u001b[0m \u001b[0mself\u001b[0m\u001b[0;34m.\u001b[0m\u001b[0m_call_impl\u001b[0m\u001b[0;34m(\u001b[0m\u001b[0;34m*\u001b[0m\u001b[0margs\u001b[0m\u001b[0;34m,\u001b[0m \u001b[0;34m**\u001b[0m\u001b[0mkwargs\u001b[0m\u001b[0;34m)\u001b[0m\u001b[0;34m\u001b[0m\u001b[0;34m\u001b[0m\u001b[0m\n\u001b[0m\u001b[1;32m   1519\u001b[0m \u001b[0;34m\u001b[0m\u001b[0m\n\u001b[1;32m   1520\u001b[0m     \u001b[0;32mdef\u001b[0m \u001b[0m_call_impl\u001b[0m\u001b[0;34m(\u001b[0m\u001b[0mself\u001b[0m\u001b[0;34m,\u001b[0m \u001b[0;34m*\u001b[0m\u001b[0margs\u001b[0m\u001b[0;34m,\u001b[0m \u001b[0;34m**\u001b[0m\u001b[0mkwargs\u001b[0m\u001b[0;34m)\u001b[0m\u001b[0;34m:\u001b[0m\u001b[0;34m\u001b[0m\u001b[0;34m\u001b[0m\u001b[0m\n",
            "\u001b[0;32m/usr/local/lib/python3.10/dist-packages/torch/nn/modules/module.py\u001b[0m in \u001b[0;36m_call_impl\u001b[0;34m(self, *args, **kwargs)\u001b[0m\n\u001b[1;32m   1525\u001b[0m                 \u001b[0;32mor\u001b[0m \u001b[0m_global_backward_pre_hooks\u001b[0m \u001b[0;32mor\u001b[0m \u001b[0m_global_backward_hooks\u001b[0m\u001b[0;34m\u001b[0m\u001b[0;34m\u001b[0m\u001b[0m\n\u001b[1;32m   1526\u001b[0m                 or _global_forward_hooks or _global_forward_pre_hooks):\n\u001b[0;32m-> 1527\u001b[0;31m             \u001b[0;32mreturn\u001b[0m \u001b[0mforward_call\u001b[0m\u001b[0;34m(\u001b[0m\u001b[0;34m*\u001b[0m\u001b[0margs\u001b[0m\u001b[0;34m,\u001b[0m \u001b[0;34m**\u001b[0m\u001b[0mkwargs\u001b[0m\u001b[0;34m)\u001b[0m\u001b[0;34m\u001b[0m\u001b[0;34m\u001b[0m\u001b[0m\n\u001b[0m\u001b[1;32m   1528\u001b[0m \u001b[0;34m\u001b[0m\u001b[0m\n\u001b[1;32m   1529\u001b[0m         \u001b[0;32mtry\u001b[0m\u001b[0;34m:\u001b[0m\u001b[0;34m\u001b[0m\u001b[0;34m\u001b[0m\u001b[0m\n",
            "\u001b[0;32m/usr/local/lib/python3.10/dist-packages/torch/nn/modules/conv.py\u001b[0m in \u001b[0;36mforward\u001b[0;34m(self, input)\u001b[0m\n\u001b[1;32m    458\u001b[0m \u001b[0;34m\u001b[0m\u001b[0m\n\u001b[1;32m    459\u001b[0m     \u001b[0;32mdef\u001b[0m \u001b[0mforward\u001b[0m\u001b[0;34m(\u001b[0m\u001b[0mself\u001b[0m\u001b[0;34m,\u001b[0m \u001b[0minput\u001b[0m\u001b[0;34m:\u001b[0m \u001b[0mTensor\u001b[0m\u001b[0;34m)\u001b[0m \u001b[0;34m->\u001b[0m \u001b[0mTensor\u001b[0m\u001b[0;34m:\u001b[0m\u001b[0;34m\u001b[0m\u001b[0;34m\u001b[0m\u001b[0m\n\u001b[0;32m--> 460\u001b[0;31m         \u001b[0;32mreturn\u001b[0m \u001b[0mself\u001b[0m\u001b[0;34m.\u001b[0m\u001b[0m_conv_forward\u001b[0m\u001b[0;34m(\u001b[0m\u001b[0minput\u001b[0m\u001b[0;34m,\u001b[0m \u001b[0mself\u001b[0m\u001b[0;34m.\u001b[0m\u001b[0mweight\u001b[0m\u001b[0;34m,\u001b[0m \u001b[0mself\u001b[0m\u001b[0;34m.\u001b[0m\u001b[0mbias\u001b[0m\u001b[0;34m)\u001b[0m\u001b[0;34m\u001b[0m\u001b[0;34m\u001b[0m\u001b[0m\n\u001b[0m\u001b[1;32m    461\u001b[0m \u001b[0;34m\u001b[0m\u001b[0m\n\u001b[1;32m    462\u001b[0m \u001b[0;32mclass\u001b[0m \u001b[0mConv3d\u001b[0m\u001b[0;34m(\u001b[0m\u001b[0m_ConvNd\u001b[0m\u001b[0;34m)\u001b[0m\u001b[0;34m:\u001b[0m\u001b[0;34m\u001b[0m\u001b[0;34m\u001b[0m\u001b[0m\n",
            "\u001b[0;32m/usr/local/lib/python3.10/dist-packages/torch/nn/modules/conv.py\u001b[0m in \u001b[0;36m_conv_forward\u001b[0;34m(self, input, weight, bias)\u001b[0m\n\u001b[1;32m    454\u001b[0m                             \u001b[0mweight\u001b[0m\u001b[0;34m,\u001b[0m \u001b[0mbias\u001b[0m\u001b[0;34m,\u001b[0m \u001b[0mself\u001b[0m\u001b[0;34m.\u001b[0m\u001b[0mstride\u001b[0m\u001b[0;34m,\u001b[0m\u001b[0;34m\u001b[0m\u001b[0;34m\u001b[0m\u001b[0m\n\u001b[1;32m    455\u001b[0m                             _pair(0), self.dilation, self.groups)\n\u001b[0;32m--> 456\u001b[0;31m         return F.conv2d(input, weight, bias, self.stride,\n\u001b[0m\u001b[1;32m    457\u001b[0m                         self.padding, self.dilation, self.groups)\n\u001b[1;32m    458\u001b[0m \u001b[0;34m\u001b[0m\u001b[0m\n",
            "\u001b[0;31mKeyboardInterrupt\u001b[0m: "
          ]
        }
      ],
      "source": [
        "train_losses = []\n",
        "test_losses = []\n",
        "\n",
        "for epoch in range(n_epochs):\n",
        "  train_loss = 0\n",
        "  test_loss = 0\n",
        "\n",
        "  train_dataloader = DataLoader(train_dataset,\n",
        "                          batch_size,\n",
        "                          shuffle=True,\n",
        "                          collate_fn=collate_fn_conv,\n",
        "                          drop_last = True,\n",
        "                          )\n",
        "\n",
        "  test_dataloader = DataLoader(test_dataset,\n",
        "                          batch_size,\n",
        "                          shuffle=True,\n",
        "                          collate_fn=collate_fn_conv,\n",
        "                          drop_last = True,\n",
        "                          )\n",
        "\n",
        "  train_loss += train_model(train_dataloader, model_conv)\n",
        "  test_loss += validate_model(test_dataloader, model_conv)\n",
        "\n",
        "  train_losses.append(train_loss / len(train_dataloader))\n",
        "  test_losses.append(test_loss / len(test_dataloader))\n",
        "\n",
        "  print(f'Epoch [{epoch+1}/{n_epochs}], '\n",
        "          f'Train Loss: {train_losses[-1]:.4f}, '\n",
        "          f'Val Loss: {test_losses[-1]:.4f}')\n",
        "\n",
        "  torch.save(model_conv.state_dict(), f'./chkpt_{epoch}.pth')\n",
        "\n",
        "print(f'{min(test_losses):.4f}')\n"
      ]
    },
    {
      "cell_type": "code",
      "execution_count": 67,
      "metadata": {
        "id": "9CljFAzIMMEW",
        "colab": {
          "base_uri": "https://localhost:8080/",
          "height": 472
        },
        "outputId": "d6a0edb3-b7bf-4c44-cf49-727e5e0878d0"
      },
      "outputs": [
        {
          "output_type": "display_data",
          "data": {
            "text/plain": [
              "<Figure size 640x480 with 1 Axes>"
            ],
            "image/png": "[encoded data removed]"
          },
          "metadata": {}
        }
      ],
      "source": [
        "plt.plot(range(1, n_epochs+1), train_losses, label='train loss')\n",
        "plt.plot(range(1, n_epochs+1), test_losses, label='testing loss')\n",
        "plt.xlabel('эпоха')\n",
        "plt.ylabel('loss')\n",
        "plt.title('Training and testing loss')\n",
        "plt.legend()\n",
        "plt.show()"
      ]
    },
    {
      "cell_type": "code",
      "source": [
        "def compute_accuracy_conv(model, dataloader):\n",
        "    correct = 0\n",
        "    total = 0\n",
        "\n",
        "    model.eval()\n",
        "\n",
        "    with torch.no_grad():\n",
        "        for batch in dataloader:\n",
        "            inputs, labels = batch['data'].to(device), batch['target'].to(device)\n",
        "            outputs = model(inputs)\n",
        "            _, predicted = torch.max(outputs, 1)\n",
        "            total += labels.size(0)\n",
        "            correct += (predicted == labels).sum().item()\n",
        "\n",
        "    accuracy = correct / total\n",
        "    return accuracy\n"
      ],
      "metadata": {
        "id": "ukPbsdvinFxG"
      },
      "execution_count": 60,
      "outputs": []
    },
    {
      "cell_type": "code",
      "source": [
        "train_dataloader = DataLoader(train_dataset,\n",
        "                              batch_size,\n",
        "                              shuffle=False,\n",
        "                              collate_fn=collate_fn_conv)\n",
        "\n",
        "test_dataloader = DataLoader(test_dataset,\n",
        "                             batch_size,\n",
        "                             shuffle=False,\n",
        "                             collate_fn=collate_fn_conv)"
      ],
      "metadata": {
        "id": "Fk6Z0pz4rNFO"
      },
      "execution_count": 68,
      "outputs": []
    },
    {
      "cell_type": "code",
      "source": [
        "train_accuracy = compute_accuracy_conv(model_conv, train_dataloader)\n",
        "test_accuracy = compute_accuracy_conv(model_conv, test_dataloader)\n",
        "\n",
        "print(f'train accuracy - {train_accuracy:.4f}')\n",
        "print(f'test accuracy - {test_accuracy:.4f}')"
      ],
      "metadata": {
        "id": "Fkm7u3B_KIyg",
        "colab": {
          "base_uri": "https://localhost:8080/"
        },
        "outputId": "27a55e09-b421-40b0-f4f0-64a6c54a5fac"
      },
      "execution_count": 69,
      "outputs": [
        {
          "output_type": "stream",
          "name": "stdout",
          "text": [
            "train accuracy - 0.9972\n",
            "test accuracy - 0.9911\n"
          ]
        }
      ]
    },
    {
      "cell_type": "markdown",
      "source": [
        "Увеличение количества hidden_channels привело к увеличению времени обучения модели, но так же к ухудшению качества модели."
      ],
      "metadata": {
        "id": "SkN-ePW1qT_v"
      }
    },
    {
      "cell_type": "code",
      "source": [],
      "metadata": {
        "id": "vaAa9IQEqkYr"
      },
      "execution_count": null,
      "outputs": []
    }
  ],
  "metadata": {
    "colab": {
      "provenance": [],
      "gpuType": "T4",
      "include_colab_link": true
    },
    "kernelspec": {
      "display_name": "Python 3",
      "name": "python3"
    },
    "language_info": {
      "codemirror_mode": {
        "name": "ipython",
        "version": 3
      },
      "file_extension": ".py",
      "mimetype": "text/x-python",
      "name": "python",
      "nbconvert_exporter": "python",
      "pygments_lexer": "ipython3",
      "version": "3.6.5"
    },
    "accelerator": "GPU"
  },
  "nbformat": 4,
  "nbformat_minor": 0
}