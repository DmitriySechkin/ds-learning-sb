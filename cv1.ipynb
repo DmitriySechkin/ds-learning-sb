{
 "cells": [
  {
   "cell_type": "markdown",
   "metadata": {
    "colab_type": "text",
    "id": "view-in-github"
   },
   "source": [
    "<a href=\"https://colab.research.google.com/github/DmitriySechkin/ds-learning-sb/blob/main/cv1.ipynb\" target=\"_parent\"><img src=\"https://colab.research.google.com/assets/colab-badge.svg\" alt=\"Open In Colab\"/></a>"
   ]
  },
  {
   "cell_type": "code",
   "execution_count": 1,
   "metadata": {
    "execution": {
     "iopub.execute_input": "2024-03-12T18:57:29.681374Z",
     "iopub.status.busy": "2024-03-12T18:57:29.680443Z",
     "iopub.status.idle": "2024-03-12T18:57:32.244062Z",
     "shell.execute_reply": "2024-03-12T18:57:32.243290Z",
     "shell.execute_reply.started": "2024-03-12T18:57:29.681313Z"
    },
    "id": "in0PyicHhZDG",
    "tags": []
   },
   "outputs": [],
   "source": [
    "import numpy\n",
    "import torch\n",
    "import torch.nn as nn\n",
    "import torchvision.models as models\n",
    "from torchvision import datasets\n",
    "from torch.utils.data import DataLoader"
   ]
  },
  {
   "cell_type": "code",
   "execution_count": 3,
   "metadata": {
    "id": "73ieMA485Tme"
   },
   "outputs": [],
   "source": [
    "# архитектура модели +\n",
    "# загрузчик данных +\n",
    "# формирование батча +\n",
    "# оптимизатор +\n",
    "# функция потерь +\n",
    "# опционально шедулеры -\n",
    "# трейн луп"
   ]
  },
  {
   "cell_type": "code",
   "execution_count": 2,
   "metadata": {
    "colab": {
     "base_uri": "https://localhost:8080/"
    },
    "execution": {
     "iopub.execute_input": "2024-03-12T18:57:32.394677Z",
     "iopub.status.busy": "2024-03-12T18:57:32.393930Z",
     "iopub.status.idle": "2024-03-12T18:57:32.529657Z",
     "shell.execute_reply": "2024-03-12T18:57:32.528572Z",
     "shell.execute_reply.started": "2024-03-12T18:57:32.394624Z"
    },
    "id": "SI8UCZuy7hTK",
    "outputId": "c0b6af67-8ca1-42df-d1c7-a67f2f846d0f",
    "tags": []
   },
   "outputs": [],
   "source": [
    "train_dataset = datasets.MNIST('.', download=True)\n",
    "test_dataset = datasets.MNIST('.', download=True, train=False)"
   ]
  },
  {
   "cell_type": "code",
   "execution_count": null,
   "metadata": {
    "colab": {
     "base_uri": "https://localhost:8080/"
    },
    "id": "5jMKXfUBoS_j",
    "outputId": "2288f617-0ff1-47bd-f4a2-11431fda79d4"
   },
   "outputs": [
    {
     "data": {
      "text/plain": [
       "60000"
      ]
     },
     "execution_count": 4,
     "metadata": {},
     "output_type": "execute_result"
    }
   ],
   "source": [
    "len(train_dataset)"
   ]
  },
  {
   "cell_type": "code",
   "execution_count": null,
   "metadata": {
    "colab": {
     "base_uri": "https://localhost:8080/"
    },
    "id": "DWzCcZu6oYSk",
    "outputId": "fb611040-5b6c-4794-8c3d-b0841ab85424"
   },
   "outputs": [
    {
     "data": {
      "text/plain": [
       "10000"
      ]
     },
     "execution_count": 5,
     "metadata": {},
     "output_type": "execute_result"
    }
   ],
   "source": [
    "len(test_dataset)"
   ]
  },
  {
   "cell_type": "code",
   "execution_count": null,
   "metadata": {
    "colab": {
     "base_uri": "https://localhost:8080/"
    },
    "id": "dhJuBtoz7f43",
    "outputId": "72f5581a-ee90-4bc4-b3d3-3027786926ce"
   },
   "outputs": [
    {
     "data": {
      "text/plain": [
       "(<PIL.Image.Image image mode=L size=28x28>, 7)"
      ]
     },
     "execution_count": 6,
     "metadata": {},
     "output_type": "execute_result"
    }
   ],
   "source": [
    "test_dataset[0]"
   ]
  },
  {
   "cell_type": "code",
   "execution_count": 3,
   "metadata": {
    "colab": {
     "base_uri": "https://localhost:8080/",
     "height": 430
    },
    "execution": {
     "iopub.execute_input": "2024-03-12T18:57:40.537782Z",
     "iopub.status.busy": "2024-03-12T18:57:40.537278Z",
     "iopub.status.idle": "2024-03-12T18:57:41.221624Z",
     "shell.execute_reply": "2024-03-12T18:57:41.220592Z",
     "shell.execute_reply.started": "2024-03-12T18:57:40.537734Z"
    },
    "id": "0zXXXYP37gFL",
    "outputId": "6fd9def9-3351-41be-a6b4-f8aa51383514",
    "tags": []
   },
   "outputs": [
    {
     "data": {
      "image/png": "[encoded data removed]",
      "text/plain": [
       "<Figure size 640x480 with 1 Axes>"
      ]
     },
     "metadata": {},
     "output_type": "display_data"
    }
   ],
   "source": [
    "%matplotlib inline\n",
    "import matplotlib.pyplot as plt\n",
    "\n",
    "plt.imshow(train_dataset.data[1].detach().numpy())\n",
    "plt.show()"
   ]
  },
  {
   "cell_type": "code",
   "execution_count": 6,
   "metadata": {
    "id": "LdAH7oiY8Mxv"
   },
   "outputs": [],
   "source": [
    "class LinearModel(nn.Module):\n",
    "  def __init__(self, input_dim, hidden_dim, output_dim, dropout_p=0.1):\n",
    "    super().__init__()\n",
    "    self.linear1 = nn.Linear(input_dim, hidden_dim)\n",
    "    self.linear2 = nn.Linear(hidden_dim, hidden_dim)\n",
    "    self.linear3 = nn.Linear(hidden_dim, hidden_dim)\n",
    "    # self.linear4 = nn.Linear(hidden_dim, int(hidden_dim / 2))\n",
    "    # self.linear5 = nn.Linear(hidden_dim, output_dim)\n",
    "\n",
    "    self.bn1 = nn.BatchNorm1d(hidden_dim)\n",
    "    self.bn2 = nn.BatchNorm1d(hidden_dim)\n",
    "    self.bn3 = nn.BatchNorm1d(hidden_dim)\n",
    "    # self.bn4 = nn.BatchNorm1d(int(hidden_dim / 2))\n",
    "\n",
    "    self.do1 = nn.Dropout(dropout_p)\n",
    "    self.do2 = nn.Dropout(dropout_p)\n",
    "    self.do3 = nn.Dropout(dropout_p)\n",
    "    self.activation = nn.ReLU()\n",
    "\n",
    "  def forward(self, x):\n",
    "    x = self.do1(self.activation(self.bn1(self.linear1(x))))\n",
    "    x = self.do2(self.activation(self.bn2(self.linear2(x))))\n",
    "    x = self.do3(self.activation(self.bn3(self.linear3(x))))\n",
    "    # x = self.do3(self.activation(self.bn4(self.linear4(x))))\n",
    "\n",
    "    return self.linear5(x)"
   ]
  },
  {
   "cell_type": "code",
   "execution_count": 7,
   "metadata": {
    "id": "aImjm1_u8NR8"
   },
   "outputs": [],
   "source": [
    "def collate_fn(data: list):\n",
    "  # data = [(pic, target)...]\n",
    "  pics = []\n",
    "  target = []\n",
    "\n",
    "  for item in data:\n",
    "    pics.append(numpy.array(item[0]))\n",
    "    target.append(item[1])\n",
    "\n",
    "  pics = torch.from_numpy(numpy.array(pics)).float() / 255 # B x W x H\n",
    "  target = torch.from_numpy(numpy.array(target))\n",
    "\n",
    "  return {\n",
    "      'data': pics.view(pics.size(0), -1),\n",
    "      'target': target,\n",
    "      }\n"
   ]
  },
  {
   "cell_type": "code",
   "execution_count": 8,
   "metadata": {
    "id": "uPJauY4hAqJ6"
   },
   "outputs": [],
   "source": [
    "# hyperparams\n",
    "inp_dim = 28 * 28\n",
    "hidden = 256\n",
    "out_dim = 10\n",
    "device_id = -1\n",
    "device = 'cpu' if device_id == -1 else f'cuda:{device_id}'\n",
    "n_epochs = 20\n",
    "batch_size = 128\n",
    "learning_rate = 0.001"
   ]
  },
  {
   "cell_type": "code",
   "execution_count": 9,
   "metadata": {
    "id": "_fdZfq9C9zO2"
   },
   "outputs": [],
   "source": [
    "model = LinearModel(inp_dim, hidden, out_dim).to(device)\n",
    "optim = torch.optim.Adam(model.parameters(), lr=learning_rate)\n",
    "loss_func = nn.CrossEntropyLoss()"
   ]
  },
  {
   "cell_type": "code",
   "execution_count": 4,
   "metadata": {
    "execution": {
     "iopub.execute_input": "2024-03-12T18:57:52.223901Z",
     "iopub.status.busy": "2024-03-12T18:57:52.223091Z",
     "iopub.status.idle": "2024-03-12T18:57:52.231015Z",
     "shell.execute_reply": "2024-03-12T18:57:52.230018Z",
     "shell.execute_reply.started": "2024-03-12T18:57:52.223851Z"
    },
    "id": "JRLFkPiDddfE",
    "tags": []
   },
   "outputs": [],
   "source": [
    "def train_model(train_dataloader, model):\n",
    "  train_loss = 0\n",
    "\n",
    "  model.train()\n",
    "\n",
    "  for i, batch in enumerate(train_dataloader):\n",
    "    optim.zero_grad()\n",
    "\n",
    "    predict = model(batch['data'].to(device))\n",
    "    loss = loss_func(predict, batch['target'].to(device).long())\n",
    "\n",
    "    loss.backward()\n",
    "    optim.step()\n",
    "\n",
    "    train_loss += loss.item()\n",
    "\n",
    "  return train_loss"
   ]
  },
  {
   "cell_type": "code",
   "execution_count": 5,
   "metadata": {
    "execution": {
     "iopub.execute_input": "2024-03-12T18:57:54.514686Z",
     "iopub.status.busy": "2024-03-12T18:57:54.514058Z",
     "iopub.status.idle": "2024-03-12T18:57:54.521974Z",
     "shell.execute_reply": "2024-03-12T18:57:54.520931Z",
     "shell.execute_reply.started": "2024-03-12T18:57:54.514636Z"
    },
    "id": "Ko_QjtJ9eH27",
    "tags": []
   },
   "outputs": [],
   "source": [
    "def validate_model(test_dataloader, model):\n",
    "  test_loss = 0\n",
    "\n",
    "  model.eval()\n",
    "\n",
    "  with torch.no_grad():\n",
    "    for i, batch in enumerate(test_dataloader):\n",
    "      predict = model(batch['data'].to(device))\n",
    "      target = batch['target'].to(device).long()\n",
    "      loss = loss_func(predict, target)\n",
    "\n",
    "      test_loss += loss.item()\n",
    "\n",
    "  return test_loss"
   ]
  },
  {
   "cell_type": "code",
   "execution_count": 6,
   "metadata": {
    "execution": {
     "iopub.execute_input": "2024-03-12T18:57:56.643582Z",
     "iopub.status.busy": "2024-03-12T18:57:56.642961Z",
     "iopub.status.idle": "2024-03-12T18:57:56.651514Z",
     "shell.execute_reply": "2024-03-12T18:57:56.650490Z",
     "shell.execute_reply.started": "2024-03-12T18:57:56.643534Z"
    },
    "id": "PP-fFeLTBTCs",
    "tags": []
   },
   "outputs": [],
   "source": [
    "def compute_accuracy(model, dataloader):\n",
    "    correct = 0\n",
    "    total = 0\n",
    "\n",
    "    model.eval()\n",
    "\n",
    "    with torch.no_grad():\n",
    "        for batch in dataloader:\n",
    "            inputs, labels = batch['data'], batch['target']\n",
    "            outputs = model(inputs)\n",
    "            _, predicted = torch.max(outputs, 1)\n",
    "            total += labels.size(0)\n",
    "            correct += (predicted == labels).sum().item()\n",
    "\n",
    "    accuracy = correct / total\n",
    "    return accuracy"
   ]
  },
  {
   "cell_type": "code",
   "execution_count": null,
   "metadata": {
    "colab": {
     "base_uri": "https://localhost:8080/"
    },
    "id": "4p52DhoFBYTr",
    "outputId": "13258ab7-ea7f-44b9-ff51-8fb569c7ae5f"
   },
   "outputs": [
    {
     "name": "stdout",
     "output_type": "stream",
     "text": [
      "Epoch [1/20], Train Loss: 0.2248, Val Loss: 0.1002\n",
      "Epoch [2/20], Train Loss: 0.1000, Val Loss: 0.0810\n",
      "Epoch [3/20], Train Loss: 0.0742, Val Loss: 0.0783\n",
      "Epoch [4/20], Train Loss: 0.0596, Val Loss: 0.0684\n",
      "Epoch [5/20], Train Loss: 0.0498, Val Loss: 0.0641\n",
      "Epoch [6/20], Train Loss: 0.0433, Val Loss: 0.0629\n",
      "Epoch [7/20], Train Loss: 0.0385, Val Loss: 0.0599\n",
      "Epoch [8/20], Train Loss: 0.0337, Val Loss: 0.0621\n",
      "Epoch [9/20], Train Loss: 0.0313, Val Loss: 0.0571\n",
      "Epoch [10/20], Train Loss: 0.0276, Val Loss: 0.0657\n",
      "Epoch [11/20], Train Loss: 0.0263, Val Loss: 0.0557\n",
      "Epoch [12/20], Train Loss: 0.0231, Val Loss: 0.0609\n",
      "Epoch [13/20], Train Loss: 0.0228, Val Loss: 0.0575\n",
      "Epoch [14/20], Train Loss: 0.0204, Val Loss: 0.0658\n",
      "Epoch [15/20], Train Loss: 0.0192, Val Loss: 0.0616\n",
      "Epoch [16/20], Train Loss: 0.0183, Val Loss: 0.0648\n",
      "Epoch [17/20], Train Loss: 0.0170, Val Loss: 0.0568\n",
      "Epoch [18/20], Train Loss: 0.0152, Val Loss: 0.0556\n",
      "Epoch [19/20], Train Loss: 0.0166, Val Loss: 0.0604\n",
      "Epoch [20/20], Train Loss: 0.0166, Val Loss: 0.0641\n",
      "minimum loss - 0.0556\n"
     ]
    }
   ],
   "source": [
    "train_losses = []\n",
    "test_losses = []\n",
    "\n",
    "\n",
    "for epoch in range(n_epochs):\n",
    "  train_loss = 0\n",
    "  test_loss = 0\n",
    "\n",
    "  train_dataloader = DataLoader(train_dataset,\n",
    "                          batch_size,\n",
    "                          shuffle=True,\n",
    "                          collate_fn=collate_fn,\n",
    "                          drop_last = True,\n",
    "                          )\n",
    "\n",
    "  test_dataloader = DataLoader(test_dataset,\n",
    "                          batch_size,\n",
    "                          shuffle=True,\n",
    "                          collate_fn=collate_fn,\n",
    "                          drop_last = True,\n",
    "                          )\n",
    "\n",
    "  train_loss += train_model(train_dataloader, model)\n",
    "  test_loss += validate_model(test_dataloader, model)\n",
    "\n",
    "  train_losses.append(train_loss / len(train_dataloader))\n",
    "  test_losses.append(test_loss / len(test_dataloader))\n",
    "\n",
    "  print(f'Epoch [{epoch+1}/{n_epochs}], '\n",
    "          f'Train Loss: {train_losses[-1]:.4f}, '\n",
    "          f'Val Loss: {test_losses[-1]:.4f}')\n",
    "\n",
    "  torch.save(model.state_dict(), f'./chkpt_{epoch}.pth')\n",
    "\n",
    "print(f'minimum loss - {min(test_losses):.4f}')\n"
   ]
  },
  {
   "cell_type": "code",
   "execution_count": null,
   "metadata": {
    "colab": {
     "base_uri": "https://localhost:8080/",
     "height": 472
    },
    "id": "Un9wQdQ7uSFw",
    "outputId": "66135b36-0f84-4389-a9d1-d6aa54edb465"
   },
   "outputs": [
    {
     "data": {
      "image/png": "[encoded data removed]",
      "text/plain": [
       "<Figure size 640x480 with 1 Axes>"
      ]
     },
     "metadata": {},
     "output_type": "display_data"
    }
   ],
   "source": [
    "plt.plot(range(1, n_epochs+1), train_losses, label='train loss')\n",
    "plt.plot(range(1, n_epochs+1), test_losses, label='testing loss')\n",
    "plt.xlabel('эпоха')\n",
    "plt.ylabel('loss')\n",
    "plt.title('training and testing loss')\n",
    "plt.legend()\n",
    "plt.show()"
   ]
  },
  {
   "cell_type": "code",
   "execution_count": 13,
   "metadata": {
    "id": "9U656MKzmRwQ"
   },
   "outputs": [],
   "source": [
    "train_dataloader = DataLoader(train_dataset,\n",
    "                              batch_size,\n",
    "                              shuffle=False,\n",
    "                              collate_fn=collate_fn)\n",
    "\n",
    "test_dataloader = DataLoader(test_dataset,\n",
    "                             batch_size,\n",
    "                             shuffle=False,\n",
    "                             collate_fn=collate_fn)"
   ]
  },
  {
   "cell_type": "code",
   "execution_count": null,
   "metadata": {
    "colab": {
     "base_uri": "https://localhost:8080/"
    },
    "id": "Rwl35GYUBZVg",
    "outputId": "184b24c1-abb5-464f-9b91-6544c5635ea7"
   },
   "outputs": [
    {
     "name": "stdout",
     "output_type": "stream",
     "text": [
      "train accuracy - 0.9987\n",
      "test accuracy - 0.9840\n"
     ]
    }
   ],
   "source": [
    "\n",
    "\n",
    "train_accuracy = compute_accuracy(model, train_dataloader)\n",
    "test_accuracy = compute_accuracy(model, test_dataloader)\n",
    "\n",
    "print(f'train accuracy - {train_accuracy:.4f}')\n",
    "print(f'test accuracy - {test_accuracy:.4f}')"
   ]
  },
  {
   "cell_type": "markdown",
   "metadata": {
    "id": "B5qDc1LByIKW"
   },
   "source": [
    "Без batchnorm потери на валидации перестали снижаться где-то в районе 4-5 эпохи. При этом потери обучения продолжали снижаться до 20-й эпохи. Скорее всего модель на количестве эпох больше 10-15 (в зависимости от lr) начинает переобучаться и обучать на большем количестве эпох нет смысла.\n",
    "\n",
    "При применении batchnorm потери на валидации (видно на графике) снижаются где-то до 10-й эпохи, дальше уже график начинает колебаться, но при этом минимальное значение loss достигается на 18-й эпохе\n",
    "\n",
    "Добавление слоев больше 4-х привело к ухудшению производительности модели и не уменьшило loss на валидации. Изменение lr в меньшую сторону приводит только к тому, что модель дольше обучается (сходится за большее количество эпох), график уменьшения loss более плавный, к уменьшению самого loss это не привело. Изменение других параметров таких как количество нейронов в разных слоях и batch size так же не привело к значимому эффекту по loss"
   ]
  },
  {
   "cell_type": "markdown",
   "metadata": {
    "id": "KzR-Z2IDGD7H"
   },
   "source": [
    "# Сверточные сети\n"
   ]
  },
  {
   "cell_type": "code",
   "execution_count": 111,
   "metadata": {
    "execution": {
     "iopub.execute_input": "2024-03-12T20:21:59.513339Z",
     "iopub.status.busy": "2024-03-12T20:21:59.512955Z",
     "iopub.status.idle": "2024-03-12T20:21:59.523116Z",
     "shell.execute_reply": "2024-03-12T20:21:59.522356Z",
     "shell.execute_reply.started": "2024-03-12T20:21:59.513311Z"
    },
    "id": "PCdOthJdBYqZ",
    "tags": []
   },
   "outputs": [],
   "source": [
    "class ConvModel(nn.Module):\n",
    "  def __init__(self, input_ch, hidden_ch, output_dim, dropout_p=0.1):\n",
    "    super().__init__()\n",
    "    \n",
    "    self.conv1 = nn.Conv2d(input_ch, hidden_ch,\n",
    "                           kernel_size=5, padding=2, stride=2) # уменьшаем картинку в 2 раза\n",
    "    self.bn1 = nn.BatchNorm2d(hidden_ch)\n",
    "    self.conv2 = nn.Conv2d(hidden_ch, hidden_ch, kernel_size=3, padding=1)\n",
    "    self.bn2 = nn.BatchNorm2d(hidden_ch)\n",
    "    self.conv3 = nn.Conv2d(hidden_ch, hidden_ch, kernel_size=3, padding=1)\n",
    "    self.bn3 = nn.BatchNorm2d(hidden_ch)\n",
    "    self.conv5 = nn.Conv2d(hidden_ch, hidden_ch, kernel_size=3, padding=1)\n",
    "    self.bn5 = nn.BatchNorm2d(hidden_ch)\n",
    "    self.conv6 = nn.Conv2d(hidden_ch, hidden_ch, kernel_size=3, padding=1)\n",
    "    self.bn6 = nn.BatchNorm2d(hidden_ch)\n",
    "    self.conv4 = nn.Conv2d(hidden_ch, 10, kernel_size=3, padding=1)\n",
    "    self.bn4 = nn.BatchNorm2d(10)\n",
    "    self.linear3 = nn.Linear(10 * 14 * 14, output_dim)\n",
    "\n",
    "    self.do1 = nn.Dropout(dropout_p)\n",
    "    self.do2 = nn.Dropout(dropout_p)\n",
    "    self.do3 = nn.Dropout(dropout_p)\n",
    "    self.do5 = nn.Dropout(dropout_p)\n",
    "    self.do6 = nn.Dropout(dropout_p)\n",
    "\n",
    "    self.activation = nn.ReLU()\n",
    "    \n",
    "    # self.apply(self.initialize_weights)\n",
    "\n",
    "  def initialize_weights(self, m):\n",
    "    if isinstance(m, nn.Conv2d):\n",
    "        torch.nn.init.kaiming_normal_(m.weight, nonlinearity='relu')\n",
    "\n",
    "  def forward(self, x):\n",
    "    x = self.do1(self.activation(self.bn1(self.conv1(x))))\n",
    "    x = self.do2(self.activation(self.bn2(self.conv2(x))))\n",
    "    x = self.do3(self.activation(self.bn3(self.conv3(x))))\n",
    "    x = self.do5(self.activation(self.bn5(self.conv5(x))))\n",
    "    x = self.do6(self.activation(self.bn6(self.conv6(x))))\n",
    "    x = self.activation(self.bn4(self.conv4(x))) # B x 2 x 14 x 14\n",
    "\n",
    "\n",
    "    return self.linear3(x.view(x.size(0), -1))\n",
    "    # x.size() -> (B, W, H); x.size(0) -> B\n",
    "    # x.view(B, -1) -> (B, вектор размера всего остального)"
   ]
  },
  {
   "cell_type": "code",
   "execution_count": 8,
   "metadata": {
    "execution": {
     "iopub.execute_input": "2024-03-12T18:58:34.233327Z",
     "iopub.status.busy": "2024-03-12T18:58:34.232687Z",
     "iopub.status.idle": "2024-03-12T18:58:34.240111Z",
     "shell.execute_reply": "2024-03-12T18:58:34.239093Z",
     "shell.execute_reply.started": "2024-03-12T18:58:34.233284Z"
    },
    "id": "K_PACmDaH8Z7",
    "tags": []
   },
   "outputs": [],
   "source": [
    "def collate_fn_conv(data: list):\n",
    "  # data = [(pic, target)...]\n",
    "  pics = []\n",
    "  target = []\n",
    "\n",
    "  for item in data:\n",
    "    pics.append(numpy.array(item[0])) # W x H\n",
    "    target.append(item[1])\n",
    "\n",
    "  pics = torch.from_numpy(numpy.array(pics)).float() / 255 # B x W x H\n",
    "  target = torch.from_numpy(numpy.array(target))\n",
    "\n",
    "  return {\n",
    "      'data': pics.unsqueeze(1), # B x 1(C) x W x H\n",
    "      'target': target.long(),\n",
    "      }\n"
   ]
  },
  {
   "cell_type": "code",
   "execution_count": 93,
   "metadata": {
    "execution": {
     "iopub.execute_input": "2024-03-12T20:04:33.495356Z",
     "iopub.status.busy": "2024-03-12T20:04:33.494948Z",
     "iopub.status.idle": "2024-03-12T20:04:33.499766Z",
     "shell.execute_reply": "2024-03-12T20:04:33.498953Z",
     "shell.execute_reply.started": "2024-03-12T20:04:33.495328Z"
    },
    "id": "RYVsEjc-H1hQ",
    "tags": []
   },
   "outputs": [],
   "source": [
    "# hyperparams\n",
    "input_ch = 1\n",
    "hidden_ch = 128\n",
    "out_dim = 10\n",
    "device_id = 0\n",
    "device = 'cpu' if device_id == -1 else f'cuda:{device_id}'\n",
    "n_epochs = 14\n",
    "batch_size = 128 \n",
    "learning_rate = 0.0001"
   ]
  },
  {
   "cell_type": "code",
   "execution_count": 112,
   "metadata": {
    "execution": {
     "iopub.execute_input": "2024-03-12T20:22:04.038215Z",
     "iopub.status.busy": "2024-03-12T20:22:04.037816Z",
     "iopub.status.idle": "2024-03-12T20:22:04.052308Z",
     "shell.execute_reply": "2024-03-12T20:22:04.051670Z",
     "shell.execute_reply.started": "2024-03-12T20:22:04.038186Z"
    },
    "id": "a4gX5zVDIZdu",
    "tags": []
   },
   "outputs": [],
   "source": [
    "model_conv = ConvModel(input_ch, hidden_ch, out_dim).to(device)\n",
    "optim = torch.optim.Adam(model_conv.parameters(), lr=learning_rate)\n",
    "loss_func = nn.CrossEntropyLoss()"
   ]
  },
  {
   "cell_type": "code",
   "execution_count": 113,
   "metadata": {
    "colab": {
     "base_uri": "https://localhost:8080/",
     "height": 356
    },
    "execution": {
     "iopub.execute_input": "2024-03-12T20:22:05.927133Z",
     "iopub.status.busy": "2024-03-12T20:22:05.926748Z",
     "iopub.status.idle": "2024-03-12T20:24:57.609392Z",
     "shell.execute_reply": "2024-03-12T20:24:57.608647Z",
     "shell.execute_reply.started": "2024-03-12T20:22:05.927104Z"
    },
    "id": "jVX0P0otIk4D",
    "outputId": "e9c92030-1588-43f8-a764-b7a398f2c7ce",
    "tags": []
   },
   "outputs": [
    {
     "name": "stdout",
     "output_type": "stream",
     "text": [
      "Epoch [1/14], Train Loss: 0.3461, Val Loss: 0.0586\n",
      "Epoch [2/14], Train Loss: 0.0592, Val Loss: 0.0384\n",
      "Epoch [3/14], Train Loss: 0.0398, Val Loss: 0.0242\n",
      "Epoch [4/14], Train Loss: 0.0306, Val Loss: 0.0219\n",
      "Epoch [5/14], Train Loss: 0.0251, Val Loss: 0.0200\n",
      "Epoch [6/14], Train Loss: 0.0216, Val Loss: 0.0281\n",
      "Epoch [7/14], Train Loss: 0.0185, Val Loss: 0.0195\n",
      "Epoch [8/14], Train Loss: 0.0158, Val Loss: 0.0182\n",
      "Epoch [9/14], Train Loss: 0.0133, Val Loss: 0.0148\n",
      "Epoch [10/14], Train Loss: 0.0128, Val Loss: 0.0169\n",
      "Epoch [11/14], Train Loss: 0.0112, Val Loss: 0.0182\n",
      "Epoch [12/14], Train Loss: 0.0096, Val Loss: 0.0170\n",
      "Epoch [13/14], Train Loss: 0.0082, Val Loss: 0.0148\n",
      "Epoch [14/14], Train Loss: 0.0074, Val Loss: 0.0146\n",
      "0.0146\n"
     ]
    }
   ],
   "source": [
    "train_losses = []\n",
    "test_losses = []\n",
    "\n",
    "for epoch in range(n_epochs):\n",
    "  train_loss = 0\n",
    "  test_loss = 0\n",
    "\n",
    "  train_dataloader = DataLoader(train_dataset,\n",
    "                          batch_size,\n",
    "                          shuffle=True,\n",
    "                          collate_fn=collate_fn_conv,\n",
    "                          drop_last = True,\n",
    "                          )\n",
    "\n",
    "  test_dataloader = DataLoader(test_dataset,\n",
    "                          batch_size,\n",
    "                          shuffle=True,\n",
    "                          collate_fn=collate_fn_conv,\n",
    "                          drop_last = True,\n",
    "                          )\n",
    "\n",
    "  train_loss += train_model(train_dataloader, model_conv)\n",
    "  test_loss += validate_model(test_dataloader, model_conv)\n",
    "\n",
    "  train_losses.append(train_loss / len(train_dataloader))\n",
    "  test_losses.append(test_loss / len(test_dataloader))\n",
    "\n",
    "  print(f'Epoch [{epoch+1}/{n_epochs}], '\n",
    "          f'Train Loss: {train_losses[-1]:.4f}, '\n",
    "          f'Val Loss: {test_losses[-1]:.4f}')\n",
    "\n",
    "  torch.save(model_conv.state_dict(), f'./chkpt_{epoch}.pth')\n",
    "\n",
    "print(f'{min(test_losses):.4f}')\n"
   ]
  },
  {
   "cell_type": "code",
   "execution_count": 114,
   "metadata": {
    "colab": {
     "base_uri": "https://localhost:8080/",
     "height": 472
    },
    "execution": {
     "iopub.execute_input": "2024-03-12T20:25:28.420842Z",
     "iopub.status.busy": "2024-03-12T20:25:28.420429Z",
     "iopub.status.idle": "2024-03-12T20:25:28.598594Z",
     "shell.execute_reply": "2024-03-12T20:25:28.597774Z",
     "shell.execute_reply.started": "2024-03-12T20:25:28.420814Z"
    },
    "id": "9CljFAzIMMEW",
    "outputId": "d6a0edb3-b7bf-4c44-cf49-727e5e0878d0",
    "tags": []
   },
   "outputs": [
    {
     "data": {
      "image/png": "[encoded data removed]",
      "text/plain": [
       "<Figure size 640x480 with 1 Axes>"
      ]
     },
     "metadata": {},
     "output_type": "display_data"
    }
   ],
   "source": [
    "plt.plot(range(1, n_epochs+1), train_losses, label='train loss')\n",
    "plt.plot(range(1, n_epochs+1), test_losses, label='testing loss')\n",
    "plt.xlabel('эпоха')\n",
    "plt.ylabel('loss')\n",
    "plt.title('Training and testing loss')\n",
    "plt.legend()\n",
    "plt.show()"
   ]
  },
  {
   "cell_type": "code",
   "execution_count": 46,
   "metadata": {
    "execution": {
     "iopub.execute_input": "2024-03-12T19:24:27.679993Z",
     "iopub.status.busy": "2024-03-12T19:24:27.679553Z",
     "iopub.status.idle": "2024-03-12T19:24:27.685236Z",
     "shell.execute_reply": "2024-03-12T19:24:27.684305Z",
     "shell.execute_reply.started": "2024-03-12T19:24:27.679962Z"
    },
    "id": "ukPbsdvinFxG",
    "tags": []
   },
   "outputs": [],
   "source": [
    "def compute_accuracy_conv(model, dataloader):\n",
    "    correct = 0\n",
    "    total = 0\n",
    "\n",
    "    model.eval()\n",
    "\n",
    "    with torch.no_grad():\n",
    "        for batch in dataloader:\n",
    "            inputs, labels = batch['data'].to(device), batch['target'].to(device)\n",
    "            outputs = model(inputs)\n",
    "            _, predicted = torch.max(outputs, 1)\n",
    "            total += labels.size(0)\n",
    "            correct += (predicted == labels).sum().item()\n",
    "\n",
    "    accuracy = correct / total\n",
    "    return accuracy\n"
   ]
  },
  {
   "cell_type": "code",
   "execution_count": 115,
   "metadata": {
    "execution": {
     "iopub.execute_input": "2024-03-12T20:25:33.585616Z",
     "iopub.status.busy": "2024-03-12T20:25:33.585210Z",
     "iopub.status.idle": "2024-03-12T20:25:33.590054Z",
     "shell.execute_reply": "2024-03-12T20:25:33.589032Z",
     "shell.execute_reply.started": "2024-03-12T20:25:33.585590Z"
    },
    "id": "Fk6Z0pz4rNFO",
    "tags": []
   },
   "outputs": [],
   "source": [
    "train_dataloader = DataLoader(train_dataset,\n",
    "                              batch_size,\n",
    "                              shuffle=False,\n",
    "                              collate_fn=collate_fn_conv)\n",
    "\n",
    "test_dataloader = DataLoader(test_dataset,\n",
    "                             batch_size,\n",
    "                             shuffle=False,\n",
    "                             collate_fn=collate_fn_conv)"
   ]
  },
  {
   "cell_type": "code",
   "execution_count": 116,
   "metadata": {
    "colab": {
     "base_uri": "https://localhost:8080/"
    },
    "execution": {
     "iopub.execute_input": "2024-03-12T20:25:36.313593Z",
     "iopub.status.busy": "2024-03-12T20:25:36.313178Z",
     "iopub.status.idle": "2024-03-12T20:25:41.893889Z",
     "shell.execute_reply": "2024-03-12T20:25:41.892939Z",
     "shell.execute_reply.started": "2024-03-12T20:25:36.313564Z"
    },
    "id": "Fkm7u3B_KIyg",
    "outputId": "27a55e09-b421-40b0-f4f0-64a6c54a5fac",
    "tags": []
   },
   "outputs": [
    {
     "name": "stdout",
     "output_type": "stream",
     "text": [
      "train accuracy - 0.9994\n",
      "test accuracy - 0.9948\n"
     ]
    }
   ],
   "source": [
    "train_accuracy = compute_accuracy_conv(model_conv, train_dataloader)\n",
    "test_accuracy = compute_accuracy_conv(model_conv, test_dataloader)\n",
    "\n",
    "print(f'train accuracy - {train_accuracy:.4f}')\n",
    "print(f'test accuracy - {test_accuracy:.4f}')"
   ]
  },
  {
   "cell_type": "markdown",
   "metadata": {
    "id": "SkN-ePW1qT_v"
   },
   "source": [
    "Увеличение количества hidden_channels привело к увеличению времени обучения модели и к падению качества модели. Добавление слоев сверки позволило повысить качество модели. Снижение lr делает график потерь на валидации более плавным. Без инициализации весов модель показала более высокий результат. \n",
    "\n",
    "В целом сверточная нейросеть отработала лучше линейной. "
   ]
  },
  {
   "cell_type": "code",
   "execution_count": null,
   "metadata": {
    "id": "vaAa9IQEqkYr"
   },
   "outputs": [],
   "source": []
  }
 ],
 "metadata": {
  "accelerator": "GPU",
  "colab": {
   "gpuType": "T4",
   "include_colab_link": true,
   "provenance": []
  },
  "kernelspec": {
   "display_name": "saturn (Python 3)",
   "language": "python",
   "name": "python3"
  },
  "language_info": {
   "codemirror_mode": {
    "name": "ipython",
    "version": 3
   },
   "file_extension": ".py",
   "mimetype": "text/x-python",
   "name": "python",
   "nbconvert_exporter": "python",
   "pygments_lexer": "ipython3",
   "version": "3.10.13"
  }
 },
 "nbformat": 4,
 "nbformat_minor": 4
}
