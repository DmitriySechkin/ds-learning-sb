{
  "cells": [
    {
      "cell_type": "markdown",
      "metadata": {
        "id": "view-in-github",
        "colab_type": "text"
      },
      "source": [
        "<a href=\"https://colab.research.google.com/github/DmitriySechkin/ds-learning-sb/blob/main/cv1.ipynb\" target=\"_parent\"><img src=\"https://colab.research.google.com/assets/colab-badge.svg\" alt=\"Open In Colab\"/></a>"
      ]
    },
    {
      "cell_type": "code",
      "execution_count": 4,
      "metadata": {
        "id": "in0PyicHhZDG"
      },
      "outputs": [],
      "source": [
        "import numpy\n",
        "import torch\n",
        "import torch.nn as nn\n",
        "import torchvision.models as models\n",
        "from torchvision import datasets\n",
        "from torch.utils.data import DataLoader"
      ]
    },
    {
      "cell_type": "code",
      "execution_count": 2,
      "metadata": {
        "id": "73ieMA485Tme"
      },
      "outputs": [],
      "source": [
        "# архитектура модели +\n",
        "# загрузчик данных +\n",
        "# формирование батча +\n",
        "# оптимизатор +\n",
        "# функция потерь +\n",
        "# опционально шедулеры -\n",
        "# трейн луп"
      ]
    },
    {
      "cell_type": "code",
      "execution_count": 5,
      "metadata": {
        "colab": {
          "base_uri": "https://localhost:8080/"
        },
        "id": "SI8UCZuy7hTK",
        "outputId": "02a37f85-25aa-4a96-ab47-c966c0f0f4fa"
      },
      "outputs": [
        {
          "output_type": "stream",
          "name": "stdout",
          "text": [
            "Downloading http://yann.lecun.com/exdb/mnist/train-images-idx3-ubyte.gz\n",
            "Downloading http://yann.lecun.com/exdb/mnist/train-images-idx3-ubyte.gz to ./MNIST/raw/train-images-idx3-ubyte.gz\n"
          ]
        },
        {
          "output_type": "stream",
          "name": "stderr",
          "text": [
            "100%|██████████| 9912422/9912422 [00:00<00:00, 113509862.14it/s]\n"
          ]
        },
        {
          "output_type": "stream",
          "name": "stdout",
          "text": [
            "Extracting ./MNIST/raw/train-images-idx3-ubyte.gz to ./MNIST/raw\n",
            "\n",
            "Downloading http://yann.lecun.com/exdb/mnist/train-labels-idx1-ubyte.gz\n",
            "Downloading http://yann.lecun.com/exdb/mnist/train-labels-idx1-ubyte.gz to ./MNIST/raw/train-labels-idx1-ubyte.gz\n"
          ]
        },
        {
          "output_type": "stream",
          "name": "stderr",
          "text": [
            "100%|██████████| 28881/28881 [00:00<00:00, 70798184.58it/s]"
          ]
        },
        {
          "output_type": "stream",
          "name": "stdout",
          "text": [
            "Extracting ./MNIST/raw/train-labels-idx1-ubyte.gz to ./MNIST/raw\n",
            "\n",
            "Downloading http://yann.lecun.com/exdb/mnist/t10k-images-idx3-ubyte.gz\n",
            "Downloading http://yann.lecun.com/exdb/mnist/t10k-images-idx3-ubyte.gz to ./MNIST/raw/t10k-images-idx3-ubyte.gz\n"
          ]
        },
        {
          "output_type": "stream",
          "name": "stderr",
          "text": [
            "\n",
            "100%|██████████| 1648877/1648877 [00:00<00:00, 32323291.25it/s]\n"
          ]
        },
        {
          "output_type": "stream",
          "name": "stdout",
          "text": [
            "Extracting ./MNIST/raw/t10k-images-idx3-ubyte.gz to ./MNIST/raw\n",
            "\n",
            "Downloading http://yann.lecun.com/exdb/mnist/t10k-labels-idx1-ubyte.gz\n",
            "Downloading http://yann.lecun.com/exdb/mnist/t10k-labels-idx1-ubyte.gz to ./MNIST/raw/t10k-labels-idx1-ubyte.gz\n"
          ]
        },
        {
          "output_type": "stream",
          "name": "stderr",
          "text": [
            "100%|██████████| 4542/4542 [00:00<00:00, 1391666.94it/s]\n"
          ]
        },
        {
          "output_type": "stream",
          "name": "stdout",
          "text": [
            "Extracting ./MNIST/raw/t10k-labels-idx1-ubyte.gz to ./MNIST/raw\n",
            "\n"
          ]
        }
      ],
      "source": [
        "train_dataset = datasets.MNIST('.', download=True)\n",
        "test_dataset = datasets.MNIST('.', download=True, train=False)"
      ]
    },
    {
      "cell_type": "code",
      "source": [
        "len(train_dataset)"
      ],
      "metadata": {
        "colab": {
          "base_uri": "https://localhost:8080/"
        },
        "id": "5jMKXfUBoS_j",
        "outputId": "2288f617-0ff1-47bd-f4a2-11431fda79d4"
      },
      "execution_count": 4,
      "outputs": [
        {
          "output_type": "execute_result",
          "data": {
            "text/plain": [
              "60000"
            ]
          },
          "metadata": {},
          "execution_count": 4
        }
      ]
    },
    {
      "cell_type": "code",
      "source": [
        "len(test_dataset)"
      ],
      "metadata": {
        "colab": {
          "base_uri": "https://localhost:8080/"
        },
        "id": "DWzCcZu6oYSk",
        "outputId": "fb611040-5b6c-4794-8c3d-b0841ab85424"
      },
      "execution_count": 5,
      "outputs": [
        {
          "output_type": "execute_result",
          "data": {
            "text/plain": [
              "10000"
            ]
          },
          "metadata": {},
          "execution_count": 5
        }
      ]
    },
    {
      "cell_type": "code",
      "execution_count": 6,
      "metadata": {
        "colab": {
          "base_uri": "https://localhost:8080/"
        },
        "id": "dhJuBtoz7f43",
        "outputId": "72f5581a-ee90-4bc4-b3d3-3027786926ce"
      },
      "outputs": [
        {
          "output_type": "execute_result",
          "data": {
            "text/plain": [
              "(<PIL.Image.Image image mode=L size=28x28>, 7)"
            ]
          },
          "metadata": {},
          "execution_count": 6
        }
      ],
      "source": [
        "test_dataset[0]"
      ]
    },
    {
      "cell_type": "code",
      "execution_count": 7,
      "metadata": {
        "colab": {
          "base_uri": "https://localhost:8080/",
          "height": 430
        },
        "id": "0zXXXYP37gFL",
        "outputId": "4970655f-1579-4feb-ab8d-173d649d73c6"
      },
      "outputs": [
        {
          "output_type": "display_data",
          "data": {
            "text/plain": [
              "<Figure size 640x480 with 1 Axes>"
            ],
            "image/png": "[encoded data removed]"
          },
          "metadata": {}
        }
      ],
      "source": [
        "%matplotlib inline\n",
        "import matplotlib.pyplot as plt\n",
        "\n",
        "plt.imshow(train_dataset.data[1].detach().numpy())\n",
        "plt.show()"
      ]
    },
    {
      "cell_type": "code",
      "execution_count": 94,
      "metadata": {
        "id": "LdAH7oiY8Mxv"
      },
      "outputs": [],
      "source": [
        "class LinearModel(nn.Module):\n",
        "  def __init__(self, input_dim, hidden_dim, output_dim, dropout_p=0.1):\n",
        "    super().__init__()\n",
        "    self.linear1 = nn.Linear(input_dim, hidden_dim)\n",
        "    self.linear2 = nn.Linear(hidden_dim, hidden_dim)\n",
        "    self.linear3 = nn.Linear(hidden_dim, hidden_dim)\n",
        "    self.linear4 = nn.Linear(hidden_dim, int(hidden_dim / 2))\n",
        "    self.linear5 = nn.Linear(hidden_dim, output_dim)\n",
        "\n",
        "    self.bn1 = nn.BatchNorm1d(hidden_dim)\n",
        "    self.bn2 = nn.BatchNorm1d(hidden_dim)\n",
        "    self.bn3 = nn.BatchNorm1d(hidden_dim)\n",
        "    self.bn4 = nn.BatchNorm1d(int(hidden_dim / 2))\n",
        "\n",
        "    self.do1 = nn.Dropout(dropout_p)\n",
        "    self.do2 = nn.Dropout(dropout_p)\n",
        "    self.do3 = nn.Dropout(dropout_p)\n",
        "    self.activation = nn.ReLU()\n",
        "\n",
        "  def forward(self, x):\n",
        "    x = self.do1(self.activation(self.bn1(self.linear1(x))))\n",
        "    x = self.do2(self.activation(self.bn2(self.linear2(x))))\n",
        "    x = self.do3(self.activation(self.bn3(self.linear3(x))))\n",
        "    # x = self.do3(self.activation(self.bn4(self.linear4(x))))\n",
        "\n",
        "    return self.linear5(x)"
      ]
    },
    {
      "cell_type": "code",
      "execution_count": 88,
      "metadata": {
        "id": "aImjm1_u8NR8"
      },
      "outputs": [],
      "source": [
        "def collate_fn(data: list):\n",
        "  # data = [(pic, target)...]\n",
        "  pics = []\n",
        "  target = []\n",
        "\n",
        "  for item in data:\n",
        "    pics.append(numpy.array(item[0]))\n",
        "    target.append(item[1])\n",
        "\n",
        "  pics = torch.from_numpy(numpy.array(pics)).float() / 255 # B x W x H\n",
        "  target = torch.from_numpy(numpy.array(target))\n",
        "\n",
        "  return {\n",
        "      'data': pics.view(pics.size(0), -1),\n",
        "      'target': target,\n",
        "      }\n"
      ]
    },
    {
      "cell_type": "code",
      "execution_count": 95,
      "metadata": {
        "id": "uPJauY4hAqJ6"
      },
      "outputs": [],
      "source": [
        "# hyperparams\n",
        "inp_dim = 28 * 28\n",
        "hidden = 256\n",
        "out_dim = 10\n",
        "device_id = 0\n",
        "device = 'cpu' if device_id == -1 else f'cuda:{device_id}'\n",
        "n_epochs = 20\n",
        "batch_size = 128\n",
        "learning_rate = 0.001"
      ]
    },
    {
      "cell_type": "code",
      "execution_count": 98,
      "metadata": {
        "id": "_fdZfq9C9zO2"
      },
      "outputs": [],
      "source": [
        "model = LinearModel(inp_dim, hidden, out_dim).to(device)\n",
        "optim = torch.optim.Adam(model.parameters(), lr=learning_rate)\n",
        "loss_func = nn.CrossEntropyLoss()"
      ]
    },
    {
      "cell_type": "code",
      "source": [
        "def train_model(train_dataloader):\n",
        "  train_loss = 0\n",
        "\n",
        "  model.train()\n",
        "\n",
        "  for i, batch in enumerate(train_dataloader):\n",
        "    optim.zero_grad()\n",
        "\n",
        "    predict = model(batch['data'].to(device))\n",
        "    loss = loss_func(predict, batch['target'].to(device).long())\n",
        "    loss.backward()\n",
        "    optim.step()\n",
        "\n",
        "    train_loss += loss.item()\n",
        "\n",
        "  return train_loss"
      ],
      "metadata": {
        "id": "JRLFkPiDddfE"
      },
      "execution_count": 16,
      "outputs": []
    },
    {
      "cell_type": "code",
      "source": [
        "def validate_model(test_dataloader):\n",
        "  test_loss = 0\n",
        "\n",
        "  model.eval()\n",
        "\n",
        "  with torch.no_grad():\n",
        "    for i, batch in enumerate(test_dataloader):\n",
        "      predict = model(batch['data'].to(device))\n",
        "      target = batch['target'].to(device).long()\n",
        "      loss = loss_func(predict, target)\n",
        "\n",
        "      test_loss += loss.item()\n",
        "\n",
        "  return test_loss"
      ],
      "metadata": {
        "id": "Ko_QjtJ9eH27"
      },
      "execution_count": 15,
      "outputs": []
    },
    {
      "cell_type": "code",
      "execution_count": 99,
      "metadata": {
        "colab": {
          "base_uri": "https://localhost:8080/"
        },
        "id": "4p52DhoFBYTr",
        "outputId": "ab2db335-4b2e-47e7-8100-43fd7fa5ba77"
      },
      "outputs": [
        {
          "output_type": "stream",
          "name": "stdout",
          "text": [
            "Epoch [1/20], Train Loss: 0.2173, Val Loss: 0.1026\n",
            "Epoch [2/20], Train Loss: 0.0987, Val Loss: 0.0700\n",
            "Epoch [3/20], Train Loss: 0.0732, Val Loss: 0.0652\n",
            "Epoch [4/20], Train Loss: 0.0574, Val Loss: 0.0679\n",
            "Epoch [5/20], Train Loss: 0.0480, Val Loss: 0.0726\n",
            "Epoch [6/20], Train Loss: 0.0421, Val Loss: 0.0636\n",
            "Epoch [7/20], Train Loss: 0.0384, Val Loss: 0.0563\n",
            "Epoch [8/20], Train Loss: 0.0315, Val Loss: 0.0677\n",
            "Epoch [9/20], Train Loss: 0.0312, Val Loss: 0.0574\n",
            "Epoch [10/20], Train Loss: 0.0276, Val Loss: 0.0646\n",
            "Epoch [11/20], Train Loss: 0.0247, Val Loss: 0.0652\n",
            "Epoch [12/20], Train Loss: 0.0255, Val Loss: 0.0565\n",
            "Epoch [13/20], Train Loss: 0.0227, Val Loss: 0.0606\n",
            "Epoch [14/20], Train Loss: 0.0195, Val Loss: 0.0624\n",
            "Epoch [15/20], Train Loss: 0.0188, Val Loss: 0.0623\n",
            "Epoch [16/20], Train Loss: 0.0191, Val Loss: 0.0626\n",
            "Epoch [17/20], Train Loss: 0.0155, Val Loss: 0.0669\n",
            "Epoch [18/20], Train Loss: 0.0173, Val Loss: 0.0664\n",
            "Epoch [19/20], Train Loss: 0.0149, Val Loss: 0.0617\n",
            "Epoch [20/20], Train Loss: 0.0171, Val Loss: 0.0647\n",
            "0.0563\n"
          ]
        }
      ],
      "source": [
        "train_losses = []\n",
        "test_losses = []\n",
        "\n",
        "for epoch in range(n_epochs):\n",
        "  train_loss = 0\n",
        "  test_loss = 0\n",
        "\n",
        "  train_dataloader = DataLoader(train_dataset,\n",
        "                          batch_size,\n",
        "                          shuffle=True,\n",
        "                          collate_fn=collate_fn,\n",
        "                          drop_last = True,\n",
        "                          )\n",
        "\n",
        "  test_dataloader = DataLoader(test_dataset,\n",
        "                          batch_size,\n",
        "                          shuffle=True,\n",
        "                          collate_fn=collate_fn,\n",
        "                          drop_last = True,\n",
        "                          )\n",
        "\n",
        "  train_loss += train_model(train_dataloader)\n",
        "  test_loss += validate_model(test_dataloader)\n",
        "\n",
        "  train_losses.append(train_loss / len(train_dataloader))\n",
        "  test_losses.append(test_loss / len(test_dataloader))\n",
        "\n",
        "  print(f'Epoch [{epoch+1}/{n_epochs}], '\n",
        "          f'Train Loss: {train_losses[-1]:.4f}, '\n",
        "          f'Val Loss: {test_losses[-1]:.4f}')\n",
        "\n",
        "  torch.save(model.state_dict(), f'./chkpt_{epoch}.pth')\n",
        "\n",
        "print(f'{min(test_losses):.4f}')\n"
      ]
    },
    {
      "cell_type": "code",
      "source": [
        "plt.plot(range(1, n_epochs+1), train_losses, label='train loss')\n",
        "plt.plot(range(1, n_epochs+1), test_losses, label='testing loss')\n",
        "plt.xlabel('эпоха')\n",
        "plt.ylabel('loss')\n",
        "plt.title('Training and testing loss')\n",
        "plt.legend()\n",
        "plt.show()"
      ],
      "metadata": {
        "colab": {
          "base_uri": "https://localhost:8080/",
          "height": 472
        },
        "id": "Un9wQdQ7uSFw",
        "outputId": "e40639e4-d41c-4542-86e7-28862b4b6511"
      },
      "execution_count": 100,
      "outputs": [
        {
          "output_type": "display_data",
          "data": {
            "text/plain": [
              "<Figure size 640x480 with 1 Axes>"
            ],
            "image/png": "[encoded data removed]"
          },
          "metadata": {}
        }
      ]
    },
    {
      "cell_type": "markdown",
      "source": [
        "На графике видим, что потери на валидации перестали снижаться где-то в районе 4-5 эпохи. При этом потери обучения продолжали снижаться до 20-й эпохи. Скорее всего модель на количестве эпох больше 10-15 (в зависимости от lr) начинает переобучаться и обучать на большем количестве эпох нет смысла.\n",
        "\n",
        "Добавление слоев больше 4-х привело к ухудшению производительности модели и не уменьшило loss на валидации. Изменение lr в меньшую сторону приводит только к тому, что модель дольше обучается (сходится за большее количество эпох), график уменьшения loss более плавный, к уменьшению самого loss это не привело. Изменение других параметров таких как количество нейронов в разных слоях и batch size так же не привело к значимому эффекту по loss"
      ],
      "metadata": {
        "id": "B5qDc1LByIKW"
      }
    },
    {
      "cell_type": "markdown",
      "metadata": {
        "id": "KzR-Z2IDGD7H"
      },
      "source": [
        "# Сверточные сети\n"
      ]
    },
    {
      "cell_type": "code",
      "execution_count": 6,
      "metadata": {
        "id": "PCdOthJdBYqZ"
      },
      "outputs": [],
      "source": [
        "class ConvModel(nn.Module):\n",
        "  def __init__(self, input_ch, hidden_ch, output_dim, dropout_p=0.1):\n",
        "    super().__init__()\n",
        "    self.conv1 = nn.Conv2d(input_ch, hidden_ch,\n",
        "                           kernel_size=5, padding=2, stride=2) # уменьшаем картинку в 2 раза\n",
        "    self.bn1 = nn.BatchNorm2d(hidden_ch)\n",
        "    self.conv2 = nn.Conv2d(hidden_ch, hidden_ch, kernel_size=3, padding=1)\n",
        "    self.bn2 = nn.BatchNorm2d(hidden_ch)\n",
        "    self.conv3 = nn.Conv2d(hidden_ch, 2, kernel_size=3, padding=1)\n",
        "    self.bn3 = nn.BatchNorm2d(2)\n",
        "    self.linear3 = nn.Linear(2 * 14 * 14, output_dim)\n",
        "    self.do1 = nn.Dropout(dropout_p)\n",
        "    self.do2 = nn.Dropout(dropout_p)\n",
        "    self.activation = nn.ReLU()\n",
        "\n",
        "  def forward(self, x):\n",
        "    x = self.do1(self.activation(self.bn1(self.conv1(x))))\n",
        "    x = self.do2(self.activation(self.bn2(self.conv2(x))))\n",
        "    x = self.activation(self.bn3(self.conv3(x))) # B x 2 x 14 x 14\n",
        "\n",
        "    return self.linear3(x.view(x.size(0), -1))\n",
        "    # x.size() -> (B, W, H); x.size(0) -> B\n",
        "    # x.view(B, -1) -> (B, вектор размера всего остального)"
      ]
    },
    {
      "cell_type": "code",
      "execution_count": 7,
      "metadata": {
        "id": "RYVsEjc-H1hQ"
      },
      "outputs": [],
      "source": [
        "# hyperparams\n",
        "input_ch = 1\n",
        "hidden_ch = 128\n",
        "out_dim = 10\n",
        "device_id = -1\n",
        "device = 'cpu' if device_id == -1 else f'cuda:{device_id}'\n",
        "n_epochs = 10\n",
        "batch_size = 128"
      ]
    },
    {
      "cell_type": "code",
      "execution_count": 8,
      "metadata": {
        "id": "K_PACmDaH8Z7"
      },
      "outputs": [],
      "source": [
        "def collate_fn_conv(data: list):\n",
        "  # data = [(pic, target)...]\n",
        "  pics = []\n",
        "  target = []\n",
        "  for item in data:\n",
        "    pics.append(numpy.array(item[0])) # W x H\n",
        "    target.append(item[1])\n",
        "  pics = torch.from_numpy(numpy.array(pics)).float() / 255 # B x W x H\n",
        "  target = torch.from_numpy(numpy.array(target))\n",
        "\n",
        "  return {\n",
        "      'data': pics.unsqueeze(1), # B x 1(C) x W x H\n",
        "      'target': target.long(),\n",
        "      }\n",
        "\n",
        "# arr = [[[[1,2],[3,4]]],[[[1,2],[3,4]]]]\n",
        "# arr[1][0][1][1]"
      ]
    },
    {
      "cell_type": "code",
      "execution_count": 9,
      "metadata": {
        "id": "a4gX5zVDIZdu"
      },
      "outputs": [],
      "source": [
        "model_conv = ConvModel(input_ch, hidden_ch, out_dim).to(device)\n",
        "optim = torch.optim.Adam(model_conv.parameters())\n",
        "loss_func = nn.CrossEntropyLoss()"
      ]
    },
    {
      "cell_type": "code",
      "execution_count": 11,
      "metadata": {
        "colab": {
          "base_uri": "https://localhost:8080/",
          "height": 391
        },
        "id": "jVX0P0otIk4D",
        "outputId": "70719bd3-277d-475c-8f42-e09fc3225e04"
      },
      "outputs": [
        {
          "output_type": "stream",
          "name": "stdout",
          "text": [
            "epoch: 0, step: 0, loss: 2.3708136081695557\n",
            "epoch: 0, step: 200, loss: 0.13467290997505188\n"
          ]
        },
        {
          "output_type": "error",
          "ename": "KeyboardInterrupt",
          "evalue": "",
          "traceback": [
            "\u001b[0;31m---------------------------------------------------------------------------\u001b[0m",
            "\u001b[0;31mKeyboardInterrupt\u001b[0m                         Traceback (most recent call last)",
            "\u001b[0;32m<ipython-input-11-aa7e445b64c4>\u001b[0m in \u001b[0;36m<cell line: 1>\u001b[0;34m()\u001b[0m\n\u001b[1;32m     11\u001b[0m     \u001b[0mpredict\u001b[0m \u001b[0;34m=\u001b[0m \u001b[0mmodel_conv\u001b[0m\u001b[0;34m(\u001b[0m\u001b[0mbatch\u001b[0m\u001b[0;34m[\u001b[0m\u001b[0;34m'data'\u001b[0m\u001b[0;34m]\u001b[0m\u001b[0;34m.\u001b[0m\u001b[0mto\u001b[0m\u001b[0;34m(\u001b[0m\u001b[0mdevice\u001b[0m\u001b[0;34m)\u001b[0m\u001b[0;34m)\u001b[0m\u001b[0;34m\u001b[0m\u001b[0;34m\u001b[0m\u001b[0m\n\u001b[1;32m     12\u001b[0m     \u001b[0mloss\u001b[0m \u001b[0;34m=\u001b[0m \u001b[0mloss_func\u001b[0m\u001b[0;34m(\u001b[0m\u001b[0mpredict\u001b[0m\u001b[0;34m,\u001b[0m \u001b[0mbatch\u001b[0m\u001b[0;34m[\u001b[0m\u001b[0;34m'target'\u001b[0m\u001b[0;34m]\u001b[0m\u001b[0;34m.\u001b[0m\u001b[0mto\u001b[0m\u001b[0;34m(\u001b[0m\u001b[0mdevice\u001b[0m\u001b[0;34m)\u001b[0m\u001b[0;34m)\u001b[0m\u001b[0;34m\u001b[0m\u001b[0;34m\u001b[0m\u001b[0m\n\u001b[0;32m---> 13\u001b[0;31m     \u001b[0mloss\u001b[0m\u001b[0;34m.\u001b[0m\u001b[0mbackward\u001b[0m\u001b[0;34m(\u001b[0m\u001b[0;34m)\u001b[0m\u001b[0;34m\u001b[0m\u001b[0;34m\u001b[0m\u001b[0m\n\u001b[0m\u001b[1;32m     14\u001b[0m     \u001b[0moptim\u001b[0m\u001b[0;34m.\u001b[0m\u001b[0mstep\u001b[0m\u001b[0;34m(\u001b[0m\u001b[0;34m)\u001b[0m\u001b[0;34m\u001b[0m\u001b[0;34m\u001b[0m\u001b[0m\n\u001b[1;32m     15\u001b[0m     \u001b[0;32mif\u001b[0m \u001b[0mi\u001b[0m \u001b[0;34m%\u001b[0m \u001b[0;36m200\u001b[0m \u001b[0;34m==\u001b[0m \u001b[0;36m0\u001b[0m\u001b[0;34m:\u001b[0m\u001b[0;34m\u001b[0m\u001b[0;34m\u001b[0m\u001b[0m\n",
            "\u001b[0;32m/usr/local/lib/python3.10/dist-packages/torch/_tensor.py\u001b[0m in \u001b[0;36mbackward\u001b[0;34m(self, gradient, retain_graph, create_graph, inputs)\u001b[0m\n\u001b[1;32m    490\u001b[0m                 \u001b[0minputs\u001b[0m\u001b[0;34m=\u001b[0m\u001b[0minputs\u001b[0m\u001b[0;34m,\u001b[0m\u001b[0;34m\u001b[0m\u001b[0;34m\u001b[0m\u001b[0m\n\u001b[1;32m    491\u001b[0m             )\n\u001b[0;32m--> 492\u001b[0;31m         torch.autograd.backward(\n\u001b[0m\u001b[1;32m    493\u001b[0m             \u001b[0mself\u001b[0m\u001b[0;34m,\u001b[0m \u001b[0mgradient\u001b[0m\u001b[0;34m,\u001b[0m \u001b[0mretain_graph\u001b[0m\u001b[0;34m,\u001b[0m \u001b[0mcreate_graph\u001b[0m\u001b[0;34m,\u001b[0m \u001b[0minputs\u001b[0m\u001b[0;34m=\u001b[0m\u001b[0minputs\u001b[0m\u001b[0;34m\u001b[0m\u001b[0;34m\u001b[0m\u001b[0m\n\u001b[1;32m    494\u001b[0m         )\n",
            "\u001b[0;32m/usr/local/lib/python3.10/dist-packages/torch/autograd/__init__.py\u001b[0m in \u001b[0;36mbackward\u001b[0;34m(tensors, grad_tensors, retain_graph, create_graph, grad_variables, inputs)\u001b[0m\n\u001b[1;32m    249\u001b[0m     \u001b[0;31m# some Python versions print out the first line of a multi-line function\u001b[0m\u001b[0;34m\u001b[0m\u001b[0;34m\u001b[0m\u001b[0m\n\u001b[1;32m    250\u001b[0m     \u001b[0;31m# calls in the traceback and some print out the last line\u001b[0m\u001b[0;34m\u001b[0m\u001b[0;34m\u001b[0m\u001b[0m\n\u001b[0;32m--> 251\u001b[0;31m     Variable._execution_engine.run_backward(  # Calls into the C++ engine to run the backward pass\n\u001b[0m\u001b[1;32m    252\u001b[0m         \u001b[0mtensors\u001b[0m\u001b[0;34m,\u001b[0m\u001b[0;34m\u001b[0m\u001b[0;34m\u001b[0m\u001b[0m\n\u001b[1;32m    253\u001b[0m         \u001b[0mgrad_tensors_\u001b[0m\u001b[0;34m,\u001b[0m\u001b[0;34m\u001b[0m\u001b[0;34m\u001b[0m\u001b[0m\n",
            "\u001b[0;31mKeyboardInterrupt\u001b[0m: "
          ]
        }
      ],
      "source": [
        "for epoch in range(n_epochs):\n",
        "  dataloader = DataLoader(train_dataset,\n",
        "                          batch_size,\n",
        "                          shuffle=True,\n",
        "                          collate_fn=collate_fn_conv,\n",
        "                          drop_last = True,\n",
        "                          )\n",
        "  for i, batch in enumerate(dataloader):\n",
        "    optim.zero_grad()\n",
        "\n",
        "    predict = model_conv(batch['data'].to(device))\n",
        "    loss = loss_func(predict, batch['target'].to(device))\n",
        "    loss.backward()\n",
        "    optim.step()\n",
        "    if i % 200 == 0:\n",
        "      print(f'epoch: {epoch}, step: {i}, loss: {loss.item()}')\n",
        "  torch.save(model_conv.state_dict(), f'./chkpt_conv_{epoch}.pth')"
      ]
    },
    {
      "cell_type": "code",
      "execution_count": null,
      "metadata": {
        "id": "9CljFAzIMMEW"
      },
      "outputs": [],
      "source": []
    }
  ],
  "metadata": {
    "colab": {
      "provenance": [],
      "gpuType": "T4",
      "include_colab_link": true
    },
    "kernelspec": {
      "display_name": "Python 3",
      "name": "python3"
    },
    "language_info": {
      "codemirror_mode": {
        "name": "ipython",
        "version": 3
      },
      "file_extension": ".py",
      "mimetype": "text/x-python",
      "name": "python",
      "nbconvert_exporter": "python",
      "pygments_lexer": "ipython3",
      "version": "3.6.5"
    },
    "accelerator": "GPU"
  },
  "nbformat": 4,
  "nbformat_minor": 0
}