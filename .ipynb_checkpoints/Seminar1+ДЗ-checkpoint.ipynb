{
 "cells": [
  {
   "cell_type": "code",
   "execution_count": 2,
   "metadata": {
    "id": "RuSxPbblHJK1"
   },
   "outputs": [],
   "source": [
    "# Домашнее задание\n",
    "\n"
   ]
  },
  {
   "cell_type": "code",
   "execution_count": 3,
   "metadata": {
    "id": "cJlrSHw9Fz1x"
   },
   "outputs": [],
   "source": [
    "# задача 1\n",
    "\n",
    "# Найти корни квадратного уравнения методом градиентного спуска\n",
    "# x ** 2 - 5 * x + 4 = 0\n",
    "\n",
    "# надо начать движение от начальной точки в направлении антградиента с заданным шагом\n",
    "# x = x - lr * grad(x)\n",
    "# всегда ли сойдемся за приемлемое количество шагов?\n",
    "# важна ли начальная точка?\n",
    "# как найти второй корень?\n",
    "# как влияет ЛР?"
   ]
  },
  {
   "cell_type": "markdown",
   "metadata": {},
   "source": [
    "*чтобы найти корни квадратного уравнения с помощью градиентного бустинга будем использовать для минимизации функцию потерь как квадратичную функцию, тогда минимумы будут являться нулями, те корнями квадратного уравнения*"
   ]
  },
  {
   "cell_type": "code",
   "execution_count": 41,
   "metadata": {},
   "outputs": [
    {
     "data": {
      "image/png": "[encoded data removed]",
      "text/plain": [
       "<Figure size 720x360 with 1 Axes>"
      ]
     },
     "metadata": {
      "needs_background": "light"
     },
     "output_type": "display_data"
    }
   ],
   "source": [
    "import matplotlib.pyplot as plt\n",
    "\n",
    "def f(x):\n",
    "    return x ** 2 - 5 * x + 4\n",
    "\n",
    "def g(x):\n",
    "    return (x ** 2 - 5 * x + 4) ** 2\n",
    "\n",
    "x = np.linspace(-1, 6, 50)\n",
    "\n",
    "plt.figure(figsize=(10, 5))\n",
    "\n",
    "plt.plot(x, f(x), label='f(x) = x^2 - 5x + 4', color='blue')\n",
    "plt.plot(x, g(x), label='g(x) = (x^2 - 5x + 4)^2', color='red', linestyle='--')\n",
    "\n",
    "plt.legend()\n",
    "\n",
    "plt.grid(True) \n",
    "\n",
    "plt.show()"
   ]
  },
  {
   "cell_type": "code",
   "execution_count": 54,
   "metadata": {
    "scrolled": true
   },
   "outputs": [
    {
     "name": "stdout",
     "output_type": "stream",
     "text": [
      "----------------------------------------------------------------------------------------------------\n",
      "поиск корня для стартовой точки -10\n"
     ]
    },
    {
     "name": "stderr",
     "output_type": "stream",
     "text": [
      "100%|█████████████████████████████████████████████████████████████████████████████| 5000/5000 [00:06<00:00, 726.40it/s]\n"
     ]
    },
    {
     "name": "stdout",
     "output_type": "stream",
     "text": [
      "не удалось найти корень уравнения\n",
      "----------------------------------------------------------------------------------------------------\n",
      "поиск корня для стартовой точки 0\n"
     ]
    },
    {
     "name": "stderr",
     "output_type": "stream",
     "text": [
      "  0%|                                                                                         | 0/5000 [00:00<?, ?it/s]\n"
     ]
    },
    {
     "name": "stdout",
     "output_type": "stream",
     "text": [
      "найден корень 1\n",
      "----------------------------------------------------------------------------------------------------\n",
      "поиск корня для стартовой точки 6\n"
     ]
    },
    {
     "name": "stderr",
     "output_type": "stream",
     "text": [
      "  0%|                                                                                         | 0/5000 [00:00<?, ?it/s]\n"
     ]
    },
    {
     "name": "stdout",
     "output_type": "stream",
     "text": [
      "найден корень 4\n",
      "----------------------------------------------------------------------------------------------------\n",
      "поиск корня для стартовой точки 9\n"
     ]
    },
    {
     "name": "stderr",
     "output_type": "stream",
     "text": [
      "  0%|                                                                                         | 0/5000 [00:00<?, ?it/s]\n"
     ]
    },
    {
     "name": "stdout",
     "output_type": "stream",
     "text": [
      "найден корень 1\n",
      "----------------------------------------------------------------------------------------------------\n",
      "поиск корня для стартовой точки 10\n"
     ]
    },
    {
     "name": "stderr",
     "output_type": "stream",
     "text": [
      "100%|█████████████████████████████████████████████████████████████████████████████| 5000/5000 [00:07<00:00, 708.34it/s]\n"
     ]
    },
    {
     "name": "stdout",
     "output_type": "stream",
     "text": [
      "не удалось найти корень уравнения\n",
      "----------------------------------------------------------------------------------------------------\n",
      "все найденные корни уравнения - {1, 4}\n"
     ]
    }
   ],
   "source": [
    "import sympy as sp\n",
    "from typing import List\n",
    "from tqdm import tqdm\n",
    "\n",
    "\n",
    "class QuadraticEquationGradientBoosting:\n",
    "    \n",
    "    def __init__(self, a: int = 1, b: int = 1, c: int = 1, max_iter: int = 5000, tol: float = 1e-9, verbose: bool = True):\n",
    "        self._max_iter = max_iter\n",
    "        self._tol = tol\n",
    "        self._verbose = verbose\n",
    "        self._x = sp.symbols('x')\n",
    "        \n",
    "        self._equation = a * self._x ** 2 - b * self._x + c        \n",
    "    \n",
    "    def get_all_roots(self, x_starts: List[int], lr: float = 0.01):\n",
    "        roots = set()\n",
    "        \n",
    "        print('-' * 100)\n",
    "        \n",
    "        for x_start in x_starts:            \n",
    "            print(f'поиск корня для стартовой точки {x_start}')\n",
    "            \n",
    "            root = self.get_root(x_start, lr)\n",
    "            \n",
    "            if root is not None:\n",
    "                print(f'найден корень {root}')\n",
    "                roots.add(root) \n",
    "            else:\n",
    "                print('не удалось найти корень уравнения')\n",
    "                \n",
    "            print('-' * 100)   \n",
    "                            \n",
    "        return roots            \n",
    "        \n",
    "    def get_root(self, x_start: int, lr: float):  \n",
    "        loss_func = (self._equation) ** 2\n",
    "        prime_func = sp.diff(loss_func, self._x)        \n",
    "\n",
    "        for i in tqdm(range(self._max_iter)):     \n",
    "            loss_func_val = loss_func.subs(self._x, x_start)           \n",
    "\n",
    "            if abs(loss_func_val) <= self._tol:                \n",
    "                return round(x_start)\n",
    "\n",
    "            x_start = x_start - lr * prime_func.subs(self._x, x_start)\n",
    "            self._print_debag(f\"Шаг {i + 1}, loss {float(loss_func_val)}, x - {float(x_start)}\")       \n",
    "          \n",
    "    def _print_debag(self, log):\n",
    "        if self._verbose:\n",
    "            print(log)\n",
    "            \n",
    "\n",
    "equation = QuadraticEquationGradientBoosting(b=5, c=4, max_iter=5000, verbose=False)\n",
    "print('все найденные корни уравнения -', equation.get_all_roots([-10, 0, 6, 9, 10], 0.01))"
   ]
  },
  {
   "cell_type": "code",
   "execution_count": 56,
   "metadata": {
    "scrolled": false
   },
   "outputs": [
    {
     "name": "stdout",
     "output_type": "stream",
     "text": [
      "----------------------------------------------------------------------------------------------------\n",
      "поиск корня для стартовой точки -10\n"
     ]
    },
    {
     "name": "stderr",
     "output_type": "stream",
     "text": [
      "100%|███████████████████████████████████████████████████████████████████████████| 10000/10000 [00:13<00:00, 722.11it/s]\n"
     ]
    },
    {
     "name": "stdout",
     "output_type": "stream",
     "text": [
      "не удалось найти корень уравнения\n",
      "----------------------------------------------------------------------------------------------------\n",
      "поиск корня для стартовой точки 0\n"
     ]
    },
    {
     "name": "stderr",
     "output_type": "stream",
     "text": [
      "100%|███████████████████████████████████████████████████████████████████████████| 10000/10000 [00:13<00:00, 720.60it/s]\n"
     ]
    },
    {
     "name": "stdout",
     "output_type": "stream",
     "text": [
      "не удалось найти корень уравнения\n",
      "----------------------------------------------------------------------------------------------------\n",
      "поиск корня для стартовой точки 6\n"
     ]
    },
    {
     "name": "stderr",
     "output_type": "stream",
     "text": [
      "100%|███████████████████████████████████████████████████████████████████████████| 10000/10000 [00:13<00:00, 723.16it/s]\n"
     ]
    },
    {
     "name": "stdout",
     "output_type": "stream",
     "text": [
      "не удалось найти корень уравнения\n",
      "----------------------------------------------------------------------------------------------------\n",
      "поиск корня для стартовой точки 9\n"
     ]
    },
    {
     "name": "stderr",
     "output_type": "stream",
     "text": [
      "100%|███████████████████████████████████████████████████████████████████████████| 10000/10000 [00:13<00:00, 716.06it/s]\n"
     ]
    },
    {
     "name": "stdout",
     "output_type": "stream",
     "text": [
      "не удалось найти корень уравнения\n",
      "----------------------------------------------------------------------------------------------------\n",
      "поиск корня для стартовой точки 10\n"
     ]
    },
    {
     "name": "stderr",
     "output_type": "stream",
     "text": [
      "100%|███████████████████████████████████████████████████████████████████████████| 10000/10000 [00:13<00:00, 717.85it/s]\n"
     ]
    },
    {
     "name": "stdout",
     "output_type": "stream",
     "text": [
      "не удалось найти корень уравнения\n",
      "----------------------------------------------------------------------------------------------------\n",
      "все найденные корни уравнения - set()\n"
     ]
    }
   ],
   "source": [
    "# зададим слишком большой lr - корни уравнения не были найдены\n",
    "equation = QuadraticEquationGradientBoosting(b=5, c=4, max_iter=10000, verbose=False)\n",
    "print('все найденные корни уравнения -', equation.get_all_roots([-10, 0, 6, 9, 10], 0.5))"
   ]
  },
  {
   "cell_type": "code",
   "execution_count": 61,
   "metadata": {},
   "outputs": [
    {
     "name": "stdout",
     "output_type": "stream",
     "text": [
      "----------------------------------------------------------------------------------------------------\n",
      "поиск корня для стартовой точки -10\n"
     ]
    },
    {
     "name": "stderr",
     "output_type": "stream",
     "text": [
      " 12%|█████████                                                                   | 1187/10000 [00:01<00:11, 749.96it/s]\n"
     ]
    },
    {
     "name": "stdout",
     "output_type": "stream",
     "text": [
      "найден корень 1\n",
      "----------------------------------------------------------------------------------------------------\n",
      "поиск корня для стартовой точки 0\n"
     ]
    },
    {
     "name": "stderr",
     "output_type": "stream",
     "text": [
      " 12%|████████▉                                                                   | 1179/10000 [00:01<00:11, 742.60it/s]\n"
     ]
    },
    {
     "name": "stdout",
     "output_type": "stream",
     "text": [
      "найден корень 1\n",
      "----------------------------------------------------------------------------------------------------\n",
      "поиск корня для стартовой точки 6\n"
     ]
    },
    {
     "name": "stderr",
     "output_type": "stream",
     "text": [
      " 12%|████████▉                                                                   | 1179/10000 [00:01<00:12, 725.75it/s]\n"
     ]
    },
    {
     "name": "stdout",
     "output_type": "stream",
     "text": [
      "найден корень 4\n",
      "----------------------------------------------------------------------------------------------------\n",
      "поиск корня для стартовой точки 9\n"
     ]
    },
    {
     "name": "stderr",
     "output_type": "stream",
     "text": [
      " 12%|█████████▏                                                                  | 1206/10000 [00:01<00:11, 753.74it/s]\n"
     ]
    },
    {
     "name": "stdout",
     "output_type": "stream",
     "text": [
      "найден корень 4\n",
      "----------------------------------------------------------------------------------------------------\n",
      "поиск корня для стартовой точки 10\n"
     ]
    },
    {
     "name": "stderr",
     "output_type": "stream",
     "text": [
      " 12%|████████▉                                                                   | 1180/10000 [00:01<00:12, 696.52it/s]\n"
     ]
    },
    {
     "name": "stdout",
     "output_type": "stream",
     "text": [
      "найден корень 4\n",
      "----------------------------------------------------------------------------------------------------\n",
      "поиск корня для стартовой точки 30\n"
     ]
    },
    {
     "name": "stderr",
     "output_type": "stream",
     "text": [
      " 12%|█████████                                                                   | 1185/10000 [00:01<00:11, 760.78it/s]\n"
     ]
    },
    {
     "name": "stdout",
     "output_type": "stream",
     "text": [
      "найден корень 1\n",
      "----------------------------------------------------------------------------------------------------\n",
      "все найденные корни уравнения - {1, 4}\n"
     ]
    }
   ],
   "source": [
    "# зададим маленький lr \n",
    "equation = QuadraticEquationGradientBoosting(b=5, c=4, max_iter=10000, verbose=False)\n",
    "print('все найденные корни уравнения -', equation.get_all_roots([-10, 0, 6, 9, 10, 30], 0.0005))"
   ]
  },
  {
   "cell_type": "code",
   "execution_count": 58,
   "metadata": {},
   "outputs": [
    {
     "name": "stdout",
     "output_type": "stream",
     "text": [
      "----------------------------------------------------------------------------------------------------\n",
      "поиск корня для стартовой точки -10\n"
     ]
    },
    {
     "name": "stderr",
     "output_type": "stream",
     "text": [
      "100%|███████████████████████████████████████████████████████████████████████████| 10000/10000 [00:13<00:00, 743.54it/s]\n"
     ]
    },
    {
     "name": "stdout",
     "output_type": "stream",
     "text": [
      "не удалось найти корень уравнения\n",
      "----------------------------------------------------------------------------------------------------\n",
      "поиск корня для стартовой точки 0\n"
     ]
    },
    {
     "name": "stderr",
     "output_type": "stream",
     "text": [
      "100%|███████████████████████████████████████████████████████████████████████████| 10000/10000 [00:13<00:00, 743.18it/s]\n"
     ]
    },
    {
     "name": "stdout",
     "output_type": "stream",
     "text": [
      "не удалось найти корень уравнения\n",
      "----------------------------------------------------------------------------------------------------\n",
      "поиск корня для стартовой точки 6\n"
     ]
    },
    {
     "name": "stderr",
     "output_type": "stream",
     "text": [
      "100%|███████████████████████████████████████████████████████████████████████████| 10000/10000 [00:13<00:00, 742.60it/s]\n"
     ]
    },
    {
     "name": "stdout",
     "output_type": "stream",
     "text": [
      "не удалось найти корень уравнения\n",
      "----------------------------------------------------------------------------------------------------\n",
      "поиск корня для стартовой точки 9\n"
     ]
    },
    {
     "name": "stderr",
     "output_type": "stream",
     "text": [
      "100%|███████████████████████████████████████████████████████████████████████████| 10000/10000 [00:13<00:00, 743.57it/s]\n"
     ]
    },
    {
     "name": "stdout",
     "output_type": "stream",
     "text": [
      "не удалось найти корень уравнения\n",
      "----------------------------------------------------------------------------------------------------\n",
      "поиск корня для стартовой точки 10\n"
     ]
    },
    {
     "name": "stderr",
     "output_type": "stream",
     "text": [
      "100%|███████████████████████████████████████████████████████████████████████████| 10000/10000 [00:13<00:00, 742.87it/s]\n"
     ]
    },
    {
     "name": "stdout",
     "output_type": "stream",
     "text": [
      "не удалось найти корень уравнения\n",
      "----------------------------------------------------------------------------------------------------\n",
      "все найденные корни уравнения - set()\n"
     ]
    }
   ],
   "source": [
    "# зададим слишком маленький lr - корни уравнения не были найдены\n",
    "equation = QuadraticEquationGradientBoosting(b=5, c=4, max_iter=10000, verbose=False)\n",
    "print('все найденные корни уравнения -', equation.get_all_roots([-10, 0, 6, 9, 10], 0.000005))"
   ]
  },
  {
   "cell_type": "markdown",
   "metadata": {},
   "source": [
    "*всегда ли сойдемся за приемлемое количество шагов?*\n",
    "\n",
    "нет, важно подобрать правильно learning rate и стартовую точку, так же у уравнения может не быть корней\n",
    "\n",
    "\n",
    "*важна ли начальная точка?*\n",
    "\n",
    "Да, чем ближе точка к корню уравнения тем больше вероятность сходимости. Если стартовую точку выбрать слишком далеко от корня, то градиентный спуск может не сойтись\n",
    "\n",
    "\n",
    "*как найти второй корень?*\n",
    "\n",
    "Для поиска второго корня необходимо выбрать другую стартовую точку\n",
    "\n",
    "\n",
    "*как влияет ЛР?*\n",
    "\n",
    "по результату эксперимента с заданием слишком малого и слишком большого значения ЛР выявлено, что корни уравнения при этом за приемлемое количество итераций не были найдены. Изменение ЛР так же влияет на скорость нахождения корней, если значения ЛР указаны в допустимых пределах. Например при значении ЛР равным 0.0005 корни были найдены для всех стартовых точек, но за большее число итераций."
   ]
  },
  {
   "cell_type": "code",
   "execution_count": null,
   "metadata": {},
   "outputs": [],
   "source": [
    "# Задача 2\n",
    "\n",
    "# Реализовать адаптивний оптимизатор с подстраивающимся LR"
   ]
  },
  {
   "cell_type": "code",
   "execution_count": 29,
   "metadata": {},
   "outputs": [],
   "source": [
    "class Adam:\n",
    "    def __init__(self, model: Model, lr= 0.0001, betta1=0.9, betta2=0.999):\n",
    "        self.model = model\n",
    "        self.lr = lr\n",
    "        self.betta1 = betta1\n",
    "        self.betta2 = betta2\n",
    "        \n",
    "        self.vel = [[np.zeros_like(layer.w), \n",
    "                     np.zeros_like(layer.b)] for layer in model.layers]\n",
    "        \n",
    "        self.accum = [[np.zeros_like(layer.w), \n",
    "                     np.zeros_like(layer.b)] for layer in model.layers]\n",
    "\n",
    "    def step(self):\n",
    "        for i, layer in enumerate(self.model.layers):\n",
    "            self.vel[i][0] = self.vel[i][0] * self.betta1 + (1-self.betta1) * layer.d_w\n",
    "            self.vel[i][1] = self.vel[i][1] * self.betta1 + (1-self.betta1) * layer.d_b\n",
    "            \n",
    "            self.accum[i][0] = self.accum[i][0] * self.betta2 + (1-self.betta2) * layer.d_w ** 2\n",
    "            self.accum[i][1] = self.accum[i][1] * self.betta2 + (1-self.betta2) * layer.d_b ** 2\n",
    "            \n",
    "            adapt_lr_w = self.lr / (np.sqrt(self.accum[i][0]) + 1e-8)\n",
    "            adapt_lr_b = self.lr / (np.sqrt(self.accum[i][1]) + 1e-8)\n",
    "            \n",
    "            layer.w -= self.vel[i][0] * adapt_lr_w\n",
    "            layer.b -= self.vel[i][1] * adapt_lr_b\n",
    "    \n",
    "    def zero_grad(self):\n",
    "        self.model._clear_state()"
   ]
  },
  {
   "cell_type": "code",
   "execution_count": 39,
   "metadata": {},
   "outputs": [
    {
     "name": "stdout",
     "output_type": "stream",
     "text": [
      "0 [[0.06985557]] [[0.08932419]] [[-0.20184924]] [[-0.30660975]]\n",
      "1 [[1.75392143]] [[2.49578874]] [[1.45364217]] [[2.02272442]]\n",
      "2 [[2.53350859]] [[3.87439773]] [[2.39360392]] [[3.59688773]]\n",
      "3 [[2.46812284]] [[4.1761515]] [[2.48483354]] [[4.09350229]]\n",
      "4 [[2.24965605]] [[4.28592508]] [[2.33041657]] [[4.24604709]]\n",
      "5 [[1.99702551]] [[4.35223384]] [[2.13488303]] [[4.33530742]]\n",
      "6 [[1.75382694]] [[4.40475378]] [[1.93622756]] [[4.39238684]]\n",
      "7 [[1.55473259]] [[4.43452351]] [[1.75420407]] [[4.42914462]]\n",
      "8 [[1.3903392]] [[4.45110269]] [[1.59751632]] [[4.44993902]]\n",
      "9 [[1.25901029]] [[4.45677366]] [[1.4668393]] [[4.45954224]]\n",
      "10 [[1.1520846]] [[4.45449626]] [[1.35805566]] [[4.46165507]]\n",
      "11 [[1.06541082]] [[4.44593201]] [[1.26935758]] [[4.45788457]]\n",
      "12 [[1.02319445]] [[4.43181722]] [[1.19172418]] [[4.45034932]]\n",
      "13 [[0.99807219]] [[4.41296285]] [[1.11622815]] [[4.43957146]]\n",
      "14 [[0.98065643]] [[4.3902436]] [[1.04110558]] [[4.42539038]]\n",
      "15 [[0.97118028]] [[4.36414168]] [[0.96754469]] [[4.40852227]]\n",
      "16 [[0.96508589]] [[4.33533159]] [[0.90656759]] [[4.38922943]]\n",
      "17 [[0.9589989]] [[4.30392617]] [[0.88013498]] [[4.3677389]]\n",
      "18 [[0.9512788]] [[4.27056282]] [[0.87551283]] [[4.34367928]]\n",
      "19 [[0.95260479]] [[4.23550655]] [[0.87911246]] [[4.3173667]]\n"
     ]
    }
   ],
   "source": [
    "model = Model(((1, 100), (100, 1)), activation='relu')\n",
    "optim = Adam(model, lr=0.00001)\n",
    "\n",
    "for e in range(20):\n",
    "    print(e, model.forward([[1]]), model.forward([[2]]), model.forward([[-1]]), model.forward([[-2]]))\n",
    "    for i, (val, t) in enumerate(zip(x, y)):\n",
    "        optim.zero_grad()\n",
    "        pred = model.forward(np.array([[val]]))\n",
    "        loss = mse_loss(t, pred)\n",
    "        grad = d_mse_loss(t, pred)\n",
    "        model.backward(grad)\n",
    "        optim.step()"
   ]
  },
  {
   "cell_type": "markdown",
   "metadata": {},
   "source": [
    "*Adam сошелся за большее количество шагов, чем Momentum*"
   ]
  },
  {
   "cell_type": "code",
   "execution_count": 88,
   "metadata": {
    "executionInfo": {
     "elapsed": 254,
     "status": "ok",
     "timestamp": 1667659277719,
     "user": {
      "displayName": "Boris Zhestkov",
      "userId": "15589718157134474454"
     },
     "user_tz": -180
    },
    "id": "l-iXHAA1Fz1p"
   },
   "outputs": [],
   "source": [
    "import numpy as np"
   ]
  },
  {
   "cell_type": "code",
   "execution_count": null,
   "metadata": {
    "id": "a2swiHK-HIOq"
   },
   "outputs": [],
   "source": [
    "# Task 2\n",
    "# Realize forward and backward pass for linear layer with sigmoid activation"
   ]
  },
  {
   "cell_type": "code",
   "execution_count": 36,
   "metadata": {
    "executionInfo": {
     "elapsed": 280,
     "status": "ok",
     "timestamp": 1667663676928,
     "user": {
      "displayName": "Boris Zhestkov",
      "userId": "15589718157134474454"
     },
     "user_tz": -180
    },
    "id": "ibFFthYnHIlh"
   },
   "outputs": [],
   "source": [
    "def sigmoid(x):\n",
    "    return 1. / (1 + np.exp(-x))\n",
    "\n",
    "def sigmoid_backward(da, x):\n",
    "    sig = sigmoid(x)\n",
    "    \n",
    "    return da * sig * (1 - sig)\n",
    "\n",
    "def relu(x):\n",
    "    return np.maximum(0., x)\n",
    "\n",
    "def relu_backward(da, x):\n",
    "    da = np.array(da, copy = True)\n",
    "    da[x <= 0] = 0\n",
    "    return da"
   ]
  },
  {
   "cell_type": "code",
   "execution_count": 7,
   "metadata": {
    "executionInfo": {
     "elapsed": 255,
     "status": "ok",
     "timestamp": 1667663680426,
     "user": {
      "displayName": "Boris Zhestkov",
      "userId": "15589718157134474454"
     },
     "user_tz": -180
    },
    "id": "gvMKpB5WFz1z"
   },
   "outputs": [],
   "source": [
    "def mse_loss(t, y):\n",
    "    return (t - y) ** 2\n",
    "\n",
    "def d_mse_loss(t, y):\n",
    "    return 2 * (y - t) \n"
   ]
  },
  {
   "cell_type": "code",
   "execution_count": 37,
   "metadata": {
    "executionInfo": {
     "elapsed": 2,
     "status": "ok",
     "timestamp": 1667663684513,
     "user": {
      "displayName": "Boris Zhestkov",
      "userId": "15589718157134474454"
     },
     "user_tz": -180
    },
    "id": "-qAVeaVcFz10"
   },
   "outputs": [],
   "source": [
    "class LinearLayer:\n",
    "    def __init__(self, n_inp, n_out, activation='sigmoid'):\n",
    "        self.w = np.random.randn(n_out, n_inp) * 0.1\n",
    "        self.b = np.random.randn(n_out, 1) * 0.1\n",
    "        if activation == 'sigmoid':\n",
    "            self.activ = sigmoid\n",
    "        if activation == 'relu':\n",
    "            self.activ = relu\n",
    "        elif activation == 'None':\n",
    "            self.activ = None\n",
    "        else:\n",
    "            raise Exception(f'Unknown activation \"{activation}\"')\n",
    "        self._clear_state()\n",
    "\n",
    "    def _clear_state(self):\n",
    "        self.lin = None\n",
    "        self.inp = None\n",
    "        self.d_w = None\n",
    "        self.d_b = None\n",
    "\n",
    "    def forward(self, x):\n",
    "        self.inp = x\n",
    "        self.lin = np.dot(self.w, x) + self.b\n",
    "        activ = self.activ(self.lin) if self.activ is not None else self.lin\n",
    "        \n",
    "        return activ\n",
    "\n",
    "    def backward(self, grad): # grad = d L / d z    Dout \n",
    "        # grad * dz / d lin\n",
    "        if self.activ == sigmoid:\n",
    "            grad_lin = sigmoid_backward(grad, self.lin)\n",
    "        if self.activ == relu:\n",
    "            grad_lin = relu_backward(grad, self.lin)\n",
    "        else:\n",
    "            grad_lin = grad\n",
    "        # grad_lin * d lin / d w \n",
    "        m = self.inp.shape[1]\n",
    "        self.d_w = grad_lin @ self.inp.T / m\n",
    "        # grad_lin * d lin / d b \n",
    "        self.d_b = np.sum(grad_lin, axis=1, keepdims=True) / m\n",
    "        \n",
    "        grad = np.dot(self.w.T, grad_lin)\n",
    "        \n",
    "        return grad"
   ]
  },
  {
   "cell_type": "code",
   "execution_count": 9,
   "metadata": {
    "executionInfo": {
     "elapsed": 275,
     "status": "ok",
     "timestamp": 1667663288846,
     "user": {
      "displayName": "Boris Zhestkov",
      "userId": "15589718157134474454"
     },
     "user_tz": -180
    },
    "id": "jUZcVU8z2T-t"
   },
   "outputs": [],
   "source": [
    "from typing import Tuple\n",
    "\n",
    "class Model:\n",
    "    def __init__(self, arch: Tuple[Tuple[int, int]], activation):\n",
    "        self.layers = []\n",
    "        for i, p in enumerate(arch):\n",
    "            self.layers.append(\n",
    "                LinearLayer(p[0], p[1], \n",
    "                            activation=activation if i < len(arch)-1 else 'None')\n",
    "                )\n",
    "        self._clear_state()\n",
    "    \n",
    "    def _clear_state(self):\n",
    "        for l in self.layers:\n",
    "            l._clear_state()\n",
    "\n",
    "    def forward(self, x):\n",
    "        for l in self.layers:\n",
    "            x = l.forward(x)\n",
    "        \n",
    "        return x\n",
    "\n",
    "    def backward(self, grad):\n",
    "        for l in reversed(self.layers):\n",
    "            grad = l.backward(grad)\n",
    "\n",
    "        return grad "
   ]
  },
  {
   "cell_type": "code",
   "execution_count": null,
   "metadata": {
    "id": "KmLRIBk4Fz12"
   },
   "outputs": [],
   "source": [
    "# Task 3\n",
    "# Realize SGD Momentum optimizer\n",
    "# velocity = momentum * velocity - lr * gradient\n",
    "# w = w + velocity"
   ]
  },
  {
   "cell_type": "code",
   "execution_count": 10,
   "metadata": {
    "executionInfo": {
     "elapsed": 2,
     "status": "ok",
     "timestamp": 1667663869197,
     "user": {
      "displayName": "Boris Zhestkov",
      "userId": "15589718157134474454"
     },
     "user_tz": -180
    },
    "id": "YRCDRdKNn8qs"
   },
   "outputs": [],
   "source": [
    "#для всей модели\n",
    "class SGDMomentum:\n",
    "    def __init__(self, model: Model, lr= 0.0001, momentum=0.9):\n",
    "        self.model = model\n",
    "        self.lr = lr\n",
    "        self.m = momentum\n",
    "        self.vel = [[np.zeros_like(layer.w), \n",
    "                     np.zeros_like(layer.b)] for layer in model.layers]\n",
    "\n",
    "    def step(self):\n",
    "        for i, layer in enumerate(self.model.layers):\n",
    "            self.vel[i][0] = self.vel[i][0] * self.m - self.lr * layer.d_w\n",
    "            self.vel[i][1] = self.vel[i][1] * self.m - self.lr * layer.d_b\n",
    "            layer.w += self.vel[i][0]\n",
    "            layer.b += self.vel[i][1]\n",
    "    \n",
    "    def zero_grad(self):\n",
    "        self.model._clear_state()"
   ]
  },
  {
   "cell_type": "code",
   "execution_count": null,
   "metadata": {
    "id": "sZPKwvE-Fz15"
   },
   "outputs": [],
   "source": []
  },
  {
   "cell_type": "code",
   "execution_count": null,
   "metadata": {
    "id": "EXoxTHw5Fz16"
   },
   "outputs": [],
   "source": []
  },
  {
   "cell_type": "code",
   "execution_count": 13,
   "metadata": {
    "executionInfo": {
     "elapsed": 2,
     "status": "ok",
     "timestamp": 1667662436380,
     "user": {
      "displayName": "Boris Zhestkov",
      "userId": "15589718157134474454"
     },
     "user_tz": -180
    },
    "id": "AN-E_lK_Fz18"
   },
   "outputs": [],
   "source": [
    "x = np.random.uniform(-3, 3, 20000)\n",
    "y = x**2 + np.random.randn()*0.01\n"
   ]
  },
  {
   "cell_type": "code",
   "execution_count": 32,
   "metadata": {
    "colab": {
     "base_uri": "https://localhost:8080/"
    },
    "executionInfo": {
     "elapsed": 45957,
     "status": "ok",
     "timestamp": 1667663918025,
     "user": {
      "displayName": "Boris Zhestkov",
      "userId": "15589718157134474454"
     },
     "user_tz": -180
    },
    "id": "j2aBvwzyFz18",
    "outputId": "06d14184-f677-46d2-f615-e57a7f6f3590"
   },
   "outputs": [
    {
     "name": "stdout",
     "output_type": "stream",
     "text": [
      "0 [[-0.10891004]] [[-0.13747336]] [[0.00104238]] [[0.06697353]]\n",
      "1 [[1.5956819]] [[4.49153697]] [[1.64224872]] [[4.44084708]]\n",
      "2 [[1.20386768]] [[4.4849274]] [[1.23738516]] [[4.4512964]]\n",
      "3 [[1.06216722]] [[4.45267061]] [[1.08657888]] [[4.42730886]]\n",
      "4 [[1.02410466]] [[4.41019571]] [[1.05562623]] [[4.39398925]]\n",
      "5 [[0.98406844]] [[4.36501065]] [[1.02587181]] [[4.35742824]]\n",
      "6 [[0.9785348]] [[4.32065065]] [[1.01095408]] [[4.3210827]]\n",
      "7 [[0.96294299]] [[4.27872239]] [[1.00129001]] [[4.28556285]]\n",
      "8 [[0.94714804]] [[4.23991651]] [[0.99643717]] [[4.25122574]]\n",
      "9 [[0.93358659]] [[4.20447974]] [[0.99501818]] [[4.21910533]]\n",
      "10 [[0.92257395]] [[4.17245305]] [[0.99206534]] [[4.18905675]]\n",
      "11 [[0.92592741]] [[4.14356091]] [[0.98788665]] [[4.16102797]]\n",
      "12 [[0.93575442]] [[4.11758773]] [[0.98278673]] [[4.13517617]]\n",
      "13 [[0.94410036]] [[4.09394043]] [[0.9769027]] [[4.11164999]]\n",
      "14 [[0.95156397]] [[4.0721336]] [[0.97044604]] [[4.09015636]]\n",
      "15 [[0.95811779]] [[4.05214328]] [[0.96383815]] [[4.07030202]]\n",
      "16 [[0.96405481]] [[4.03357012]] [[0.95704895]] [[4.05172694]]\n",
      "17 [[0.96943359]] [[4.01622758]] [[0.95022519]] [[4.03442946]]\n",
      "18 [[0.97449575]] [[4.00015695]] [[0.94371802]] [[4.01883455]]\n",
      "19 [[0.97904581]] [[3.98906828]] [[0.93878282]] [[4.00839355]]\n"
     ]
    }
   ],
   "source": [
    "\n",
    "model = Model(((1, 100), (100, 1)), activation='relu')\n",
    "optim = SGDMomentum(model, lr=0.00001)\n",
    "for e in range(20):\n",
    "    print(e, model.forward([[1]]), model.forward([[2]]), model.forward([[-1]]), model.forward([[-2]]))\n",
    "    for i, (val, t) in enumerate(zip(x, y)):\n",
    "        optim.zero_grad()\n",
    "        pred = model.forward(np.array([[val]]))\n",
    "        loss = mse_loss(t, pred)\n",
    "        grad = d_mse_loss(t, pred)\n",
    "        model.backward(grad)\n",
    "        optim.step()\n",
    "              \n"
   ]
  },
  {
   "cell_type": "code",
   "execution_count": 22,
   "metadata": {
    "id": "_5jAO8pVFz19"
   },
   "outputs": [
    {
     "name": "stdout",
     "output_type": "stream",
     "text": [
      "19 [[1.01222796]] [[4.01537406]] [[1.02153453]] [[553.49301296]]\n"
     ]
    }
   ],
   "source": [
    "print(e, model.forward([[1]]), model.forward([[2]]), model.forward([[-1]]), model.forward([[103]]))"
   ]
  },
  {
   "cell_type": "code",
   "execution_count": null,
   "metadata": {
    "id": "bOOY8douFz1-"
   },
   "outputs": [],
   "source": []
  },
  {
   "cell_type": "code",
   "execution_count": null,
   "metadata": {
    "id": "zROVnJAcFz1-"
   },
   "outputs": [],
   "source": []
  },
  {
   "cell_type": "code",
   "execution_count": null,
   "metadata": {
    "id": "2QWQyu5NFz1-"
   },
   "outputs": [],
   "source": []
  }
 ],
 "metadata": {
  "colab": {
   "collapsed_sections": [],
   "provenance": []
  },
  "kernelspec": {
   "display_name": "Python 3",
   "language": "python",
   "name": "python3"
  },
  "language_info": {
   "codemirror_mode": {
    "name": "ipython",
    "version": 3
   },
   "file_extension": ".py",
   "mimetype": "text/x-python",
   "name": "python",
   "nbconvert_exporter": "python",
   "pygments_lexer": "ipython3",
   "version": "3.7.0"
  }
 },
 "nbformat": 4,
 "nbformat_minor": 1
}
